{
 "cells": [
  {
   "cell_type": "code",
   "execution_count": 8,
   "id": "adf4a0fd",
   "metadata": {},
   "outputs": [],
   "source": [
    "import numpy as np\n",
    "import matplotlib.pyplot as plt\n",
    "import seaborn as sns\n",
    "import scipy\n",
    "from scipy.stats import fisher_exact"
   ]
  },
  {
   "cell_type": "code",
   "execution_count": 9,
   "id": "f6558f5c",
   "metadata": {},
   "outputs": [],
   "source": [
    "levende_gr1= 5\n",
    "død_gr1=13\n",
    "\n",
    "gruppe_1 = np.array([levende_gr1,død_gr1])"
   ]
  },
  {
   "cell_type": "code",
   "execution_count": 10,
   "id": "36bc1f3d",
   "metadata": {},
   "outputs": [],
   "source": [
    "levende_gr2= 20\n",
    "død_gr2=8\n",
    "\n",
    "gruppe_2 = np.array([levende_gr2,død_gr2])"
   ]
  },
  {
   "cell_type": "code",
   "execution_count": 11,
   "id": "92c27af3",
   "metadata": {},
   "outputs": [
    {
     "name": "stdout",
     "output_type": "stream",
     "text": [
      "[[ 5 13]\n",
      " [20  8]]\n"
     ]
    }
   ],
   "source": [
    "a = np.array([gruppe_1,gruppe_2])\n",
    "print(a)"
   ]
  },
  {
   "cell_type": "code",
   "execution_count": 12,
   "id": "80eb994e",
   "metadata": {},
   "outputs": [
    {
     "data": {
      "text/plain": [
       "SignificanceResult(statistic=0.15384615384615385, pvalue=0.006106202294441954)"
      ]
     },
     "execution_count": 12,
     "metadata": {},
     "output_type": "execute_result"
    }
   ],
   "source": [
    "fisher_exact(a, alternative='two-sided')"
   ]
  },
  {
   "cell_type": "code",
   "execution_count": null,
   "id": "7abb89d5",
   "metadata": {},
   "outputs": [],
   "source": []
  }
 ],
 "metadata": {
  "kernelspec": {
   "display_name": "Python 3 (ipykernel)",
   "language": "python",
   "name": "python3"
  },
  "language_info": {
   "codemirror_mode": {
    "name": "ipython",
    "version": 3
   },
   "file_extension": ".py",
   "mimetype": "text/x-python",
   "name": "python",
   "nbconvert_exporter": "python",
   "pygments_lexer": "ipython3",
   "version": "3.8.5"
  }
 },
 "nbformat": 4,
 "nbformat_minor": 5
}
