{
 "cells": [
  {
   "cell_type": "code",
   "execution_count": 1,
   "id": "07191f80",
   "metadata": {},
   "outputs": [],
   "source": [
    "import matplotlib.pyplot as plt\n",
    "import numpy as np\n",
    "from sklearn.model_selection import  train_test_split \n",
    "from sklearn.datasets import load_breast_cancer\n",
    "from sklearn.linear_model import LogisticRegression\n",
    "from sklearn.neural_network import MLPClassifier\n",
    "from sklearn.metrics import f1_score"
   ]
  },
  {
   "cell_type": "code",
   "execution_count": 2,
   "id": "3cf5c791",
   "metadata": {},
   "outputs": [],
   "source": [
    "# Last inn dataene\n",
    "cancer = load_breast_cancer(as_frame=True)"
   ]
  },
  {
   "cell_type": "code",
   "execution_count": 3,
   "id": "8c642c2a",
   "metadata": {},
   "outputs": [
    {
     "data": {
      "text/html": [
       "<div>\n",
       "<style scoped>\n",
       "    .dataframe tbody tr th:only-of-type {\n",
       "        vertical-align: middle;\n",
       "    }\n",
       "\n",
       "    .dataframe tbody tr th {\n",
       "        vertical-align: top;\n",
       "    }\n",
       "\n",
       "    .dataframe thead th {\n",
       "        text-align: right;\n",
       "    }\n",
       "</style>\n",
       "<table border=\"1\" class=\"dataframe\">\n",
       "  <thead>\n",
       "    <tr style=\"text-align: right;\">\n",
       "      <th></th>\n",
       "      <th>mean radius</th>\n",
       "      <th>mean texture</th>\n",
       "      <th>mean perimeter</th>\n",
       "      <th>mean area</th>\n",
       "      <th>mean smoothness</th>\n",
       "      <th>mean compactness</th>\n",
       "      <th>mean concavity</th>\n",
       "      <th>mean concave points</th>\n",
       "      <th>mean symmetry</th>\n",
       "      <th>mean fractal dimension</th>\n",
       "      <th>...</th>\n",
       "      <th>worst radius</th>\n",
       "      <th>worst texture</th>\n",
       "      <th>worst perimeter</th>\n",
       "      <th>worst area</th>\n",
       "      <th>worst smoothness</th>\n",
       "      <th>worst compactness</th>\n",
       "      <th>worst concavity</th>\n",
       "      <th>worst concave points</th>\n",
       "      <th>worst symmetry</th>\n",
       "      <th>worst fractal dimension</th>\n",
       "    </tr>\n",
       "  </thead>\n",
       "  <tbody>\n",
       "    <tr>\n",
       "      <th>0</th>\n",
       "      <td>17.99</td>\n",
       "      <td>10.38</td>\n",
       "      <td>122.80</td>\n",
       "      <td>1001.0</td>\n",
       "      <td>0.11840</td>\n",
       "      <td>0.27760</td>\n",
       "      <td>0.3001</td>\n",
       "      <td>0.14710</td>\n",
       "      <td>0.2419</td>\n",
       "      <td>0.07871</td>\n",
       "      <td>...</td>\n",
       "      <td>25.38</td>\n",
       "      <td>17.33</td>\n",
       "      <td>184.60</td>\n",
       "      <td>2019.0</td>\n",
       "      <td>0.1622</td>\n",
       "      <td>0.6656</td>\n",
       "      <td>0.7119</td>\n",
       "      <td>0.2654</td>\n",
       "      <td>0.4601</td>\n",
       "      <td>0.11890</td>\n",
       "    </tr>\n",
       "    <tr>\n",
       "      <th>1</th>\n",
       "      <td>20.57</td>\n",
       "      <td>17.77</td>\n",
       "      <td>132.90</td>\n",
       "      <td>1326.0</td>\n",
       "      <td>0.08474</td>\n",
       "      <td>0.07864</td>\n",
       "      <td>0.0869</td>\n",
       "      <td>0.07017</td>\n",
       "      <td>0.1812</td>\n",
       "      <td>0.05667</td>\n",
       "      <td>...</td>\n",
       "      <td>24.99</td>\n",
       "      <td>23.41</td>\n",
       "      <td>158.80</td>\n",
       "      <td>1956.0</td>\n",
       "      <td>0.1238</td>\n",
       "      <td>0.1866</td>\n",
       "      <td>0.2416</td>\n",
       "      <td>0.1860</td>\n",
       "      <td>0.2750</td>\n",
       "      <td>0.08902</td>\n",
       "    </tr>\n",
       "    <tr>\n",
       "      <th>2</th>\n",
       "      <td>19.69</td>\n",
       "      <td>21.25</td>\n",
       "      <td>130.00</td>\n",
       "      <td>1203.0</td>\n",
       "      <td>0.10960</td>\n",
       "      <td>0.15990</td>\n",
       "      <td>0.1974</td>\n",
       "      <td>0.12790</td>\n",
       "      <td>0.2069</td>\n",
       "      <td>0.05999</td>\n",
       "      <td>...</td>\n",
       "      <td>23.57</td>\n",
       "      <td>25.53</td>\n",
       "      <td>152.50</td>\n",
       "      <td>1709.0</td>\n",
       "      <td>0.1444</td>\n",
       "      <td>0.4245</td>\n",
       "      <td>0.4504</td>\n",
       "      <td>0.2430</td>\n",
       "      <td>0.3613</td>\n",
       "      <td>0.08758</td>\n",
       "    </tr>\n",
       "    <tr>\n",
       "      <th>3</th>\n",
       "      <td>11.42</td>\n",
       "      <td>20.38</td>\n",
       "      <td>77.58</td>\n",
       "      <td>386.1</td>\n",
       "      <td>0.14250</td>\n",
       "      <td>0.28390</td>\n",
       "      <td>0.2414</td>\n",
       "      <td>0.10520</td>\n",
       "      <td>0.2597</td>\n",
       "      <td>0.09744</td>\n",
       "      <td>...</td>\n",
       "      <td>14.91</td>\n",
       "      <td>26.50</td>\n",
       "      <td>98.87</td>\n",
       "      <td>567.7</td>\n",
       "      <td>0.2098</td>\n",
       "      <td>0.8663</td>\n",
       "      <td>0.6869</td>\n",
       "      <td>0.2575</td>\n",
       "      <td>0.6638</td>\n",
       "      <td>0.17300</td>\n",
       "    </tr>\n",
       "    <tr>\n",
       "      <th>4</th>\n",
       "      <td>20.29</td>\n",
       "      <td>14.34</td>\n",
       "      <td>135.10</td>\n",
       "      <td>1297.0</td>\n",
       "      <td>0.10030</td>\n",
       "      <td>0.13280</td>\n",
       "      <td>0.1980</td>\n",
       "      <td>0.10430</td>\n",
       "      <td>0.1809</td>\n",
       "      <td>0.05883</td>\n",
       "      <td>...</td>\n",
       "      <td>22.54</td>\n",
       "      <td>16.67</td>\n",
       "      <td>152.20</td>\n",
       "      <td>1575.0</td>\n",
       "      <td>0.1374</td>\n",
       "      <td>0.2050</td>\n",
       "      <td>0.4000</td>\n",
       "      <td>0.1625</td>\n",
       "      <td>0.2364</td>\n",
       "      <td>0.07678</td>\n",
       "    </tr>\n",
       "  </tbody>\n",
       "</table>\n",
       "<p>5 rows × 30 columns</p>\n",
       "</div>"
      ],
      "text/plain": [
       "   mean radius  mean texture  mean perimeter  mean area  mean smoothness  \\\n",
       "0        17.99         10.38          122.80     1001.0          0.11840   \n",
       "1        20.57         17.77          132.90     1326.0          0.08474   \n",
       "2        19.69         21.25          130.00     1203.0          0.10960   \n",
       "3        11.42         20.38           77.58      386.1          0.14250   \n",
       "4        20.29         14.34          135.10     1297.0          0.10030   \n",
       "\n",
       "   mean compactness  mean concavity  mean concave points  mean symmetry  \\\n",
       "0           0.27760          0.3001              0.14710         0.2419   \n",
       "1           0.07864          0.0869              0.07017         0.1812   \n",
       "2           0.15990          0.1974              0.12790         0.2069   \n",
       "3           0.28390          0.2414              0.10520         0.2597   \n",
       "4           0.13280          0.1980              0.10430         0.1809   \n",
       "\n",
       "   mean fractal dimension  ...  worst radius  worst texture  worst perimeter  \\\n",
       "0                 0.07871  ...         25.38          17.33           184.60   \n",
       "1                 0.05667  ...         24.99          23.41           158.80   \n",
       "2                 0.05999  ...         23.57          25.53           152.50   \n",
       "3                 0.09744  ...         14.91          26.50            98.87   \n",
       "4                 0.05883  ...         22.54          16.67           152.20   \n",
       "\n",
       "   worst area  worst smoothness  worst compactness  worst concavity  \\\n",
       "0      2019.0            0.1622             0.6656           0.7119   \n",
       "1      1956.0            0.1238             0.1866           0.2416   \n",
       "2      1709.0            0.1444             0.4245           0.4504   \n",
       "3       567.7            0.2098             0.8663           0.6869   \n",
       "4      1575.0            0.1374             0.2050           0.4000   \n",
       "\n",
       "   worst concave points  worst symmetry  worst fractal dimension  \n",
       "0                0.2654          0.4601                  0.11890  \n",
       "1                0.1860          0.2750                  0.08902  \n",
       "2                0.2430          0.3613                  0.08758  \n",
       "3                0.2575          0.6638                  0.17300  \n",
       "4                0.1625          0.2364                  0.07678  \n",
       "\n",
       "[5 rows x 30 columns]"
      ]
     },
     "execution_count": 3,
     "metadata": {},
     "output_type": "execute_result"
    }
   ],
   "source": [
    "X_data = cancer[\"data\"]\n",
    "X_data.head()"
   ]
  },
  {
   "cell_type": "code",
   "execution_count": 4,
   "id": "6ae748f1",
   "metadata": {},
   "outputs": [
    {
     "data": {
      "text/plain": [
       "0    0\n",
       "1    0\n",
       "2    0\n",
       "3    0\n",
       "4    0\n",
       "Name: target, dtype: int32"
      ]
     },
     "execution_count": 4,
     "metadata": {},
     "output_type": "execute_result"
    }
   ],
   "source": [
    "y_data = cancer[\"target\"]\n",
    "y_data.head()"
   ]
  },
  {
   "cell_type": "code",
   "execution_count": 5,
   "id": "67a4c154",
   "metadata": {},
   "outputs": [],
   "source": [
    "X_train, X_test, y_train, y_test = train_test_split(X_data,y_data,random_state=42)"
   ]
  },
  {
   "cell_type": "code",
   "execution_count": 6,
   "id": "14735499",
   "metadata": {},
   "outputs": [],
   "source": [
    "from sklearn.model_selection import KFold"
   ]
  },
  {
   "cell_type": "code",
   "execution_count": 7,
   "id": "c0f4af33",
   "metadata": {},
   "outputs": [],
   "source": [
    "kf = KFold(n_splits=5)"
   ]
  },
  {
   "cell_type": "code",
   "execution_count": 8,
   "id": "c8feb674",
   "metadata": {},
   "outputs": [
    {
     "data": {
      "text/plain": [
       "512    0\n",
       "402    1\n",
       "Name: target, dtype: int32"
      ]
     },
     "execution_count": 8,
     "metadata": {},
     "output_type": "execute_result"
    }
   ],
   "source": [
    "y_train.iloc[[1,2]]"
   ]
  },
  {
   "cell_type": "code",
   "execution_count": 9,
   "id": "b78fdeb1",
   "metadata": {},
   "outputs": [
    {
     "name": "stdout",
     "output_type": "stream",
     "text": [
      "Fold 1:\n",
      "F1-score =  0.975\n",
      "Fold 2:\n",
      "F1-score =  0.947\n",
      "Fold 3:\n",
      "F1-score =  0.981\n",
      "Fold 4:\n",
      "F1-score =  0.946\n",
      "Fold 5:\n",
      "F1-score =  0.936\n"
     ]
    }
   ],
   "source": [
    "f1_score_log_reg = []\n",
    "for i, (train_index, val_index) in enumerate(kf.split(X_train)):\n",
    "    print(f\"Fold {i+1}:\")\n",
    "    \n",
    "    X_train_cv, X_val_cv = X_train.iloc[train_index], X_train.iloc[val_index]\n",
    "    y_train_cv, y_val_cv = y_train.iloc[train_index], y_train.iloc[val_index]\n",
    "    \n",
    "    logreg = LogisticRegression(solver='lbfgs',max_iter=5000)\n",
    "    logreg.fit(X_train_cv, y_train_cv)\n",
    "    \n",
    "    y_val_hat = logreg.predict_proba(X_val_cv)[:,1]\n",
    "    score = f1_score(y_val_cv,(y_val_hat>0.5)*1,average='binary').round(3)\n",
    "    print(\"F1-score = \",score)\n",
    "    f1_score_log_reg.append(score)\n",
    "logreg = LogisticRegression(solver='lbfgs',max_iter=5000)\n",
    "logreg.fit(X_train, y_train)\n",
    "y_test_hat = logreg.predict_proba(X_test)[:,1]\n",
    "logreg_test_score = f1_score(y_test,(y_test_hat>0.5)*1,average='binary').round(3)"
   ]
  },
  {
   "cell_type": "code",
   "execution_count": 10,
   "id": "f37aeb68",
   "metadata": {},
   "outputs": [
    {
     "name": "stdout",
     "output_type": "stream",
     "text": [
      "Fold 1:\n",
      "F1-score =  0.975\n",
      "Fold 2:\n",
      "F1-score =  0.895\n",
      "Fold 3:\n",
      "F1-score =  0.963\n",
      "Fold 4:\n",
      "F1-score =  0.878\n",
      "Fold 5:\n",
      "F1-score =  0.912\n"
     ]
    }
   ],
   "source": [
    "f1_score_mlp = []\n",
    "for i, (train_index, val_index) in enumerate(kf.split(X_train)):\n",
    "    print(f\"Fold {i+1}:\")\n",
    "    \n",
    "    X_train_cv, X_val_cv = X_train.iloc[train_index], X_train.iloc[val_index]\n",
    "    y_train_cv, y_val_cv = y_train.iloc[train_index], y_train.iloc[val_index]\n",
    "    \n",
    "    mlp = MLPClassifier(random_state=1, max_iter=5000,solver=\"sgd\",learning_rate=\"adaptive\")\n",
    "    mlp.fit(X_train_cv, y_train_cv)\n",
    "    \n",
    "    y_val_hat = mlp.predict_proba(X_val_cv)[:,1]\n",
    "    score = f1_score(y_val_cv,(y_val_hat>0.5)*1,average='binary').round(3)\n",
    "    print(\"F1-score = \",score)\n",
    "    f1_score_mlp.append(score)\n",
    "mlp = MLPClassifier(random_state=1, max_iter=5000,solver=\"sgd\",learning_rate=\"adaptive\")\n",
    "mlp.fit(X_train, y_train)\n",
    "y_test_hat = mlp.predict_proba(X_test)[:,1]\n",
    "mlp_test_score = f1_score(y_test,(y_test_hat>0.5)*1,average='binary').round(3)"
   ]
  },
  {
   "cell_type": "code",
   "execution_count": 11,
   "id": "d4b7393b",
   "metadata": {},
   "outputs": [
    {
     "name": "stdout",
     "output_type": "stream",
     "text": [
      "Logistic Regression CV score= 0.957 ± 0.018\n",
      "Logistic Regression test score = 0.972\n"
     ]
    }
   ],
   "source": [
    "log_reg_mean = np.asarray(f1_score_log_reg).mean().round(3)\n",
    "log_reg_std = np.asarray(f1_score_log_reg).std().round(3)\n",
    "print(r\"Logistic Regression CV score= {} ± {}\".format(log_reg_mean,log_reg_std))\n",
    "print(r\"Logistic Regression test score = {}\".format(logreg_test_score))"
   ]
  },
  {
   "cell_type": "code",
   "execution_count": 12,
   "id": "ab33fb29",
   "metadata": {},
   "outputs": [
    {
     "name": "stdout",
     "output_type": "stream",
     "text": [
      "MLP CV score = 0.925 ± 0.038\n",
      "MLP test score = 0.95\n"
     ]
    }
   ],
   "source": [
    "mlp_mean = np.asarray(f1_score_mlp).mean().round(3)\n",
    "mlp_std = np.asarray(f1_score_mlp).std().round(3)\n",
    "print(r\"MLP CV score = {} ± {}\".format(mlp_mean,mlp_std))\n",
    "print(r\"MLP test score = {}\".format(mlp_test_score))"
   ]
  },
  {
   "cell_type": "code",
   "execution_count": null,
   "id": "d5740f89",
   "metadata": {},
   "outputs": [],
   "source": []
  }
 ],
 "metadata": {
  "kernelspec": {
   "display_name": "Python 3 (ipykernel)",
   "language": "python",
   "name": "python3"
  },
  "language_info": {
   "codemirror_mode": {
    "name": "ipython",
    "version": 3
   },
   "file_extension": ".py",
   "mimetype": "text/x-python",
   "name": "python",
   "nbconvert_exporter": "python",
   "pygments_lexer": "ipython3",
   "version": "3.8.5"
  }
 },
 "nbformat": 4,
 "nbformat_minor": 5
}
