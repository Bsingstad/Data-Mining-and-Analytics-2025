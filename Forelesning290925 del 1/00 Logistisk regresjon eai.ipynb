{
 "cells": [
  {
   "cell_type": "code",
   "execution_count": 1,
   "id": "d5742165",
   "metadata": {
    "slideshow": {
     "slide_type": "slide"
    }
   },
   "outputs": [],
   "source": [
    "import math\n",
    "import numpy as np\n",
    "import matplotlib.pyplot as plt\n",
    "# input-variabel:\n",
    "x = np.array([4, 3, 0]) \n",
    "# koeffisienter:\n",
    "c1 = np.array([-0.5, 0.1, 0.08]) \n",
    "c2 = np.array([-0.2, 0.2, 0.31])\n",
    "c3 = np.array([.5, -.1, 2.53])"
   ]
  },
  {
   "cell_type": "markdown",
   "id": "a044aaf9",
   "metadata": {
    "slideshow": {
     "slide_type": "fragment"
    }
   },
   "source": [
    "$\\sigma(z)$ =  $\\frac{1}{1+e^{-z}}$"
   ]
  },
  {
   "cell_type": "code",
   "execution_count": 2,
   "id": "0be611db",
   "metadata": {
    "slideshow": {
     "slide_type": "slide"
    }
   },
   "outputs": [],
   "source": [
    "def sigmoid(z):\n",
    "    return 1 / (1 + math.exp(-z))"
   ]
  },
  {
   "attachments": {
    "4.1-2_Logistic-regression.svg": {
     "image/svg+xml": [
      "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"
     ]
    }
   },
   "cell_type": "markdown",
   "id": "91d72fed",
   "metadata": {
    "slideshow": {
     "slide_type": "slide"
    }
   },
   "source": [
    "![4.1-2_Logistic-regression.svg](attachment:4.1-2_Logistic-regression.svg)"
   ]
  },
  {
   "cell_type": "code",
   "execution_count": 3,
   "id": "ed05d321",
   "metadata": {
    "slideshow": {
     "slide_type": "slide"
    }
   },
   "outputs": [
    {
     "name": "stdout",
     "output_type": "stream",
     "text": [
      "Utregning c1 u/sigmoid =  -1.7\n",
      "Utregning c2 u/sigmoid =  -0.19999999999999996\n",
      "Utregning c2 =  0.45016600268752216\n",
      "Utregning c3 u/sigmoid =  1.7\n",
      "Utregning c3 =  0.8455347349164652\n"
     ]
    }
   ],
   "source": [
    "a1 = (x*c1).sum()\n",
    "print(\"Utregning c1 u/sigmoid = \",a1)\n",
    "\n",
    "a2 = (x*c2).sum()\n",
    "print(\"Utregning c2 u/sigmoid = \",a2)\n",
    "print(\"Utregning c2 = \",sigmoid(a2))\n",
    "\n",
    "a3 = (x*c3).sum()\n",
    "print(\"Utregning c3 u/sigmoid = \",a3)\n",
    "print(\"Utregning c3 = \",sigmoid(a3))"
   ]
  },
  {
   "cell_type": "code",
   "execution_count": 4,
   "id": "7d0a0939",
   "metadata": {},
   "outputs": [],
   "source": [
    "sigmoid_values = []\n",
    "for i in np.arange(-10,10):\n",
    "    sigmoid_values.append(sigmoid(i))\n",
    "    "
   ]
  },
  {
   "cell_type": "code",
   "execution_count": 5,
   "id": "696def3b",
   "metadata": {},
   "outputs": [
    {
     "data": {
      "text/plain": [
       "<matplotlib.collections.PathCollection at 0x17793600ac0>"
      ]
     },
     "execution_count": 5,
     "metadata": {},
     "output_type": "execute_result"
    },
    {
     "data": {
      "image/png": "[encoded data removed]",
      "text/plain": [
       "<Figure size 432x288 with 1 Axes>"
      ]
     },
     "metadata": {
      "needs_background": "light"
     },
     "output_type": "display_data"
    }
   ],
   "source": [
    "plt.plot(np.arange(-10,10),np.asarray(sigmoid_values))\n",
    "plt.scatter(a1, sigmoid(a1), color=\"C1\")\n",
    "plt.scatter(a2, sigmoid(a2), color=\"C1\")\n",
    "plt.scatter(a3, sigmoid(a3), color=\"C1\")"
   ]
  },
  {
   "cell_type": "code",
   "execution_count": null,
   "id": "df2549db",
   "metadata": {},
   "outputs": [],
   "source": []
  }
 ],
 "metadata": {
  "kernelspec": {
   "display_name": "Python 3 (ipykernel)",
   "language": "python",
   "name": "python3"
  },
  "language_info": {
   "codemirror_mode": {
    "name": "ipython",
    "version": 3
   },
   "file_extension": ".py",
   "mimetype": "text/x-python",
   "name": "python",
   "nbconvert_exporter": "python",
   "pygments_lexer": "ipython3",
   "version": "3.8.5"
  }
 },
 "nbformat": 4,
 "nbformat_minor": 5
}
