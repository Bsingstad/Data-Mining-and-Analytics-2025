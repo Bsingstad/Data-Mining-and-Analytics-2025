{
 "cells": [
  {
   "cell_type": "code",
   "execution_count": 1,
   "metadata": {},
   "outputs": [],
   "source": [
    "import pandas as pd\n",
    "import matplotlib.pyplot as plt\n",
    "import seaborn as sns\n",
    "import numpy as np"
   ]
  },
  {
   "cell_type": "code",
   "execution_count": 2,
   "metadata": {},
   "outputs": [],
   "source": [
    "df = pd.read_csv(\"../data/student_performance.csv\")"
   ]
  },
  {
   "cell_type": "code",
   "execution_count": 3,
   "metadata": {},
   "outputs": [
    {
     "data": {
      "text/html": [
       "<div>\n",
       "<style scoped>\n",
       "    .dataframe tbody tr th:only-of-type {\n",
       "        vertical-align: middle;\n",
       "    }\n",
       "\n",
       "    .dataframe tbody tr th {\n",
       "        vertical-align: top;\n",
       "    }\n",
       "\n",
       "    .dataframe thead th {\n",
       "        text-align: right;\n",
       "    }\n",
       "</style>\n",
       "<table border=\"1\" class=\"dataframe\">\n",
       "  <thead>\n",
       "    <tr style=\"text-align: right;\">\n",
       "      <th></th>\n",
       "      <th>StudentID</th>\n",
       "      <th>Name</th>\n",
       "      <th>Gender</th>\n",
       "      <th>AttendanceRate</th>\n",
       "      <th>StudyHoursPerWeek</th>\n",
       "      <th>PreviousGrade</th>\n",
       "      <th>ExtracurricularActivities</th>\n",
       "      <th>ParentalSupport</th>\n",
       "      <th>FinalGrade</th>\n",
       "    </tr>\n",
       "  </thead>\n",
       "  <tbody>\n",
       "    <tr>\n",
       "      <th>0</th>\n",
       "      <td>1</td>\n",
       "      <td>John</td>\n",
       "      <td>Male</td>\n",
       "      <td>85</td>\n",
       "      <td>15</td>\n",
       "      <td>78</td>\n",
       "      <td>1</td>\n",
       "      <td>High</td>\n",
       "      <td>80</td>\n",
       "    </tr>\n",
       "    <tr>\n",
       "      <th>1</th>\n",
       "      <td>2</td>\n",
       "      <td>Sarah</td>\n",
       "      <td>Female</td>\n",
       "      <td>90</td>\n",
       "      <td>20</td>\n",
       "      <td>85</td>\n",
       "      <td>2</td>\n",
       "      <td>Medium</td>\n",
       "      <td>87</td>\n",
       "    </tr>\n",
       "    <tr>\n",
       "      <th>2</th>\n",
       "      <td>3</td>\n",
       "      <td>Alex</td>\n",
       "      <td>Male</td>\n",
       "      <td>78</td>\n",
       "      <td>10</td>\n",
       "      <td>65</td>\n",
       "      <td>0</td>\n",
       "      <td>Low</td>\n",
       "      <td>68</td>\n",
       "    </tr>\n",
       "    <tr>\n",
       "      <th>3</th>\n",
       "      <td>4</td>\n",
       "      <td>Michael</td>\n",
       "      <td>Male</td>\n",
       "      <td>92</td>\n",
       "      <td>25</td>\n",
       "      <td>90</td>\n",
       "      <td>3</td>\n",
       "      <td>High</td>\n",
       "      <td>92</td>\n",
       "    </tr>\n",
       "    <tr>\n",
       "      <th>4</th>\n",
       "      <td>5</td>\n",
       "      <td>Emma</td>\n",
       "      <td>Female</td>\n",
       "      <td>88</td>\n",
       "      <td>18</td>\n",
       "      <td>82</td>\n",
       "      <td>2</td>\n",
       "      <td>Medium</td>\n",
       "      <td>85</td>\n",
       "    </tr>\n",
       "  </tbody>\n",
       "</table>\n",
       "</div>"
      ],
      "text/plain": [
       "   StudentID     Name  Gender  AttendanceRate  StudyHoursPerWeek  \\\n",
       "0          1     John    Male              85                 15   \n",
       "1          2    Sarah  Female              90                 20   \n",
       "2          3     Alex    Male              78                 10   \n",
       "3          4  Michael    Male              92                 25   \n",
       "4          5     Emma  Female              88                 18   \n",
       "\n",
       "   PreviousGrade  ExtracurricularActivities ParentalSupport  FinalGrade  \n",
       "0             78                          1            High          80  \n",
       "1             85                          2          Medium          87  \n",
       "2             65                          0             Low          68  \n",
       "3             90                          3            High          92  \n",
       "4             82                          2          Medium          85  "
      ]
     },
     "execution_count": 3,
     "metadata": {},
     "output_type": "execute_result"
    }
   ],
   "source": [
    "df.head()"
   ]
  },
  {
   "cell_type": "code",
   "execution_count": 17,
   "metadata": {},
   "outputs": [],
   "source": [
    "df.drop(columns=[\"Name\", \"Gender\", \"ParentalSupport\"], inplace=True)"
   ]
  },
  {
   "cell_type": "code",
   "execution_count": 18,
   "metadata": {},
   "outputs": [
    {
     "data": {
      "text/html": [
       "<div>\n",
       "<style scoped>\n",
       "    .dataframe tbody tr th:only-of-type {\n",
       "        vertical-align: middle;\n",
       "    }\n",
       "\n",
       "    .dataframe tbody tr th {\n",
       "        vertical-align: top;\n",
       "    }\n",
       "\n",
       "    .dataframe thead th {\n",
       "        text-align: right;\n",
       "    }\n",
       "</style>\n",
       "<table border=\"1\" class=\"dataframe\">\n",
       "  <thead>\n",
       "    <tr style=\"text-align: right;\">\n",
       "      <th></th>\n",
       "      <th>StudentID</th>\n",
       "      <th>AttendanceRate</th>\n",
       "      <th>StudyHoursPerWeek</th>\n",
       "      <th>PreviousGrade</th>\n",
       "      <th>ExtracurricularActivities</th>\n",
       "      <th>FinalGrade</th>\n",
       "    </tr>\n",
       "  </thead>\n",
       "  <tbody>\n",
       "    <tr>\n",
       "      <th>0</th>\n",
       "      <td>1</td>\n",
       "      <td>85</td>\n",
       "      <td>15</td>\n",
       "      <td>78</td>\n",
       "      <td>1</td>\n",
       "      <td>80</td>\n",
       "    </tr>\n",
       "    <tr>\n",
       "      <th>1</th>\n",
       "      <td>2</td>\n",
       "      <td>90</td>\n",
       "      <td>20</td>\n",
       "      <td>85</td>\n",
       "      <td>2</td>\n",
       "      <td>87</td>\n",
       "    </tr>\n",
       "    <tr>\n",
       "      <th>2</th>\n",
       "      <td>3</td>\n",
       "      <td>78</td>\n",
       "      <td>10</td>\n",
       "      <td>65</td>\n",
       "      <td>0</td>\n",
       "      <td>68</td>\n",
       "    </tr>\n",
       "    <tr>\n",
       "      <th>3</th>\n",
       "      <td>4</td>\n",
       "      <td>92</td>\n",
       "      <td>25</td>\n",
       "      <td>90</td>\n",
       "      <td>3</td>\n",
       "      <td>92</td>\n",
       "    </tr>\n",
       "    <tr>\n",
       "      <th>4</th>\n",
       "      <td>5</td>\n",
       "      <td>88</td>\n",
       "      <td>18</td>\n",
       "      <td>82</td>\n",
       "      <td>2</td>\n",
       "      <td>85</td>\n",
       "    </tr>\n",
       "  </tbody>\n",
       "</table>\n",
       "</div>"
      ],
      "text/plain": [
       "   StudentID  AttendanceRate  StudyHoursPerWeek  PreviousGrade  \\\n",
       "0          1              85                 15             78   \n",
       "1          2              90                 20             85   \n",
       "2          3              78                 10             65   \n",
       "3          4              92                 25             90   \n",
       "4          5              88                 18             82   \n",
       "\n",
       "   ExtracurricularActivities  FinalGrade  \n",
       "0                          1          80  \n",
       "1                          2          87  \n",
       "2                          0          68  \n",
       "3                          3          92  \n",
       "4                          2          85  "
      ]
     },
     "execution_count": 18,
     "metadata": {},
     "output_type": "execute_result"
    }
   ],
   "source": [
    "df.head()"
   ]
  },
  {
   "cell_type": "code",
   "execution_count": 19,
   "metadata": {},
   "outputs": [
    {
     "data": {
      "text/html": [
       "<div>\n",
       "<style scoped>\n",
       "    .dataframe tbody tr th:only-of-type {\n",
       "        vertical-align: middle;\n",
       "    }\n",
       "\n",
       "    .dataframe tbody tr th {\n",
       "        vertical-align: top;\n",
       "    }\n",
       "\n",
       "    .dataframe thead th {\n",
       "        text-align: right;\n",
       "    }\n",
       "</style>\n",
       "<table border=\"1\" class=\"dataframe\">\n",
       "  <thead>\n",
       "    <tr style=\"text-align: right;\">\n",
       "      <th></th>\n",
       "      <th>StudentID</th>\n",
       "      <th>AttendanceRate</th>\n",
       "      <th>StudyHoursPerWeek</th>\n",
       "      <th>PreviousGrade</th>\n",
       "      <th>ExtracurricularActivities</th>\n",
       "      <th>FinalGrade</th>\n",
       "    </tr>\n",
       "  </thead>\n",
       "  <tbody>\n",
       "    <tr>\n",
       "      <th>count</th>\n",
       "      <td>10.00000</td>\n",
       "      <td>10.000000</td>\n",
       "      <td>10.000000</td>\n",
       "      <td>10.000000</td>\n",
       "      <td>10.000000</td>\n",
       "      <td>10.000000</td>\n",
       "    </tr>\n",
       "    <tr>\n",
       "      <th>mean</th>\n",
       "      <td>5.50000</td>\n",
       "      <td>85.600000</td>\n",
       "      <td>17.700000</td>\n",
       "      <td>78.100000</td>\n",
       "      <td>1.500000</td>\n",
       "      <td>80.200000</td>\n",
       "    </tr>\n",
       "    <tr>\n",
       "      <th>std</th>\n",
       "      <td>3.02765</td>\n",
       "      <td>7.441625</td>\n",
       "      <td>6.848357</td>\n",
       "      <td>10.170218</td>\n",
       "      <td>1.080123</td>\n",
       "      <td>10.097304</td>\n",
       "    </tr>\n",
       "    <tr>\n",
       "      <th>min</th>\n",
       "      <td>1.00000</td>\n",
       "      <td>70.000000</td>\n",
       "      <td>8.000000</td>\n",
       "      <td>60.000000</td>\n",
       "      <td>0.000000</td>\n",
       "      <td>62.000000</td>\n",
       "    </tr>\n",
       "    <tr>\n",
       "      <th>25%</th>\n",
       "      <td>3.25000</td>\n",
       "      <td>82.750000</td>\n",
       "      <td>12.750000</td>\n",
       "      <td>71.750000</td>\n",
       "      <td>1.000000</td>\n",
       "      <td>73.500000</td>\n",
       "    </tr>\n",
       "    <tr>\n",
       "      <th>50%</th>\n",
       "      <td>5.50000</td>\n",
       "      <td>86.500000</td>\n",
       "      <td>17.500000</td>\n",
       "      <td>80.000000</td>\n",
       "      <td>1.500000</td>\n",
       "      <td>82.500000</td>\n",
       "    </tr>\n",
       "    <tr>\n",
       "      <th>75%</th>\n",
       "      <td>7.75000</td>\n",
       "      <td>90.750000</td>\n",
       "      <td>21.500000</td>\n",
       "      <td>85.750000</td>\n",
       "      <td>2.000000</td>\n",
       "      <td>87.750000</td>\n",
       "    </tr>\n",
       "    <tr>\n",
       "      <th>max</th>\n",
       "      <td>10.00000</td>\n",
       "      <td>95.000000</td>\n",
       "      <td>30.000000</td>\n",
       "      <td>90.000000</td>\n",
       "      <td>3.000000</td>\n",
       "      <td>92.000000</td>\n",
       "    </tr>\n",
       "  </tbody>\n",
       "</table>\n",
       "</div>"
      ],
      "text/plain": [
       "       StudentID  AttendanceRate  StudyHoursPerWeek  PreviousGrade  \\\n",
       "count   10.00000       10.000000          10.000000      10.000000   \n",
       "mean     5.50000       85.600000          17.700000      78.100000   \n",
       "std      3.02765        7.441625           6.848357      10.170218   \n",
       "min      1.00000       70.000000           8.000000      60.000000   \n",
       "25%      3.25000       82.750000          12.750000      71.750000   \n",
       "50%      5.50000       86.500000          17.500000      80.000000   \n",
       "75%      7.75000       90.750000          21.500000      85.750000   \n",
       "max     10.00000       95.000000          30.000000      90.000000   \n",
       "\n",
       "       ExtracurricularActivities  FinalGrade  \n",
       "count                  10.000000   10.000000  \n",
       "mean                    1.500000   80.200000  \n",
       "std                     1.080123   10.097304  \n",
       "min                     0.000000   62.000000  \n",
       "25%                     1.000000   73.500000  \n",
       "50%                     1.500000   82.500000  \n",
       "75%                     2.000000   87.750000  \n",
       "max                     3.000000   92.000000  "
      ]
     },
     "execution_count": 19,
     "metadata": {},
     "output_type": "execute_result"
    }
   ],
   "source": [
    "df.describe()"
   ]
  },
  {
   "cell_type": "code",
   "execution_count": 20,
   "metadata": {},
   "outputs": [
    {
     "data": {
      "image/png": "[encoded data removed]",
      "text/plain": [
       "<Figure size 432x288 with 1 Axes>"
      ]
     },
     "metadata": {
      "needs_background": "light"
     },
     "output_type": "display_data"
    }
   ],
   "source": [
    "plt.scatter(x=df[\"ExtracurricularActivities\"],y= df[\"FinalGrade\"])\n",
    "plt.xlabel(\"Utenomfaglige aktiviteter\")\n",
    "plt.ylabel(\"Sluttkarakter\")\n",
    "\n",
    "plt.show()"
   ]
  },
  {
   "cell_type": "code",
   "execution_count": 21,
   "metadata": {},
   "outputs": [
    {
     "data": {
      "text/html": [
       "<div>\n",
       "<style scoped>\n",
       "    .dataframe tbody tr th:only-of-type {\n",
       "        vertical-align: middle;\n",
       "    }\n",
       "\n",
       "    .dataframe tbody tr th {\n",
       "        vertical-align: top;\n",
       "    }\n",
       "\n",
       "    .dataframe thead th {\n",
       "        text-align: right;\n",
       "    }\n",
       "</style>\n",
       "<table border=\"1\" class=\"dataframe\">\n",
       "  <thead>\n",
       "    <tr style=\"text-align: right;\">\n",
       "      <th></th>\n",
       "      <th>StudentID</th>\n",
       "      <th>AttendanceRate</th>\n",
       "      <th>StudyHoursPerWeek</th>\n",
       "      <th>PreviousGrade</th>\n",
       "      <th>ExtracurricularActivities</th>\n",
       "      <th>FinalGrade</th>\n",
       "    </tr>\n",
       "  </thead>\n",
       "  <tbody>\n",
       "    <tr>\n",
       "      <th>StudentID</th>\n",
       "      <td>1.000000</td>\n",
       "      <td>-0.064110</td>\n",
       "      <td>0.008038</td>\n",
       "      <td>-0.102841</td>\n",
       "      <td>0.220847</td>\n",
       "      <td>-0.123573</td>\n",
       "    </tr>\n",
       "    <tr>\n",
       "      <th>AttendanceRate</th>\n",
       "      <td>-0.064110</td>\n",
       "      <td>1.000000</td>\n",
       "      <td>0.934885</td>\n",
       "      <td>0.973946</td>\n",
       "      <td>0.691172</td>\n",
       "      <td>0.974177</td>\n",
       "    </tr>\n",
       "    <tr>\n",
       "      <th>StudyHoursPerWeek</th>\n",
       "      <td>0.008038</td>\n",
       "      <td>0.934885</td>\n",
       "      <td>1.000000</td>\n",
       "      <td>0.930535</td>\n",
       "      <td>0.563286</td>\n",
       "      <td>0.926489</td>\n",
       "    </tr>\n",
       "    <tr>\n",
       "      <th>PreviousGrade</th>\n",
       "      <td>-0.102841</td>\n",
       "      <td>0.973946</td>\n",
       "      <td>0.930535</td>\n",
       "      <td>1.000000</td>\n",
       "      <td>0.743432</td>\n",
       "      <td>0.998457</td>\n",
       "    </tr>\n",
       "    <tr>\n",
       "      <th>ExtracurricularActivities</th>\n",
       "      <td>0.220847</td>\n",
       "      <td>0.691172</td>\n",
       "      <td>0.563286</td>\n",
       "      <td>0.743432</td>\n",
       "      <td>1.000000</td>\n",
       "      <td>0.743706</td>\n",
       "    </tr>\n",
       "    <tr>\n",
       "      <th>FinalGrade</th>\n",
       "      <td>-0.123573</td>\n",
       "      <td>0.974177</td>\n",
       "      <td>0.926489</td>\n",
       "      <td>0.998457</td>\n",
       "      <td>0.743706</td>\n",
       "      <td>1.000000</td>\n",
       "    </tr>\n",
       "  </tbody>\n",
       "</table>\n",
       "</div>"
      ],
      "text/plain": [
       "                           StudentID  AttendanceRate  StudyHoursPerWeek  \\\n",
       "StudentID                   1.000000       -0.064110           0.008038   \n",
       "AttendanceRate             -0.064110        1.000000           0.934885   \n",
       "StudyHoursPerWeek           0.008038        0.934885           1.000000   \n",
       "PreviousGrade              -0.102841        0.973946           0.930535   \n",
       "ExtracurricularActivities   0.220847        0.691172           0.563286   \n",
       "FinalGrade                 -0.123573        0.974177           0.926489   \n",
       "\n",
       "                           PreviousGrade  ExtracurricularActivities  \\\n",
       "StudentID                      -0.102841                   0.220847   \n",
       "AttendanceRate                  0.973946                   0.691172   \n",
       "StudyHoursPerWeek               0.930535                   0.563286   \n",
       "PreviousGrade                   1.000000                   0.743432   \n",
       "ExtracurricularActivities       0.743432                   1.000000   \n",
       "FinalGrade                      0.998457                   0.743706   \n",
       "\n",
       "                           FinalGrade  \n",
       "StudentID                   -0.123573  \n",
       "AttendanceRate               0.974177  \n",
       "StudyHoursPerWeek            0.926489  \n",
       "PreviousGrade                0.998457  \n",
       "ExtracurricularActivities    0.743706  \n",
       "FinalGrade                   1.000000  "
      ]
     },
     "execution_count": 21,
     "metadata": {},
     "output_type": "execute_result"
    }
   ],
   "source": [
    "df_corr = df.corr()\n",
    "df_corr"
   ]
  },
  {
   "cell_type": "code",
   "execution_count": 22,
   "metadata": {},
   "outputs": [],
   "source": [
    "mask = np.triu(np.ones_like(df_corr, dtype=bool))"
   ]
  },
  {
   "cell_type": "code",
   "execution_count": 23,
   "metadata": {},
   "outputs": [
    {
     "data": {
      "text/plain": [
       "<AxesSubplot:>"
      ]
     },
     "execution_count": 23,
     "metadata": {},
     "output_type": "execute_result"
    },
    {
     "data": {
      "image/png": "[encoded data removed]",
      "text/plain": [
       "<Figure size 432x288 with 2 Axes>"
      ]
     },
     "metadata": {
      "needs_background": "light"
     },
     "output_type": "display_data"
    }
   ],
   "source": [
    "sns.heatmap(df_corr, annot=True, mask=mask, cmap=sns.cubehelix_palette(as_cmap=True))"
   ]
  },
  {
   "cell_type": "code",
   "execution_count": 13,
   "metadata": {},
   "outputs": [
    {
     "data": {
      "text/plain": [
       "<seaborn.axisgrid.PairGrid at 0x1da208e2f70>"
      ]
     },
     "execution_count": 13,
     "metadata": {},
     "output_type": "execute_result"
    },
    {
     "data": {
      "image/png": "[encoded data removed]",
      "text/plain": [
       "<Figure size 1080x1080 with 42 Axes>"
      ]
     },
     "metadata": {
      "needs_background": "light"
     },
     "output_type": "display_data"
    }
   ],
   "source": [
    "sns.pairplot(df)"
   ]
  },
  {
   "cell_type": "code",
   "execution_count": null,
   "metadata": {},
   "outputs": [],
   "source": []
  }
 ],
 "metadata": {
  "kernelspec": {
   "display_name": "Python 3 (ipykernel)",
   "language": "python",
   "name": "python3"
  },
  "language_info": {
   "codemirror_mode": {
    "name": "ipython",
    "version": 3
   },
   "file_extension": ".py",
   "mimetype": "text/x-python",
   "name": "python",
   "nbconvert_exporter": "python",
   "pygments_lexer": "ipython3",
   "version": "3.8.5"
  }
 },
 "nbformat": 4,
 "nbformat_minor": 2
}
