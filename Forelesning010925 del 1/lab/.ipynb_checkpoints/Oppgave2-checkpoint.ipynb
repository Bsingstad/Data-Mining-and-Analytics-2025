{
 "cells": [
  {
   "cell_type": "code",
   "execution_count": 5,
   "id": "dbff9444",
   "metadata": {},
   "outputs": [],
   "source": [
    "import numpy as np\n",
    "import seaborn as sns\n",
    "import matplotlib.pyplot as plt\n",
    "from scipy import stats\n",
    "\n",
    "penguins = sns.load_dataset(\"penguins\")\n"
   ]
  },
  {
   "cell_type": "markdown",
   "id": "63ea92c1",
   "metadata": {},
   "source": [
    "### Oppgave 2.1\n",
    "1) Plot et histogram av variablen body_mass_g i datasettet penguins\n",
    "2) avgjør hva slags type fordeling variablen body_mass_g har"
   ]
  },
  {
   "cell_type": "markdown",
   "id": "31b963eb",
   "metadata": {},
   "source": [
    "### Oppgave 2.2\n",
    "\n",
    "1) Beregn standardavvik, median og gjennomsnitt for variablen body_mass_g\n",
    "2) Trekk et tilfeldig utvalg på 50 observasjoner og beregn standardavvik, median og gjennomsnitt for variablen body_mass_g til utvalget"
   ]
  },
  {
   "cell_type": "markdown",
   "id": "eeac3f24",
   "metadata": {},
   "source": [
    "### Oppgave 2.3\n",
    "1. Plot en korrelasjonsmatrise av samtlige data i Penguins-datasettet \n",
    "2. Hva skjer med de kategoriske variablene?\n",
    "3. Preposesser de kategoriske variablene slik at de også blir med i korrelasjonsplottet\n",
    "4. Hvilke av de andre variablene korrelerer mest med species-kolonnen?"
   ]
  },
  {
   "cell_type": "code",
   "execution_count": null,
   "id": "b3f9494a",
   "metadata": {},
   "outputs": [],
   "source": []
  }
 ],
 "metadata": {
  "kernelspec": {
   "display_name": "Python 3 (ipykernel)",
   "language": "python",
   "name": "python3"
  },
  "language_info": {
   "codemirror_mode": {
    "name": "ipython",
    "version": 3
   },
   "file_extension": ".py",
   "mimetype": "text/x-python",
   "name": "python",
   "nbconvert_exporter": "python",
   "pygments_lexer": "ipython3",
   "version": "3.8.5"
  }
 },
 "nbformat": 4,
 "nbformat_minor": 5
}
