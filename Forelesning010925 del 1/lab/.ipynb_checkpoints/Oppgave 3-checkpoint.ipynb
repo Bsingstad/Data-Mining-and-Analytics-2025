{
 "cells": [
  {
   "cell_type": "code",
   "execution_count": 1,
   "id": "d80e41f4",
   "metadata": {},
   "outputs": [],
   "source": [
    "import numpy as np\n",
    "import seaborn as sns\n",
    "import matplotlib.pyplot as plt\n",
    "from scipy import stats\n",
    "\n",
    "df = sns.load_dataset(\"diamonds\")\n"
   ]
  },
  {
   "cell_type": "markdown",
   "id": "582bbc93",
   "metadata": {},
   "source": [
    "### Oppgave 3.1)\n",
    "1) Trekk ut et tilfeldig utvalg på 100 samples fra \"price\"-variablen. \n",
    "2) Gjør det samme 10 ganger og beregn median, gjennomsnitt og std.avvik hver gang. Ser du noe variasjon i de statistiske målene?\n",
    "3) kjør deretter samme eksperiment etter å ha kjørt følgende linje med kode: np.random.seed(1). Ser du noe variasjon i de statistiske målene"
   ]
  },
  {
   "cell_type": "markdown",
   "id": "67b5e91b",
   "metadata": {},
   "source": [
    "### Oppgave 3.2)\n",
    "1) Plott korrelasjon for alle variablene \n",
    "2) Hvilken variabel korrelerer mest med pris?"
   ]
  },
  {
   "cell_type": "markdown",
   "id": "3e669f72",
   "metadata": {},
   "source": [
    "### Oppgave 3.3)\n",
    "1) Plott en korrelasjonsmatrise for hver kategori av cut-variablen \n",
    "2) Undersøk om det er noen ulike trender i korrelasjon i de 5 korrelasjonsmatrisene"
   ]
  },
  {
   "cell_type": "code",
   "execution_count": null,
   "id": "a9e2c416",
   "metadata": {},
   "outputs": [],
   "source": []
  }
 ],
 "metadata": {
  "kernelspec": {
   "display_name": "Python 3 (ipykernel)",
   "language": "python",
   "name": "python3"
  },
  "language_info": {
   "codemirror_mode": {
    "name": "ipython",
    "version": 3
   },
   "file_extension": ".py",
   "mimetype": "text/x-python",
   "name": "python",
   "nbconvert_exporter": "python",
   "pygments_lexer": "ipython3",
   "version": "3.8.5"
  }
 },
 "nbformat": 4,
 "nbformat_minor": 5
}
