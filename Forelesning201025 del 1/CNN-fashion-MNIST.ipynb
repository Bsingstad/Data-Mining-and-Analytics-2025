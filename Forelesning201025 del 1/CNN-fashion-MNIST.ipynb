{
 "cells": [
  {
   "cell_type": "code",
   "execution_count": 2,
   "id": "512d0a64",
   "metadata": {},
   "outputs": [],
   "source": [
    "import tensorflow as tf\n",
    "import matplotlib.pyplot as plt\n",
    "import numpy as np\n",
    "import pandas as pd\n",
    "from sklearn.model_selection import  train_test_split \n",
    "from sklearn.datasets import load_breast_cancer\n",
    "import math\n",
    "from tensorflow.keras.utils import to_categorical"
   ]
  },
  {
   "cell_type": "markdown",
   "id": "7b1e2628",
   "metadata": {},
   "source": [
    "Labels:\n",
    "\n",
    "0. T-skjorte / topp\n",
    "1. Bukse\n",
    "2. Genser\n",
    "3. Kjole\n",
    "4. Kåpe / frakk\n",
    "5. Sandal\n",
    "6. Skjorte\n",
    "7. Joggesko\n",
    "8. Veske\n",
    "9. Ankelstøvlett\n"
   ]
  },
  {
   "cell_type": "code",
   "execution_count": 3,
   "id": "276f93f0",
   "metadata": {},
   "outputs": [],
   "source": [
    "dev_data = pd.read_csv(\"fashion-mnist_train.csv\")"
   ]
  },
  {
   "cell_type": "code",
   "execution_count": 4,
   "id": "f150fe5d",
   "metadata": {},
   "outputs": [],
   "source": [
    "y_dev = dev_data[\"label\"]"
   ]
  },
  {
   "cell_type": "code",
   "execution_count": 5,
   "id": "fc4c38b7",
   "metadata": {},
   "outputs": [],
   "source": [
    "X_dev = dev_data.iloc[:,1:]"
   ]
  },
  {
   "cell_type": "code",
   "execution_count": 6,
   "id": "a2c1c428",
   "metadata": {},
   "outputs": [],
   "source": [
    "X_train, X_val, y_train, y_val = train_test_split(X_dev,y_dev, test_size=0.2)"
   ]
  },
  {
   "cell_type": "code",
   "execution_count": 7,
   "id": "632bbfb7",
   "metadata": {},
   "outputs": [],
   "source": [
    "X_train = np.asarray(X_train)"
   ]
  },
  {
   "cell_type": "code",
   "execution_count": 8,
   "id": "e5d315ae",
   "metadata": {},
   "outputs": [],
   "source": [
    "X_val = np.asarray(X_val)"
   ]
  },
  {
   "cell_type": "code",
   "execution_count": 9,
   "id": "c7338a75",
   "metadata": {},
   "outputs": [],
   "source": [
    "X_train = X_train.reshape(X_train.shape[0],int(math.sqrt(X_train.shape[1])),int(math.sqrt(X_train.shape[1])))"
   ]
  },
  {
   "cell_type": "code",
   "execution_count": 10,
   "id": "fbaf98d6",
   "metadata": {},
   "outputs": [],
   "source": [
    "X_val = X_val.reshape(X_val.shape[0],int(math.sqrt(X_val.shape[1])),int(math.sqrt(X_val.shape[1])))"
   ]
  },
  {
   "cell_type": "code",
   "execution_count": 11,
   "id": "8a0249fd",
   "metadata": {},
   "outputs": [],
   "source": [
    "y_train = to_categorical(y_train, num_classes=10)\n",
    "y_val = to_categorical(y_val, num_classes=10)"
   ]
  },
  {
   "cell_type": "code",
   "execution_count": 12,
   "id": "86d5d562",
   "metadata": {},
   "outputs": [
    {
     "name": "stdout",
     "output_type": "stream",
     "text": [
      "Treningsdata (input):  (48000, 28, 28)\n",
      "Valideringsdata (input):  (12000, 28, 28)\n",
      "Treningsdata (output):  (48000, 10)\n",
      "Valideringsdata (output):  (12000, 10)\n"
     ]
    }
   ],
   "source": [
    "print(\"Treningsdata (input): \", X_train.shape)\n",
    "print(\"Valideringsdata (input): \", X_val.shape)\n",
    "print(\"Treningsdata (output): \", y_train.shape)\n",
    "print(\"Valideringsdata (output): \", y_val.shape)"
   ]
  },
  {
   "cell_type": "markdown",
   "id": "d1b678e1",
   "metadata": {},
   "source": [
    "1. Initialiser et konvolusjonelt nevralt nettverk ved hjelp av Tensorflow eller PyTorch"
   ]
  },
  {
   "cell_type": "markdown",
   "id": "14a08b5a",
   "metadata": {},
   "source": [
    "2. Tren nettverket og lag en figur som viser verdien av tapsfunksjonen for trening og valideringsdataene pr epoke.\n",
    "Når det lønner seg å avbryte treningen?"
   ]
  },
  {
   "cell_type": "code",
   "execution_count": 14,
   "id": "1ad80bae",
   "metadata": {},
   "outputs": [],
   "source": [
    "test_data = pd.read_csv(\"fashion-mnist_test.csv\")"
   ]
  },
  {
   "cell_type": "markdown",
   "id": "64941888",
   "metadata": {},
   "source": [
    "3. Evaluer modellen på testsettet og sammenlign ytelse på trening, validering og testsett, samt ytelse i forhold til DNN fra forrige oppgave"
   ]
  },
  {
   "cell_type": "code",
   "execution_count": null,
   "id": "bc2768cc",
   "metadata": {},
   "outputs": [],
   "source": []
  }
 ],
 "metadata": {
  "kernelspec": {
   "display_name": "Python 3 (ipykernel)",
   "language": "python",
   "name": "python3"
  },
  "language_info": {
   "codemirror_mode": {
    "name": "ipython",
    "version": 3
   },
   "file_extension": ".py",
   "mimetype": "text/x-python",
   "name": "python",
   "nbconvert_exporter": "python",
   "pygments_lexer": "ipython3",
   "version": "3.9.12"
  }
 },
 "nbformat": 4,
 "nbformat_minor": 5
}
