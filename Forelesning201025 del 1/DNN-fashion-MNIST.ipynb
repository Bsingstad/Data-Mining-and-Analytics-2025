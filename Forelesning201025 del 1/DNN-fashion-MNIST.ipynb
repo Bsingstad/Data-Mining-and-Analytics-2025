{
 "cells": [
  {
   "cell_type": "code",
   "execution_count": 1,
   "id": "1bb819b6",
   "metadata": {},
   "outputs": [],
   "source": [
    "import tensorflow as tf\n",
    "import matplotlib.pyplot as plt\n",
    "import numpy as np\n",
    "import pandas as pd\n",
    "from sklearn.model_selection import  train_test_split \n",
    "from sklearn.datasets import load_breast_cancer\n",
    "import math\n",
    "from tensorflow.keras.utils import to_categorical\n",
    "from tensorflow.keras.datasets import mnist"
   ]
  },
  {
   "cell_type": "code",
   "execution_count": 2,
   "id": "c729aae2",
   "metadata": {},
   "outputs": [],
   "source": [
    "dev_data = pd.read_csv(\"fashion-mnist_train.csv\") "
   ]
  },
  {
   "cell_type": "code",
   "execution_count": 3,
   "id": "5ca08d7f",
   "metadata": {},
   "outputs": [],
   "source": [
    "y_dev = dev_data[\"label\"]"
   ]
  },
  {
   "cell_type": "code",
   "execution_count": 4,
   "id": "6efd7f02",
   "metadata": {},
   "outputs": [],
   "source": [
    "X_dev = dev_data.iloc[:,1:]"
   ]
  },
  {
   "cell_type": "code",
   "execution_count": 5,
   "id": "0a15bee5",
   "metadata": {},
   "outputs": [],
   "source": [
    "X_train, X_val, y_train, y_val = train_test_split(X_dev,y_dev, test_size=0.2)"
   ]
  },
  {
   "cell_type": "code",
   "execution_count": 6,
   "id": "0aa3ae3f",
   "metadata": {},
   "outputs": [],
   "source": [
    "y_train = to_categorical(y_train, num_classes=10)\n",
    "y_val = to_categorical(y_val, num_classes=10)"
   ]
  },
  {
   "cell_type": "markdown",
   "id": "ebe4848c",
   "metadata": {},
   "source": [
    "1. Initialiser et nevralt nettverk ved hjelp av Tensorflow eller PyTorch"
   ]
  },
  {
   "cell_type": "markdown",
   "id": "dfa3fe33",
   "metadata": {},
   "source": [
    "2. Tren nettverket og lag en figur som viser verdien av tapsfunksjonen for trening og valideringsdataene pr epoke.\n",
    "Når det lønner seg å avbryte treningen?"
   ]
  },
  {
   "cell_type": "code",
   "execution_count": 8,
   "id": "b00e29b6",
   "metadata": {},
   "outputs": [],
   "source": [
    "test_data = pd.read_csv(\"fashion-mnist_test.csv\")"
   ]
  },
  {
   "cell_type": "markdown",
   "id": "ed904b27",
   "metadata": {},
   "source": [
    "3. Evaluer modellen på testsettet og sammenlign ytelse på trening, validering og testsett"
   ]
  },
  {
   "cell_type": "code",
   "execution_count": null,
   "id": "42cf5d45",
   "metadata": {},
   "outputs": [],
   "source": []
  }
 ],
 "metadata": {
  "kernelspec": {
   "display_name": "Python 3 (ipykernel)",
   "language": "python",
   "name": "python3"
  },
  "language_info": {
   "codemirror_mode": {
    "name": "ipython",
    "version": 3
   },
   "file_extension": ".py",
   "mimetype": "text/x-python",
   "name": "python",
   "nbconvert_exporter": "python",
   "pygments_lexer": "ipython3",
   "version": "3.9.12"
  }
 },
 "nbformat": 4,
 "nbformat_minor": 5
}
