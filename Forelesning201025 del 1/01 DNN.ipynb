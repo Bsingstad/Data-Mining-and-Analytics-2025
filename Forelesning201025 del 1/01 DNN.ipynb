{
 "cells": [
  {
   "cell_type": "code",
   "execution_count": 1,
   "id": "f7860838",
   "metadata": {},
   "outputs": [],
   "source": [
    "import tensorflow as tf\n",
    "import matplotlib.pyplot as plt\n",
    "import numpy as np\n",
    "from sklearn.model_selection import  train_test_split \n",
    "from sklearn.datasets import load_breast_cancer\n",
    "from sklearn.metrics import accuracy_score, f1_score,recall_score,precision_score"
   ]
  },
  {
   "cell_type": "code",
   "execution_count": 2,
   "id": "079c19c8",
   "metadata": {},
   "outputs": [],
   "source": [
    "cancer = load_breast_cancer(as_frame=True)"
   ]
  },
  {
   "cell_type": "code",
   "execution_count": 3,
   "id": "276fbd6f",
   "metadata": {},
   "outputs": [],
   "source": [
    "X_data = cancer[\"data\"]\n",
    "y_data = cancer[\"target\"]"
   ]
  },
  {
   "cell_type": "code",
   "execution_count": 4,
   "id": "c65112e3",
   "metadata": {},
   "outputs": [
    {
     "data": {
      "text/html": [
       "<div>\n",
       "<style scoped>\n",
       "    .dataframe tbody tr th:only-of-type {\n",
       "        vertical-align: middle;\n",
       "    }\n",
       "\n",
       "    .dataframe tbody tr th {\n",
       "        vertical-align: top;\n",
       "    }\n",
       "\n",
       "    .dataframe thead th {\n",
       "        text-align: right;\n",
       "    }\n",
       "</style>\n",
       "<table border=\"1\" class=\"dataframe\">\n",
       "  <thead>\n",
       "    <tr style=\"text-align: right;\">\n",
       "      <th></th>\n",
       "      <th>mean radius</th>\n",
       "      <th>mean texture</th>\n",
       "      <th>mean perimeter</th>\n",
       "      <th>mean area</th>\n",
       "      <th>mean smoothness</th>\n",
       "      <th>mean compactness</th>\n",
       "      <th>mean concavity</th>\n",
       "      <th>mean concave points</th>\n",
       "      <th>mean symmetry</th>\n",
       "      <th>mean fractal dimension</th>\n",
       "      <th>...</th>\n",
       "      <th>worst radius</th>\n",
       "      <th>worst texture</th>\n",
       "      <th>worst perimeter</th>\n",
       "      <th>worst area</th>\n",
       "      <th>worst smoothness</th>\n",
       "      <th>worst compactness</th>\n",
       "      <th>worst concavity</th>\n",
       "      <th>worst concave points</th>\n",
       "      <th>worst symmetry</th>\n",
       "      <th>worst fractal dimension</th>\n",
       "    </tr>\n",
       "  </thead>\n",
       "  <tbody>\n",
       "    <tr>\n",
       "      <th>0</th>\n",
       "      <td>17.99</td>\n",
       "      <td>10.38</td>\n",
       "      <td>122.80</td>\n",
       "      <td>1001.0</td>\n",
       "      <td>0.11840</td>\n",
       "      <td>0.27760</td>\n",
       "      <td>0.3001</td>\n",
       "      <td>0.14710</td>\n",
       "      <td>0.2419</td>\n",
       "      <td>0.07871</td>\n",
       "      <td>...</td>\n",
       "      <td>25.38</td>\n",
       "      <td>17.33</td>\n",
       "      <td>184.60</td>\n",
       "      <td>2019.0</td>\n",
       "      <td>0.1622</td>\n",
       "      <td>0.6656</td>\n",
       "      <td>0.7119</td>\n",
       "      <td>0.2654</td>\n",
       "      <td>0.4601</td>\n",
       "      <td>0.11890</td>\n",
       "    </tr>\n",
       "    <tr>\n",
       "      <th>1</th>\n",
       "      <td>20.57</td>\n",
       "      <td>17.77</td>\n",
       "      <td>132.90</td>\n",
       "      <td>1326.0</td>\n",
       "      <td>0.08474</td>\n",
       "      <td>0.07864</td>\n",
       "      <td>0.0869</td>\n",
       "      <td>0.07017</td>\n",
       "      <td>0.1812</td>\n",
       "      <td>0.05667</td>\n",
       "      <td>...</td>\n",
       "      <td>24.99</td>\n",
       "      <td>23.41</td>\n",
       "      <td>158.80</td>\n",
       "      <td>1956.0</td>\n",
       "      <td>0.1238</td>\n",
       "      <td>0.1866</td>\n",
       "      <td>0.2416</td>\n",
       "      <td>0.1860</td>\n",
       "      <td>0.2750</td>\n",
       "      <td>0.08902</td>\n",
       "    </tr>\n",
       "    <tr>\n",
       "      <th>2</th>\n",
       "      <td>19.69</td>\n",
       "      <td>21.25</td>\n",
       "      <td>130.00</td>\n",
       "      <td>1203.0</td>\n",
       "      <td>0.10960</td>\n",
       "      <td>0.15990</td>\n",
       "      <td>0.1974</td>\n",
       "      <td>0.12790</td>\n",
       "      <td>0.2069</td>\n",
       "      <td>0.05999</td>\n",
       "      <td>...</td>\n",
       "      <td>23.57</td>\n",
       "      <td>25.53</td>\n",
       "      <td>152.50</td>\n",
       "      <td>1709.0</td>\n",
       "      <td>0.1444</td>\n",
       "      <td>0.4245</td>\n",
       "      <td>0.4504</td>\n",
       "      <td>0.2430</td>\n",
       "      <td>0.3613</td>\n",
       "      <td>0.08758</td>\n",
       "    </tr>\n",
       "    <tr>\n",
       "      <th>3</th>\n",
       "      <td>11.42</td>\n",
       "      <td>20.38</td>\n",
       "      <td>77.58</td>\n",
       "      <td>386.1</td>\n",
       "      <td>0.14250</td>\n",
       "      <td>0.28390</td>\n",
       "      <td>0.2414</td>\n",
       "      <td>0.10520</td>\n",
       "      <td>0.2597</td>\n",
       "      <td>0.09744</td>\n",
       "      <td>...</td>\n",
       "      <td>14.91</td>\n",
       "      <td>26.50</td>\n",
       "      <td>98.87</td>\n",
       "      <td>567.7</td>\n",
       "      <td>0.2098</td>\n",
       "      <td>0.8663</td>\n",
       "      <td>0.6869</td>\n",
       "      <td>0.2575</td>\n",
       "      <td>0.6638</td>\n",
       "      <td>0.17300</td>\n",
       "    </tr>\n",
       "    <tr>\n",
       "      <th>4</th>\n",
       "      <td>20.29</td>\n",
       "      <td>14.34</td>\n",
       "      <td>135.10</td>\n",
       "      <td>1297.0</td>\n",
       "      <td>0.10030</td>\n",
       "      <td>0.13280</td>\n",
       "      <td>0.1980</td>\n",
       "      <td>0.10430</td>\n",
       "      <td>0.1809</td>\n",
       "      <td>0.05883</td>\n",
       "      <td>...</td>\n",
       "      <td>22.54</td>\n",
       "      <td>16.67</td>\n",
       "      <td>152.20</td>\n",
       "      <td>1575.0</td>\n",
       "      <td>0.1374</td>\n",
       "      <td>0.2050</td>\n",
       "      <td>0.4000</td>\n",
       "      <td>0.1625</td>\n",
       "      <td>0.2364</td>\n",
       "      <td>0.07678</td>\n",
       "    </tr>\n",
       "  </tbody>\n",
       "</table>\n",
       "<p>5 rows × 30 columns</p>\n",
       "</div>"
      ],
      "text/plain": [
       "   mean radius  mean texture  mean perimeter  mean area  mean smoothness  \\\n",
       "0        17.99         10.38          122.80     1001.0          0.11840   \n",
       "1        20.57         17.77          132.90     1326.0          0.08474   \n",
       "2        19.69         21.25          130.00     1203.0          0.10960   \n",
       "3        11.42         20.38           77.58      386.1          0.14250   \n",
       "4        20.29         14.34          135.10     1297.0          0.10030   \n",
       "\n",
       "   mean compactness  mean concavity  mean concave points  mean symmetry  \\\n",
       "0           0.27760          0.3001              0.14710         0.2419   \n",
       "1           0.07864          0.0869              0.07017         0.1812   \n",
       "2           0.15990          0.1974              0.12790         0.2069   \n",
       "3           0.28390          0.2414              0.10520         0.2597   \n",
       "4           0.13280          0.1980              0.10430         0.1809   \n",
       "\n",
       "   mean fractal dimension  ...  worst radius  worst texture  worst perimeter  \\\n",
       "0                 0.07871  ...         25.38          17.33           184.60   \n",
       "1                 0.05667  ...         24.99          23.41           158.80   \n",
       "2                 0.05999  ...         23.57          25.53           152.50   \n",
       "3                 0.09744  ...         14.91          26.50            98.87   \n",
       "4                 0.05883  ...         22.54          16.67           152.20   \n",
       "\n",
       "   worst area  worst smoothness  worst compactness  worst concavity  \\\n",
       "0      2019.0            0.1622             0.6656           0.7119   \n",
       "1      1956.0            0.1238             0.1866           0.2416   \n",
       "2      1709.0            0.1444             0.4245           0.4504   \n",
       "3       567.7            0.2098             0.8663           0.6869   \n",
       "4      1575.0            0.1374             0.2050           0.4000   \n",
       "\n",
       "   worst concave points  worst symmetry  worst fractal dimension  \n",
       "0                0.2654          0.4601                  0.11890  \n",
       "1                0.1860          0.2750                  0.08902  \n",
       "2                0.2430          0.3613                  0.08758  \n",
       "3                0.2575          0.6638                  0.17300  \n",
       "4                0.1625          0.2364                  0.07678  \n",
       "\n",
       "[5 rows x 30 columns]"
      ]
     },
     "execution_count": 4,
     "metadata": {},
     "output_type": "execute_result"
    }
   ],
   "source": [
    "X_data.head()\n"
   ]
  },
  {
   "cell_type": "code",
   "execution_count": 5,
   "id": "688514ac",
   "metadata": {},
   "outputs": [
    {
     "data": {
      "text/plain": [
       "array([0, 1])"
      ]
     },
     "execution_count": 5,
     "metadata": {},
     "output_type": "execute_result"
    }
   ],
   "source": [
    "y_data.unique()"
   ]
  },
  {
   "cell_type": "code",
   "execution_count": 6,
   "id": "19c36d4d",
   "metadata": {},
   "outputs": [],
   "source": [
    "X_dev, X_test, y_dev, y_test = train_test_split(X_data,y_data,random_state=42, test_size=0.2)"
   ]
  },
  {
   "cell_type": "code",
   "execution_count": 7,
   "id": "25d68ae0",
   "metadata": {},
   "outputs": [],
   "source": [
    "X_train, X_val, y_train, y_val = train_test_split(X_dev,y_dev,random_state=42, test_size=0.2)"
   ]
  },
  {
   "cell_type": "code",
   "execution_count": 9,
   "id": "ca5363a0",
   "metadata": {},
   "outputs": [],
   "source": [
    "def dnn(n_features, n_output):\n",
    "    input_lag = tf.keras.layers.Input(shape=(n_features,1))\n",
    "    skjult_lag = tf.keras.layers.Dense(n_features*2, activation='relu')(input_lag)\n",
    "    flatten = tf.keras.layers.Flatten()(skjult_lag)\n",
    "    output_lag = tf.keras.layers.Dense(n_output, activation='sigmoid')(flatten)\n",
    "    modell = tf.keras.models.Model(inputs=input_lag, outputs=output_lag)\n",
    "    return modell"
   ]
  },
  {
   "cell_type": "code",
   "execution_count": 10,
   "id": "8a7ba787",
   "metadata": {},
   "outputs": [],
   "source": [
    "model = dnn(X_train.shape[1],1)"
   ]
  },
  {
   "cell_type": "code",
   "execution_count": 11,
   "id": "c6805dcb",
   "metadata": {
    "scrolled": true
   },
   "outputs": [
    {
     "data": {
      "text/html": [
       "<pre style=\"white-space:pre;overflow-x:auto;line-height:normal;font-family:Menlo,'DejaVu Sans Mono',consolas,'Courier New',monospace\"><span style=\"font-weight: bold\">Model: \"functional\"</span>\n",
       "</pre>\n"
      ],
      "text/plain": [
       "\u001b[1mModel: \"functional\"\u001b[0m\n"
      ]
     },
     "metadata": {},
     "output_type": "display_data"
    },
    {
     "data": {
      "text/html": [
       "<pre style=\"white-space:pre;overflow-x:auto;line-height:normal;font-family:Menlo,'DejaVu Sans Mono',consolas,'Courier New',monospace\">┏━━━━━━━━━━━━━━━━━━━━━━━━━━━━━━━━━━━━━━┳━━━━━━━━━━━━━━━━━━━━━━━━━━━━━┳━━━━━━━━━━━━━━━━━┓\n",
       "┃<span style=\"font-weight: bold\"> Layer (type)                         </span>┃<span style=\"font-weight: bold\"> Output Shape                </span>┃<span style=\"font-weight: bold\">         Param # </span>┃\n",
       "┡━━━━━━━━━━━━━━━━━━━━━━━━━━━━━━━━━━━━━━╇━━━━━━━━━━━━━━━━━━━━━━━━━━━━━╇━━━━━━━━━━━━━━━━━┩\n",
       "│ input_layer (<span style=\"color: #0087ff; text-decoration-color: #0087ff\">InputLayer</span>)             │ (<span style=\"color: #00d7ff; text-decoration-color: #00d7ff\">None</span>, <span style=\"color: #00af00; text-decoration-color: #00af00\">30</span>, <span style=\"color: #00af00; text-decoration-color: #00af00\">1</span>)               │               <span style=\"color: #00af00; text-decoration-color: #00af00\">0</span> │\n",
       "├──────────────────────────────────────┼─────────────────────────────┼─────────────────┤\n",
       "│ dense (<span style=\"color: #0087ff; text-decoration-color: #0087ff\">Dense</span>)                        │ (<span style=\"color: #00d7ff; text-decoration-color: #00d7ff\">None</span>, <span style=\"color: #00af00; text-decoration-color: #00af00\">30</span>, <span style=\"color: #00af00; text-decoration-color: #00af00\">60</span>)              │             <span style=\"color: #00af00; text-decoration-color: #00af00\">120</span> │\n",
       "├──────────────────────────────────────┼─────────────────────────────┼─────────────────┤\n",
       "│ flatten (<span style=\"color: #0087ff; text-decoration-color: #0087ff\">Flatten</span>)                    │ (<span style=\"color: #00d7ff; text-decoration-color: #00d7ff\">None</span>, <span style=\"color: #00af00; text-decoration-color: #00af00\">1800</span>)                │               <span style=\"color: #00af00; text-decoration-color: #00af00\">0</span> │\n",
       "├──────────────────────────────────────┼─────────────────────────────┼─────────────────┤\n",
       "│ dense_1 (<span style=\"color: #0087ff; text-decoration-color: #0087ff\">Dense</span>)                      │ (<span style=\"color: #00d7ff; text-decoration-color: #00d7ff\">None</span>, <span style=\"color: #00af00; text-decoration-color: #00af00\">1</span>)                   │           <span style=\"color: #00af00; text-decoration-color: #00af00\">1,801</span> │\n",
       "└──────────────────────────────────────┴─────────────────────────────┴─────────────────┘\n",
       "</pre>\n"
      ],
      "text/plain": [
       "┏━━━━━━━━━━━━━━━━━━━━━━━━━━━━━━━━━━━━━━┳━━━━━━━━━━━━━━━━━━━━━━━━━━━━━┳━━━━━━━━━━━━━━━━━┓\n",
       "┃\u001b[1m \u001b[0m\u001b[1mLayer (type)                        \u001b[0m\u001b[1m \u001b[0m┃\u001b[1m \u001b[0m\u001b[1mOutput Shape               \u001b[0m\u001b[1m \u001b[0m┃\u001b[1m \u001b[0m\u001b[1m        Param #\u001b[0m\u001b[1m \u001b[0m┃\n",
       "┡━━━━━━━━━━━━━━━━━━━━━━━━━━━━━━━━━━━━━━╇━━━━━━━━━━━━━━━━━━━━━━━━━━━━━╇━━━━━━━━━━━━━━━━━┩\n",
       "│ input_layer (\u001b[38;5;33mInputLayer\u001b[0m)             │ (\u001b[38;5;45mNone\u001b[0m, \u001b[38;5;34m30\u001b[0m, \u001b[38;5;34m1\u001b[0m)               │               \u001b[38;5;34m0\u001b[0m │\n",
       "├──────────────────────────────────────┼─────────────────────────────┼─────────────────┤\n",
       "│ dense (\u001b[38;5;33mDense\u001b[0m)                        │ (\u001b[38;5;45mNone\u001b[0m, \u001b[38;5;34m30\u001b[0m, \u001b[38;5;34m60\u001b[0m)              │             \u001b[38;5;34m120\u001b[0m │\n",
       "├──────────────────────────────────────┼─────────────────────────────┼─────────────────┤\n",
       "│ flatten (\u001b[38;5;33mFlatten\u001b[0m)                    │ (\u001b[38;5;45mNone\u001b[0m, \u001b[38;5;34m1800\u001b[0m)                │               \u001b[38;5;34m0\u001b[0m │\n",
       "├──────────────────────────────────────┼─────────────────────────────┼─────────────────┤\n",
       "│ dense_1 (\u001b[38;5;33mDense\u001b[0m)                      │ (\u001b[38;5;45mNone\u001b[0m, \u001b[38;5;34m1\u001b[0m)                   │           \u001b[38;5;34m1,801\u001b[0m │\n",
       "└──────────────────────────────────────┴─────────────────────────────┴─────────────────┘\n"
      ]
     },
     "metadata": {},
     "output_type": "display_data"
    },
    {
     "data": {
      "text/html": [
       "<pre style=\"white-space:pre;overflow-x:auto;line-height:normal;font-family:Menlo,'DejaVu Sans Mono',consolas,'Courier New',monospace\"><span style=\"font-weight: bold\"> Total params: </span><span style=\"color: #00af00; text-decoration-color: #00af00\">1,921</span> (7.50 KB)\n",
       "</pre>\n"
      ],
      "text/plain": [
       "\u001b[1m Total params: \u001b[0m\u001b[38;5;34m1,921\u001b[0m (7.50 KB)\n"
      ]
     },
     "metadata": {},
     "output_type": "display_data"
    },
    {
     "data": {
      "text/html": [
       "<pre style=\"white-space:pre;overflow-x:auto;line-height:normal;font-family:Menlo,'DejaVu Sans Mono',consolas,'Courier New',monospace\"><span style=\"font-weight: bold\"> Trainable params: </span><span style=\"color: #00af00; text-decoration-color: #00af00\">1,921</span> (7.50 KB)\n",
       "</pre>\n"
      ],
      "text/plain": [
       "\u001b[1m Trainable params: \u001b[0m\u001b[38;5;34m1,921\u001b[0m (7.50 KB)\n"
      ]
     },
     "metadata": {},
     "output_type": "display_data"
    },
    {
     "data": {
      "text/html": [
       "<pre style=\"white-space:pre;overflow-x:auto;line-height:normal;font-family:Menlo,'DejaVu Sans Mono',consolas,'Courier New',monospace\"><span style=\"font-weight: bold\"> Non-trainable params: </span><span style=\"color: #00af00; text-decoration-color: #00af00\">0</span> (0.00 B)\n",
       "</pre>\n"
      ],
      "text/plain": [
       "\u001b[1m Non-trainable params: \u001b[0m\u001b[38;5;34m0\u001b[0m (0.00 B)\n"
      ]
     },
     "metadata": {},
     "output_type": "display_data"
    }
   ],
   "source": [
    "model.summary()"
   ]
  },
  {
   "cell_type": "code",
   "execution_count": 12,
   "id": "c546675c",
   "metadata": {},
   "outputs": [],
   "source": [
    "model.compile(loss=\"binary_crossentropy\", optimizer=tf.keras.optimizers.Adam(learning_rate=0.0001), \n",
    "                metrics = [tf.keras.metrics.BinaryAccuracy(),tf.keras.metrics.AUC(curve='ROC')])"
   ]
  },
  {
   "cell_type": "code",
   "execution_count": 13,
   "id": "d901557a",
   "metadata": {},
   "outputs": [
    {
     "data": {
      "text/html": [
       "<pre style=\"white-space:pre;overflow-x:auto;line-height:normal;font-family:Menlo,'DejaVu Sans Mono',consolas,'Courier New',monospace\"><span style=\"font-weight: bold\">Model: \"functional\"</span>\n",
       "</pre>\n"
      ],
      "text/plain": [
       "\u001b[1mModel: \"functional\"\u001b[0m\n"
      ]
     },
     "metadata": {},
     "output_type": "display_data"
    },
    {
     "data": {
      "text/html": [
       "<pre style=\"white-space:pre;overflow-x:auto;line-height:normal;font-family:Menlo,'DejaVu Sans Mono',consolas,'Courier New',monospace\">┏━━━━━━━━━━━━━━━━━━━━━━━━━━━━━━━━━━━━━━┳━━━━━━━━━━━━━━━━━━━━━━━━━━━━━┳━━━━━━━━━━━━━━━━━┓\n",
       "┃<span style=\"font-weight: bold\"> Layer (type)                         </span>┃<span style=\"font-weight: bold\"> Output Shape                </span>┃<span style=\"font-weight: bold\">         Param # </span>┃\n",
       "┡━━━━━━━━━━━━━━━━━━━━━━━━━━━━━━━━━━━━━━╇━━━━━━━━━━━━━━━━━━━━━━━━━━━━━╇━━━━━━━━━━━━━━━━━┩\n",
       "│ input_layer (<span style=\"color: #0087ff; text-decoration-color: #0087ff\">InputLayer</span>)             │ (<span style=\"color: #00d7ff; text-decoration-color: #00d7ff\">None</span>, <span style=\"color: #00af00; text-decoration-color: #00af00\">30</span>, <span style=\"color: #00af00; text-decoration-color: #00af00\">1</span>)               │               <span style=\"color: #00af00; text-decoration-color: #00af00\">0</span> │\n",
       "├──────────────────────────────────────┼─────────────────────────────┼─────────────────┤\n",
       "│ dense (<span style=\"color: #0087ff; text-decoration-color: #0087ff\">Dense</span>)                        │ (<span style=\"color: #00d7ff; text-decoration-color: #00d7ff\">None</span>, <span style=\"color: #00af00; text-decoration-color: #00af00\">30</span>, <span style=\"color: #00af00; text-decoration-color: #00af00\">60</span>)              │             <span style=\"color: #00af00; text-decoration-color: #00af00\">120</span> │\n",
       "├──────────────────────────────────────┼─────────────────────────────┼─────────────────┤\n",
       "│ flatten (<span style=\"color: #0087ff; text-decoration-color: #0087ff\">Flatten</span>)                    │ (<span style=\"color: #00d7ff; text-decoration-color: #00d7ff\">None</span>, <span style=\"color: #00af00; text-decoration-color: #00af00\">1800</span>)                │               <span style=\"color: #00af00; text-decoration-color: #00af00\">0</span> │\n",
       "├──────────────────────────────────────┼─────────────────────────────┼─────────────────┤\n",
       "│ dense_1 (<span style=\"color: #0087ff; text-decoration-color: #0087ff\">Dense</span>)                      │ (<span style=\"color: #00d7ff; text-decoration-color: #00d7ff\">None</span>, <span style=\"color: #00af00; text-decoration-color: #00af00\">1</span>)                   │           <span style=\"color: #00af00; text-decoration-color: #00af00\">1,801</span> │\n",
       "└──────────────────────────────────────┴─────────────────────────────┴─────────────────┘\n",
       "</pre>\n"
      ],
      "text/plain": [
       "┏━━━━━━━━━━━━━━━━━━━━━━━━━━━━━━━━━━━━━━┳━━━━━━━━━━━━━━━━━━━━━━━━━━━━━┳━━━━━━━━━━━━━━━━━┓\n",
       "┃\u001b[1m \u001b[0m\u001b[1mLayer (type)                        \u001b[0m\u001b[1m \u001b[0m┃\u001b[1m \u001b[0m\u001b[1mOutput Shape               \u001b[0m\u001b[1m \u001b[0m┃\u001b[1m \u001b[0m\u001b[1m        Param #\u001b[0m\u001b[1m \u001b[0m┃\n",
       "┡━━━━━━━━━━━━━━━━━━━━━━━━━━━━━━━━━━━━━━╇━━━━━━━━━━━━━━━━━━━━━━━━━━━━━╇━━━━━━━━━━━━━━━━━┩\n",
       "│ input_layer (\u001b[38;5;33mInputLayer\u001b[0m)             │ (\u001b[38;5;45mNone\u001b[0m, \u001b[38;5;34m30\u001b[0m, \u001b[38;5;34m1\u001b[0m)               │               \u001b[38;5;34m0\u001b[0m │\n",
       "├──────────────────────────────────────┼─────────────────────────────┼─────────────────┤\n",
       "│ dense (\u001b[38;5;33mDense\u001b[0m)                        │ (\u001b[38;5;45mNone\u001b[0m, \u001b[38;5;34m30\u001b[0m, \u001b[38;5;34m60\u001b[0m)              │             \u001b[38;5;34m120\u001b[0m │\n",
       "├──────────────────────────────────────┼─────────────────────────────┼─────────────────┤\n",
       "│ flatten (\u001b[38;5;33mFlatten\u001b[0m)                    │ (\u001b[38;5;45mNone\u001b[0m, \u001b[38;5;34m1800\u001b[0m)                │               \u001b[38;5;34m0\u001b[0m │\n",
       "├──────────────────────────────────────┼─────────────────────────────┼─────────────────┤\n",
       "│ dense_1 (\u001b[38;5;33mDense\u001b[0m)                      │ (\u001b[38;5;45mNone\u001b[0m, \u001b[38;5;34m1\u001b[0m)                   │           \u001b[38;5;34m1,801\u001b[0m │\n",
       "└──────────────────────────────────────┴─────────────────────────────┴─────────────────┘\n"
      ]
     },
     "metadata": {},
     "output_type": "display_data"
    },
    {
     "data": {
      "text/html": [
       "<pre style=\"white-space:pre;overflow-x:auto;line-height:normal;font-family:Menlo,'DejaVu Sans Mono',consolas,'Courier New',monospace\"><span style=\"font-weight: bold\"> Total params: </span><span style=\"color: #00af00; text-decoration-color: #00af00\">1,921</span> (7.50 KB)\n",
       "</pre>\n"
      ],
      "text/plain": [
       "\u001b[1m Total params: \u001b[0m\u001b[38;5;34m1,921\u001b[0m (7.50 KB)\n"
      ]
     },
     "metadata": {},
     "output_type": "display_data"
    },
    {
     "data": {
      "text/html": [
       "<pre style=\"white-space:pre;overflow-x:auto;line-height:normal;font-family:Menlo,'DejaVu Sans Mono',consolas,'Courier New',monospace\"><span style=\"font-weight: bold\"> Trainable params: </span><span style=\"color: #00af00; text-decoration-color: #00af00\">1,921</span> (7.50 KB)\n",
       "</pre>\n"
      ],
      "text/plain": [
       "\u001b[1m Trainable params: \u001b[0m\u001b[38;5;34m1,921\u001b[0m (7.50 KB)\n"
      ]
     },
     "metadata": {},
     "output_type": "display_data"
    },
    {
     "data": {
      "text/html": [
       "<pre style=\"white-space:pre;overflow-x:auto;line-height:normal;font-family:Menlo,'DejaVu Sans Mono',consolas,'Courier New',monospace\"><span style=\"font-weight: bold\"> Non-trainable params: </span><span style=\"color: #00af00; text-decoration-color: #00af00\">0</span> (0.00 B)\n",
       "</pre>\n"
      ],
      "text/plain": [
       "\u001b[1m Non-trainable params: \u001b[0m\u001b[38;5;34m0\u001b[0m (0.00 B)\n"
      ]
     },
     "metadata": {},
     "output_type": "display_data"
    }
   ],
   "source": [
    "model.summary()"
   ]
  },
  {
   "cell_type": "code",
   "execution_count": 14,
   "id": "e87e6e42",
   "metadata": {},
   "outputs": [
    {
     "data": {
      "text/plain": [
       "(364,)"
      ]
     },
     "execution_count": 14,
     "metadata": {},
     "output_type": "execute_result"
    }
   ],
   "source": [
    "y_train.shape"
   ]
  },
  {
   "cell_type": "code",
   "execution_count": 15,
   "id": "f4130dcb",
   "metadata": {},
   "outputs": [
    {
     "data": {
      "text/plain": [
       "(364, 1)"
      ]
     },
     "execution_count": 15,
     "metadata": {},
     "output_type": "execute_result"
    }
   ],
   "source": [
    "np.expand_dims(y_train,-1).shape"
   ]
  },
  {
   "cell_type": "code",
   "execution_count": 16,
   "id": "1db69c33",
   "metadata": {
    "scrolled": true
   },
   "outputs": [
    {
     "name": "stdout",
     "output_type": "stream",
     "text": [
      "Epoch 1/250\n",
      "\u001b[1m37/37\u001b[0m \u001b[32m━━━━━━━━━━━━━━━━━━━━\u001b[0m\u001b[37m\u001b[0m \u001b[1m1s\u001b[0m 10ms/step - auc: 0.5866 - binary_accuracy: 0.4256 - loss: 2.2405 - val_auc: 0.7722 - val_binary_accuracy: 0.7253 - val_loss: 0.5902\n",
      "Epoch 2/250\n",
      "\u001b[1m37/37\u001b[0m \u001b[32m━━━━━━━━━━━━━━━━━━━━\u001b[0m\u001b[37m\u001b[0m \u001b[1m0s\u001b[0m 3ms/step - auc: 0.6732 - binary_accuracy: 0.7993 - loss: 0.5576 - val_auc: 0.8907 - val_binary_accuracy: 0.7802 - val_loss: 0.5026\n",
      "Epoch 3/250\n",
      "\u001b[1m37/37\u001b[0m \u001b[32m━━━━━━━━━━━━━━━━━━━━\u001b[0m\u001b[37m\u001b[0m \u001b[1m0s\u001b[0m 2ms/step - auc: 0.8070 - binary_accuracy: 0.8029 - loss: 0.4954 - val_auc: 0.9371 - val_binary_accuracy: 0.7473 - val_loss: 0.4779\n",
      "Epoch 4/250\n",
      "\u001b[1m37/37\u001b[0m \u001b[32m━━━━━━━━━━━━━━━━━━━━\u001b[0m\u001b[37m\u001b[0m \u001b[1m0s\u001b[0m 3ms/step - auc: 0.8433 - binary_accuracy: 0.8219 - loss: 0.4652 - val_auc: 0.9247 - val_binary_accuracy: 0.8901 - val_loss: 0.4001\n",
      "Epoch 5/250\n",
      "\u001b[1m37/37\u001b[0m \u001b[32m━━━━━━━━━━━━━━━━━━━━\u001b[0m\u001b[37m\u001b[0m \u001b[1m0s\u001b[0m 2ms/step - auc: 0.8956 - binary_accuracy: 0.8803 - loss: 0.4186 - val_auc: 0.9389 - val_binary_accuracy: 0.8791 - val_loss: 0.3859\n",
      "Epoch 6/250\n",
      "\u001b[1m37/37\u001b[0m \u001b[32m━━━━━━━━━━━━━━━━━━━━\u001b[0m\u001b[37m\u001b[0m \u001b[1m0s\u001b[0m 3ms/step - auc: 0.9015 - binary_accuracy: 0.8718 - loss: 0.3801 - val_auc: 0.9245 - val_binary_accuracy: 0.8901 - val_loss: 0.3462\n",
      "Epoch 7/250\n",
      "\u001b[1m37/37\u001b[0m \u001b[32m━━━━━━━━━━━━━━━━━━━━\u001b[0m\u001b[37m\u001b[0m \u001b[1m0s\u001b[0m 2ms/step - auc: 0.9373 - binary_accuracy: 0.9030 - loss: 0.3260 - val_auc: 0.9333 - val_binary_accuracy: 0.8901 - val_loss: 0.3234\n",
      "Epoch 8/250\n",
      "\u001b[1m37/37\u001b[0m \u001b[32m━━━━━━━━━━━━━━━━━━━━\u001b[0m\u001b[37m\u001b[0m \u001b[1m0s\u001b[0m 3ms/step - auc: 0.9217 - binary_accuracy: 0.8912 - loss: 0.3323 - val_auc: 0.9419 - val_binary_accuracy: 0.9121 - val_loss: 0.3145\n",
      "Epoch 9/250\n",
      "\u001b[1m37/37\u001b[0m \u001b[32m━━━━━━━━━━━━━━━━━━━━\u001b[0m\u001b[37m\u001b[0m \u001b[1m0s\u001b[0m 2ms/step - auc: 0.8935 - binary_accuracy: 0.8683 - loss: 0.3582 - val_auc: 0.9323 - val_binary_accuracy: 0.8791 - val_loss: 0.3116\n",
      "Epoch 10/250\n",
      "\u001b[1m37/37\u001b[0m \u001b[32m━━━━━━━━━━━━━━━━━━━━\u001b[0m\u001b[37m\u001b[0m \u001b[1m0s\u001b[0m 2ms/step - auc: 0.9406 - binary_accuracy: 0.8795 - loss: 0.3003 - val_auc: 0.9396 - val_binary_accuracy: 0.8901 - val_loss: 0.2900\n",
      "Epoch 11/250\n",
      "\u001b[1m37/37\u001b[0m \u001b[32m━━━━━━━━━━━━━━━━━━━━\u001b[0m\u001b[37m\u001b[0m \u001b[1m0s\u001b[0m 3ms/step - auc: 0.9401 - binary_accuracy: 0.9090 - loss: 0.2839 - val_auc: 0.9556 - val_binary_accuracy: 0.9121 - val_loss: 0.3015\n",
      "Epoch 12/250\n",
      "\u001b[1m37/37\u001b[0m \u001b[32m━━━━━━━━━━━━━━━━━━━━\u001b[0m\u001b[37m\u001b[0m \u001b[1m0s\u001b[0m 3ms/step - auc: 0.9270 - binary_accuracy: 0.9013 - loss: 0.3105 - val_auc: 0.9530 - val_binary_accuracy: 0.9121 - val_loss: 0.2769\n",
      "Epoch 13/250\n",
      "\u001b[1m37/37\u001b[0m \u001b[32m━━━━━━━━━━━━━━━━━━━━\u001b[0m\u001b[37m\u001b[0m \u001b[1m0s\u001b[0m 3ms/step - auc: 0.9371 - binary_accuracy: 0.8888 - loss: 0.3073 - val_auc: 0.9528 - val_binary_accuracy: 0.9011 - val_loss: 0.2676\n",
      "Epoch 14/250\n",
      "\u001b[1m37/37\u001b[0m \u001b[32m━━━━━━━━━━━━━━━━━━━━\u001b[0m\u001b[37m\u001b[0m \u001b[1m0s\u001b[0m 3ms/step - auc: 0.9193 - binary_accuracy: 0.8628 - loss: 0.3225 - val_auc: 0.9578 - val_binary_accuracy: 0.9121 - val_loss: 0.2674\n",
      "Epoch 15/250\n",
      "\u001b[1m37/37\u001b[0m \u001b[32m━━━━━━━━━━━━━━━━━━━━\u001b[0m\u001b[37m\u001b[0m \u001b[1m0s\u001b[0m 2ms/step - auc: 0.9322 - binary_accuracy: 0.8752 - loss: 0.3055 - val_auc: 0.9487 - val_binary_accuracy: 0.9011 - val_loss: 0.2706\n",
      "Epoch 16/250\n",
      "\u001b[1m37/37\u001b[0m \u001b[32m━━━━━━━━━━━━━━━━━━━━\u001b[0m\u001b[37m\u001b[0m \u001b[1m0s\u001b[0m 3ms/step - auc: 0.9225 - binary_accuracy: 0.8986 - loss: 0.2961 - val_auc: 0.9614 - val_binary_accuracy: 0.9121 - val_loss: 0.2629\n",
      "Epoch 17/250\n",
      "\u001b[1m37/37\u001b[0m \u001b[32m━━━━━━━━━━━━━━━━━━━━\u001b[0m\u001b[37m\u001b[0m \u001b[1m0s\u001b[0m 3ms/step - auc: 0.9034 - binary_accuracy: 0.8610 - loss: 0.3261 - val_auc: 0.9593 - val_binary_accuracy: 0.9011 - val_loss: 0.2496\n",
      "Epoch 18/250\n",
      "\u001b[1m37/37\u001b[0m \u001b[32m━━━━━━━━━━━━━━━━━━━━\u001b[0m\u001b[37m\u001b[0m \u001b[1m0s\u001b[0m 2ms/step - auc: 0.9032 - binary_accuracy: 0.8461 - loss: 0.3550 - val_auc: 0.9573 - val_binary_accuracy: 0.9011 - val_loss: 0.2459\n",
      "Epoch 19/250\n",
      "\u001b[1m37/37\u001b[0m \u001b[32m━━━━━━━━━━━━━━━━━━━━\u001b[0m\u001b[37m\u001b[0m \u001b[1m0s\u001b[0m 3ms/step - auc: 0.9377 - binary_accuracy: 0.8917 - loss: 0.2784 - val_auc: 0.9624 - val_binary_accuracy: 0.9121 - val_loss: 0.2445\n",
      "Epoch 20/250\n",
      "\u001b[1m37/37\u001b[0m \u001b[32m━━━━━━━━━━━━━━━━━━━━\u001b[0m\u001b[37m\u001b[0m \u001b[1m0s\u001b[0m 3ms/step - auc: 0.9478 - binary_accuracy: 0.9090 - loss: 0.2588 - val_auc: 0.9619 - val_binary_accuracy: 0.9011 - val_loss: 0.2402\n",
      "Epoch 21/250\n",
      "\u001b[1m37/37\u001b[0m \u001b[32m━━━━━━━━━━━━━━━━━━━━\u001b[0m\u001b[37m\u001b[0m \u001b[1m0s\u001b[0m 2ms/step - auc: 0.9299 - binary_accuracy: 0.8917 - loss: 0.2855 - val_auc: 0.9566 - val_binary_accuracy: 0.9121 - val_loss: 0.2523\n",
      "Epoch 22/250\n",
      "\u001b[1m37/37\u001b[0m \u001b[32m━━━━━━━━━━━━━━━━━━━━\u001b[0m\u001b[37m\u001b[0m \u001b[1m0s\u001b[0m 3ms/step - auc: 0.9220 - binary_accuracy: 0.8873 - loss: 0.2836 - val_auc: 0.9601 - val_binary_accuracy: 0.9011 - val_loss: 0.2371\n",
      "Epoch 23/250\n",
      "\u001b[1m37/37\u001b[0m \u001b[32m━━━━━━━━━━━━━━━━━━━━\u001b[0m\u001b[37m\u001b[0m \u001b[1m0s\u001b[0m 3ms/step - auc: 0.9420 - binary_accuracy: 0.8821 - loss: 0.2703 - val_auc: 0.9588 - val_binary_accuracy: 0.9011 - val_loss: 0.2437\n",
      "Epoch 24/250\n",
      "\u001b[1m37/37\u001b[0m \u001b[32m━━━━━━━━━━━━━━━━━━━━\u001b[0m\u001b[37m\u001b[0m \u001b[1m0s\u001b[0m 3ms/step - auc: 0.9498 - binary_accuracy: 0.9042 - loss: 0.2439 - val_auc: 0.9616 - val_binary_accuracy: 0.9011 - val_loss: 0.2315\n",
      "Epoch 25/250\n",
      "\u001b[1m37/37\u001b[0m \u001b[32m━━━━━━━━━━━━━━━━━━━━\u001b[0m\u001b[37m\u001b[0m \u001b[1m0s\u001b[0m 3ms/step - auc: 0.9325 - binary_accuracy: 0.8904 - loss: 0.2930 - val_auc: 0.9674 - val_binary_accuracy: 0.9121 - val_loss: 0.2397\n",
      "Epoch 26/250\n",
      "\u001b[1m37/37\u001b[0m \u001b[32m━━━━━━━━━━━━━━━━━━━━\u001b[0m\u001b[37m\u001b[0m \u001b[1m0s\u001b[0m 2ms/step - auc: 0.9364 - binary_accuracy: 0.8956 - loss: 0.2685 - val_auc: 0.9611 - val_binary_accuracy: 0.8901 - val_loss: 0.2324\n",
      "Epoch 27/250\n",
      "\u001b[1m37/37\u001b[0m \u001b[32m━━━━━━━━━━━━━━━━━━━━\u001b[0m\u001b[37m\u001b[0m \u001b[1m0s\u001b[0m 3ms/step - auc: 0.9472 - binary_accuracy: 0.8752 - loss: 0.2773 - val_auc: 0.9624 - val_binary_accuracy: 0.9011 - val_loss: 0.2276\n",
      "Epoch 28/250\n",
      "\u001b[1m37/37\u001b[0m \u001b[32m━━━━━━━━━━━━━━━━━━━━\u001b[0m\u001b[37m\u001b[0m \u001b[1m0s\u001b[0m 2ms/step - auc: 0.9512 - binary_accuracy: 0.9215 - loss: 0.2499 - val_auc: 0.9689 - val_binary_accuracy: 0.9121 - val_loss: 0.2310\n",
      "Epoch 29/250\n",
      "\u001b[1m37/37\u001b[0m \u001b[32m━━━━━━━━━━━━━━━━━━━━\u001b[0m\u001b[37m\u001b[0m \u001b[1m0s\u001b[0m 3ms/step - auc: 0.9402 - binary_accuracy: 0.8645 - loss: 0.2887 - val_auc: 0.9707 - val_binary_accuracy: 0.9231 - val_loss: 0.2712\n",
      "Epoch 30/250\n",
      "\u001b[1m37/37\u001b[0m \u001b[32m━━━━━━━━━━━━━━━━━━━━\u001b[0m\u001b[37m\u001b[0m \u001b[1m0s\u001b[0m 3ms/step - auc: 0.9462 - binary_accuracy: 0.8924 - loss: 0.2780 - val_auc: 0.9692 - val_binary_accuracy: 0.9121 - val_loss: 0.2393\n",
      "Epoch 31/250\n",
      "\u001b[1m37/37\u001b[0m \u001b[32m━━━━━━━━━━━━━━━━━━━━\u001b[0m\u001b[37m\u001b[0m \u001b[1m0s\u001b[0m 3ms/step - auc: 0.9479 - binary_accuracy: 0.8798 - loss: 0.2759 - val_auc: 0.9692 - val_binary_accuracy: 0.9121 - val_loss: 0.2296\n",
      "Epoch 32/250\n",
      "\u001b[1m37/37\u001b[0m \u001b[32m━━━━━━━━━━━━━━━━━━━━\u001b[0m\u001b[37m\u001b[0m \u001b[1m0s\u001b[0m 2ms/step - auc: 0.9611 - binary_accuracy: 0.8850 - loss: 0.2357 - val_auc: 0.9697 - val_binary_accuracy: 0.9231 - val_loss: 0.2442\n",
      "Epoch 33/250\n",
      "\u001b[1m37/37\u001b[0m \u001b[32m━━━━━━━━━━━━━━━━━━━━\u001b[0m\u001b[37m\u001b[0m \u001b[1m0s\u001b[0m 2ms/step - auc: 0.9480 - binary_accuracy: 0.8902 - loss: 0.2586 - val_auc: 0.9646 - val_binary_accuracy: 0.9011 - val_loss: 0.2199\n",
      "Epoch 34/250\n",
      "\u001b[1m37/37\u001b[0m \u001b[32m━━━━━━━━━━━━━━━━━━━━\u001b[0m\u001b[37m\u001b[0m \u001b[1m0s\u001b[0m 2ms/step - auc: 0.9390 - binary_accuracy: 0.8801 - loss: 0.2898 - val_auc: 0.9702 - val_binary_accuracy: 0.9231 - val_loss: 0.2318\n",
      "Epoch 35/250\n",
      "\u001b[1m37/37\u001b[0m \u001b[32m━━━━━━━━━━━━━━━━━━━━\u001b[0m\u001b[37m\u001b[0m \u001b[1m0s\u001b[0m 3ms/step - auc: 0.9555 - binary_accuracy: 0.9134 - loss: 0.2480 - val_auc: 0.9634 - val_binary_accuracy: 0.9121 - val_loss: 0.2693\n",
      "Epoch 36/250\n",
      "\u001b[1m37/37\u001b[0m \u001b[32m━━━━━━━━━━━━━━━━━━━━\u001b[0m\u001b[37m\u001b[0m \u001b[1m0s\u001b[0m 3ms/step - auc: 0.9542 - binary_accuracy: 0.8955 - loss: 0.2459 - val_auc: 0.9679 - val_binary_accuracy: 0.9121 - val_loss: 0.2126\n",
      "Epoch 37/250\n",
      "\u001b[1m37/37\u001b[0m \u001b[32m━━━━━━━━━━━━━━━━━━━━\u001b[0m\u001b[37m\u001b[0m \u001b[1m0s\u001b[0m 2ms/step - auc: 0.9507 - binary_accuracy: 0.9160 - loss: 0.2383 - val_auc: 0.9702 - val_binary_accuracy: 0.9121 - val_loss: 0.2154\n",
      "Epoch 38/250\n",
      "\u001b[1m37/37\u001b[0m \u001b[32m━━━━━━━━━━━━━━━━━━━━\u001b[0m\u001b[37m\u001b[0m \u001b[1m0s\u001b[0m 3ms/step - auc: 0.9608 - binary_accuracy: 0.9018 - loss: 0.2298 - val_auc: 0.9659 - val_binary_accuracy: 0.9121 - val_loss: 0.2458\n",
      "Epoch 39/250\n",
      "\u001b[1m37/37\u001b[0m \u001b[32m━━━━━━━━━━━━━━━━━━━━\u001b[0m\u001b[37m\u001b[0m \u001b[1m0s\u001b[0m 3ms/step - auc: 0.9727 - binary_accuracy: 0.9032 - loss: 0.2269 - val_auc: 0.9710 - val_binary_accuracy: 0.9121 - val_loss: 0.2115\n",
      "Epoch 40/250\n"
     ]
    },
    {
     "name": "stdout",
     "output_type": "stream",
     "text": [
      "\u001b[1m37/37\u001b[0m \u001b[32m━━━━━━━━━━━━━━━━━━━━\u001b[0m\u001b[37m\u001b[0m \u001b[1m0s\u001b[0m 2ms/step - auc: 0.9317 - binary_accuracy: 0.8796 - loss: 0.2677 - val_auc: 0.9707 - val_binary_accuracy: 0.9121 - val_loss: 0.2088\n",
      "Epoch 41/250\n",
      "\u001b[1m37/37\u001b[0m \u001b[32m━━━━━━━━━━━━━━━━━━━━\u001b[0m\u001b[37m\u001b[0m \u001b[1m0s\u001b[0m 2ms/step - auc: 0.9581 - binary_accuracy: 0.9040 - loss: 0.2451 - val_auc: 0.9669 - val_binary_accuracy: 0.9121 - val_loss: 0.2321\n",
      "Epoch 42/250\n",
      "\u001b[1m37/37\u001b[0m \u001b[32m━━━━━━━━━━━━━━━━━━━━\u001b[0m\u001b[37m\u001b[0m \u001b[1m0s\u001b[0m 2ms/step - auc: 0.9591 - binary_accuracy: 0.9037 - loss: 0.2357 - val_auc: 0.9722 - val_binary_accuracy: 0.9341 - val_loss: 0.2330\n",
      "Epoch 43/250\n",
      "\u001b[1m37/37\u001b[0m \u001b[32m━━━━━━━━━━━━━━━━━━━━\u001b[0m\u001b[37m\u001b[0m \u001b[1m0s\u001b[0m 2ms/step - auc: 0.9603 - binary_accuracy: 0.8980 - loss: 0.2342 - val_auc: 0.9712 - val_binary_accuracy: 0.9121 - val_loss: 0.2050\n",
      "Epoch 44/250\n",
      "\u001b[1m37/37\u001b[0m \u001b[32m━━━━━━━━━━━━━━━━━━━━\u001b[0m\u001b[37m\u001b[0m \u001b[1m0s\u001b[0m 2ms/step - auc: 0.9648 - binary_accuracy: 0.9119 - loss: 0.2224 - val_auc: 0.9727 - val_binary_accuracy: 0.9121 - val_loss: 0.2101\n",
      "Epoch 45/250\n",
      "\u001b[1m37/37\u001b[0m \u001b[32m━━━━━━━━━━━━━━━━━━━━\u001b[0m\u001b[37m\u001b[0m \u001b[1m0s\u001b[0m 2ms/step - auc: 0.9527 - binary_accuracy: 0.9137 - loss: 0.2419 - val_auc: 0.9730 - val_binary_accuracy: 0.9341 - val_loss: 0.2361\n",
      "Epoch 46/250\n",
      "\u001b[1m37/37\u001b[0m \u001b[32m━━━━━━━━━━━━━━━━━━━━\u001b[0m\u001b[37m\u001b[0m \u001b[1m0s\u001b[0m 3ms/step - auc: 0.9567 - binary_accuracy: 0.9173 - loss: 0.2442 - val_auc: 0.9702 - val_binary_accuracy: 0.9121 - val_loss: 0.2091\n",
      "Epoch 47/250\n",
      "\u001b[1m37/37\u001b[0m \u001b[32m━━━━━━━━━━━━━━━━━━━━\u001b[0m\u001b[37m\u001b[0m \u001b[1m0s\u001b[0m 2ms/step - auc: 0.9527 - binary_accuracy: 0.9043 - loss: 0.2438 - val_auc: 0.9737 - val_binary_accuracy: 0.9341 - val_loss: 0.2250\n",
      "Epoch 48/250\n",
      "\u001b[1m37/37\u001b[0m \u001b[32m━━━━━━━━━━━━━━━━━━━━\u001b[0m\u001b[37m\u001b[0m \u001b[1m0s\u001b[0m 2ms/step - auc: 0.9631 - binary_accuracy: 0.9103 - loss: 0.2391 - val_auc: 0.9737 - val_binary_accuracy: 0.9341 - val_loss: 0.2308\n",
      "Epoch 49/250\n",
      "\u001b[1m37/37\u001b[0m \u001b[32m━━━━━━━━━━━━━━━━━━━━\u001b[0m\u001b[37m\u001b[0m \u001b[1m0s\u001b[0m 3ms/step - auc: 0.9552 - binary_accuracy: 0.8798 - loss: 0.2573 - val_auc: 0.9735 - val_binary_accuracy: 0.9121 - val_loss: 0.1992\n",
      "Epoch 50/250\n",
      "\u001b[1m37/37\u001b[0m \u001b[32m━━━━━━━━━━━━━━━━━━━━\u001b[0m\u001b[37m\u001b[0m \u001b[1m0s\u001b[0m 2ms/step - auc: 0.9491 - binary_accuracy: 0.9163 - loss: 0.2571 - val_auc: 0.9742 - val_binary_accuracy: 0.8462 - val_loss: 0.3146\n",
      "Epoch 51/250\n",
      "\u001b[1m37/37\u001b[0m \u001b[32m━━━━━━━━━━━━━━━━━━━━\u001b[0m\u001b[37m\u001b[0m \u001b[1m0s\u001b[0m 3ms/step - auc: 0.9551 - binary_accuracy: 0.9097 - loss: 0.2473 - val_auc: 0.9727 - val_binary_accuracy: 0.9121 - val_loss: 0.1972\n",
      "Epoch 52/250\n",
      "\u001b[1m37/37\u001b[0m \u001b[32m━━━━━━━━━━━━━━━━━━━━\u001b[0m\u001b[37m\u001b[0m \u001b[1m0s\u001b[0m 3ms/step - auc: 0.9245 - binary_accuracy: 0.8605 - loss: 0.2970 - val_auc: 0.9737 - val_binary_accuracy: 0.9341 - val_loss: 0.2283\n",
      "Epoch 53/250\n",
      "\u001b[1m37/37\u001b[0m \u001b[32m━━━━━━━━━━━━━━━━━━━━\u001b[0m\u001b[37m\u001b[0m \u001b[1m0s\u001b[0m 2ms/step - auc: 0.9632 - binary_accuracy: 0.9019 - loss: 0.2241 - val_auc: 0.9720 - val_binary_accuracy: 0.9121 - val_loss: 0.1964\n",
      "Epoch 54/250\n",
      "\u001b[1m37/37\u001b[0m \u001b[32m━━━━━━━━━━━━━━━━━━━━\u001b[0m\u001b[37m\u001b[0m \u001b[1m0s\u001b[0m 2ms/step - auc: 0.9626 - binary_accuracy: 0.9165 - loss: 0.2199 - val_auc: 0.9727 - val_binary_accuracy: 0.9121 - val_loss: 0.1954\n",
      "Epoch 55/250\n",
      "\u001b[1m37/37\u001b[0m \u001b[32m━━━━━━━━━━━━━━━━━━━━\u001b[0m\u001b[37m\u001b[0m \u001b[1m0s\u001b[0m 3ms/step - auc: 0.9513 - binary_accuracy: 0.9016 - loss: 0.2442 - val_auc: 0.9745 - val_binary_accuracy: 0.9341 - val_loss: 0.2124\n",
      "Epoch 56/250\n",
      "\u001b[1m37/37\u001b[0m \u001b[32m━━━━━━━━━━━━━━━━━━━━\u001b[0m\u001b[37m\u001b[0m \u001b[1m0s\u001b[0m 2ms/step - auc: 0.9593 - binary_accuracy: 0.8906 - loss: 0.2488 - val_auc: 0.9740 - val_binary_accuracy: 0.9341 - val_loss: 0.2154\n",
      "Epoch 57/250\n",
      "\u001b[1m37/37\u001b[0m \u001b[32m━━━━━━━━━━━━━━━━━━━━\u001b[0m\u001b[37m\u001b[0m \u001b[1m0s\u001b[0m 3ms/step - auc: 0.9563 - binary_accuracy: 0.9082 - loss: 0.2393 - val_auc: 0.9689 - val_binary_accuracy: 0.9121 - val_loss: 0.2383\n",
      "Epoch 58/250\n",
      "\u001b[1m37/37\u001b[0m \u001b[32m━━━━━━━━━━━━━━━━━━━━\u001b[0m\u001b[37m\u001b[0m \u001b[1m0s\u001b[0m 2ms/step - auc: 0.9400 - binary_accuracy: 0.8766 - loss: 0.2958 - val_auc: 0.9758 - val_binary_accuracy: 0.9121 - val_loss: 0.1919\n",
      "Epoch 59/250\n",
      "\u001b[1m37/37\u001b[0m \u001b[32m━━━━━━━━━━━━━━━━━━━━\u001b[0m\u001b[37m\u001b[0m \u001b[1m0s\u001b[0m 3ms/step - auc: 0.9531 - binary_accuracy: 0.9059 - loss: 0.2382 - val_auc: 0.9750 - val_binary_accuracy: 0.9121 - val_loss: 0.1913\n",
      "Epoch 60/250\n",
      "\u001b[1m37/37\u001b[0m \u001b[32m━━━━━━━━━━━━━━━━━━━━\u001b[0m\u001b[37m\u001b[0m \u001b[1m0s\u001b[0m 3ms/step - auc: 0.9693 - binary_accuracy: 0.9317 - loss: 0.2004 - val_auc: 0.9765 - val_binary_accuracy: 0.9121 - val_loss: 0.1898\n",
      "Epoch 61/250\n",
      "\u001b[1m37/37\u001b[0m \u001b[32m━━━━━━━━━━━━━━━━━━━━\u001b[0m\u001b[37m\u001b[0m \u001b[1m0s\u001b[0m 3ms/step - auc: 0.9703 - binary_accuracy: 0.9202 - loss: 0.2140 - val_auc: 0.9737 - val_binary_accuracy: 0.9341 - val_loss: 0.2358\n",
      "Epoch 62/250\n",
      "\u001b[1m37/37\u001b[0m \u001b[32m━━━━━━━━━━━━━━━━━━━━\u001b[0m\u001b[37m\u001b[0m \u001b[1m0s\u001b[0m 2ms/step - auc: 0.9652 - binary_accuracy: 0.9077 - loss: 0.2205 - val_auc: 0.9715 - val_binary_accuracy: 0.9121 - val_loss: 0.2060\n",
      "Epoch 63/250\n",
      "\u001b[1m37/37\u001b[0m \u001b[32m━━━━━━━━━━━━━━━━━━━━\u001b[0m\u001b[37m\u001b[0m \u001b[1m0s\u001b[0m 3ms/step - auc: 0.9609 - binary_accuracy: 0.9153 - loss: 0.2276 - val_auc: 0.9763 - val_binary_accuracy: 0.9121 - val_loss: 0.1887\n",
      "Epoch 64/250\n",
      "\u001b[1m37/37\u001b[0m \u001b[32m━━━━━━━━━━━━━━━━━━━━\u001b[0m\u001b[37m\u001b[0m \u001b[1m0s\u001b[0m 3ms/step - auc: 0.9758 - binary_accuracy: 0.9294 - loss: 0.1952 - val_auc: 0.9775 - val_binary_accuracy: 0.9341 - val_loss: 0.2042\n",
      "Epoch 65/250\n",
      "\u001b[1m37/37\u001b[0m \u001b[32m━━━━━━━━━━━━━━━━━━━━\u001b[0m\u001b[37m\u001b[0m \u001b[1m0s\u001b[0m 3ms/step - auc: 0.9556 - binary_accuracy: 0.9012 - loss: 0.2278 - val_auc: 0.9720 - val_binary_accuracy: 0.9121 - val_loss: 0.2024\n",
      "Epoch 66/250\n",
      "\u001b[1m37/37\u001b[0m \u001b[32m━━━━━━━━━━━━━━━━━━━━\u001b[0m\u001b[37m\u001b[0m \u001b[1m0s\u001b[0m 2ms/step - auc: 0.9640 - binary_accuracy: 0.9081 - loss: 0.2169 - val_auc: 0.9770 - val_binary_accuracy: 0.9341 - val_loss: 0.2121\n",
      "Epoch 67/250\n",
      "\u001b[1m37/37\u001b[0m \u001b[32m━━━━━━━━━━━━━━━━━━━━\u001b[0m\u001b[37m\u001b[0m \u001b[1m0s\u001b[0m 3ms/step - auc: 0.9604 - binary_accuracy: 0.9032 - loss: 0.2285 - val_auc: 0.9770 - val_binary_accuracy: 0.9121 - val_loss: 0.1854\n",
      "Epoch 68/250\n",
      "\u001b[1m37/37\u001b[0m \u001b[32m━━━━━━━━━━━━━━━━━━━━\u001b[0m\u001b[37m\u001b[0m \u001b[1m0s\u001b[0m 3ms/step - auc: 0.9657 - binary_accuracy: 0.9140 - loss: 0.2164 - val_auc: 0.9775 - val_binary_accuracy: 0.9341 - val_loss: 0.1961\n",
      "Epoch 69/250\n",
      "\u001b[1m37/37\u001b[0m \u001b[32m━━━━━━━━━━━━━━━━━━━━\u001b[0m\u001b[37m\u001b[0m \u001b[1m0s\u001b[0m 3ms/step - auc: 0.9677 - binary_accuracy: 0.9195 - loss: 0.2033 - val_auc: 0.9775 - val_binary_accuracy: 0.9341 - val_loss: 0.1964\n",
      "Epoch 70/250\n",
      "\u001b[1m37/37\u001b[0m \u001b[32m━━━━━━━━━━━━━━━━━━━━\u001b[0m\u001b[37m\u001b[0m \u001b[1m0s\u001b[0m 3ms/step - auc: 0.9447 - binary_accuracy: 0.9076 - loss: 0.2477 - val_auc: 0.9778 - val_binary_accuracy: 0.9121 - val_loss: 0.1833\n",
      "Epoch 71/250\n",
      "\u001b[1m37/37\u001b[0m \u001b[32m━━━━━━━━━━━━━━━━━━━━\u001b[0m\u001b[37m\u001b[0m \u001b[1m0s\u001b[0m 2ms/step - auc: 0.9612 - binary_accuracy: 0.9112 - loss: 0.2448 - val_auc: 0.9770 - val_binary_accuracy: 0.9341 - val_loss: 0.1960\n",
      "Epoch 72/250\n",
      "\u001b[1m37/37\u001b[0m \u001b[32m━━━━━━━━━━━━━━━━━━━━\u001b[0m\u001b[37m\u001b[0m \u001b[1m0s\u001b[0m 2ms/step - auc: 0.9783 - binary_accuracy: 0.9335 - loss: 0.1926 - val_auc: 0.9778 - val_binary_accuracy: 0.9231 - val_loss: 0.1844\n",
      "Epoch 73/250\n",
      "\u001b[1m37/37\u001b[0m \u001b[32m━━━━━━━━━━━━━━━━━━━━\u001b[0m\u001b[37m\u001b[0m \u001b[1m0s\u001b[0m 2ms/step - auc: 0.9804 - binary_accuracy: 0.9545 - loss: 0.1687 - val_auc: 0.9765 - val_binary_accuracy: 0.9341 - val_loss: 0.1942\n",
      "Epoch 74/250\n",
      "\u001b[1m37/37\u001b[0m \u001b[32m━━━━━━━━━━━━━━━━━━━━\u001b[0m\u001b[37m\u001b[0m \u001b[1m0s\u001b[0m 2ms/step - auc: 0.9768 - binary_accuracy: 0.9186 - loss: 0.1989 - val_auc: 0.9765 - val_binary_accuracy: 0.9341 - val_loss: 0.1882\n",
      "Epoch 75/250\n",
      "\u001b[1m37/37\u001b[0m \u001b[32m━━━━━━━━━━━━━━━━━━━━\u001b[0m\u001b[37m\u001b[0m \u001b[1m0s\u001b[0m 3ms/step - auc: 0.9738 - binary_accuracy: 0.9175 - loss: 0.2004 - val_auc: 0.9785 - val_binary_accuracy: 0.9231 - val_loss: 0.1813\n",
      "Epoch 76/250\n",
      "\u001b[1m37/37\u001b[0m \u001b[32m━━━━━━━━━━━━━━━━━━━━\u001b[0m\u001b[37m\u001b[0m \u001b[1m0s\u001b[0m 3ms/step - auc: 0.9661 - binary_accuracy: 0.9079 - loss: 0.2180 - val_auc: 0.9780 - val_binary_accuracy: 0.9341 - val_loss: 0.2149\n",
      "Epoch 77/250\n",
      "\u001b[1m37/37\u001b[0m \u001b[32m━━━━━━━━━━━━━━━━━━━━\u001b[0m\u001b[37m\u001b[0m \u001b[1m0s\u001b[0m 3ms/step - auc: 0.9654 - binary_accuracy: 0.9137 - loss: 0.2178 - val_auc: 0.9775 - val_binary_accuracy: 0.9231 - val_loss: 0.1802\n",
      "Epoch 78/250\n",
      "\u001b[1m37/37\u001b[0m \u001b[32m━━━━━━━━━━━━━━━━━━━━\u001b[0m\u001b[37m\u001b[0m \u001b[1m0s\u001b[0m 3ms/step - auc: 0.9677 - binary_accuracy: 0.9132 - loss: 0.2131 - val_auc: 0.9745 - val_binary_accuracy: 0.9121 - val_loss: 0.2087\n",
      "Epoch 79/250\n"
     ]
    },
    {
     "name": "stdout",
     "output_type": "stream",
     "text": [
      "\u001b[1m37/37\u001b[0m \u001b[32m━━━━━━━━━━━━━━━━━━━━\u001b[0m\u001b[37m\u001b[0m \u001b[1m0s\u001b[0m 3ms/step - auc: 0.9600 - binary_accuracy: 0.9197 - loss: 0.2201 - val_auc: 0.9780 - val_binary_accuracy: 0.9121 - val_loss: 0.1785\n",
      "Epoch 80/250\n",
      "\u001b[1m37/37\u001b[0m \u001b[32m━━━━━━━━━━━━━━━━━━━━\u001b[0m\u001b[37m\u001b[0m \u001b[1m0s\u001b[0m 2ms/step - auc: 0.9684 - binary_accuracy: 0.9111 - loss: 0.2099 - val_auc: 0.9730 - val_binary_accuracy: 0.9121 - val_loss: 0.2238\n",
      "Epoch 81/250\n",
      "\u001b[1m37/37\u001b[0m \u001b[32m━━━━━━━━━━━━━━━━━━━━\u001b[0m\u001b[37m\u001b[0m \u001b[1m0s\u001b[0m 3ms/step - auc: 0.9354 - binary_accuracy: 0.9012 - loss: 0.2747 - val_auc: 0.9747 - val_binary_accuracy: 0.9121 - val_loss: 0.2007\n",
      "Epoch 82/250\n",
      "\u001b[1m37/37\u001b[0m \u001b[32m━━━━━━━━━━━━━━━━━━━━\u001b[0m\u001b[37m\u001b[0m \u001b[1m0s\u001b[0m 3ms/step - auc: 0.9737 - binary_accuracy: 0.9139 - loss: 0.2098 - val_auc: 0.9775 - val_binary_accuracy: 0.9121 - val_loss: 0.1901\n",
      "Epoch 83/250\n",
      "\u001b[1m37/37\u001b[0m \u001b[32m━━━━━━━━━━━━━━━━━━━━\u001b[0m\u001b[37m\u001b[0m \u001b[1m0s\u001b[0m 3ms/step - auc: 0.9507 - binary_accuracy: 0.9084 - loss: 0.2442 - val_auc: 0.9795 - val_binary_accuracy: 0.9121 - val_loss: 0.2399\n",
      "Epoch 84/250\n",
      "\u001b[1m37/37\u001b[0m \u001b[32m━━━━━━━━━━━━━━━━━━━━\u001b[0m\u001b[37m\u001b[0m \u001b[1m0s\u001b[0m 2ms/step - auc: 0.9686 - binary_accuracy: 0.9108 - loss: 0.2448 - val_auc: 0.9788 - val_binary_accuracy: 0.9341 - val_loss: 0.1989\n",
      "Epoch 85/250\n",
      "\u001b[1m37/37\u001b[0m \u001b[32m━━━━━━━━━━━━━━━━━━━━\u001b[0m\u001b[37m\u001b[0m \u001b[1m0s\u001b[0m 3ms/step - auc: 0.9768 - binary_accuracy: 0.9292 - loss: 0.1831 - val_auc: 0.9790 - val_binary_accuracy: 0.9341 - val_loss: 0.1981\n",
      "Epoch 86/250\n",
      "\u001b[1m37/37\u001b[0m \u001b[32m━━━━━━━━━━━━━━━━━━━━\u001b[0m\u001b[37m\u001b[0m \u001b[1m0s\u001b[0m 2ms/step - auc: 0.9734 - binary_accuracy: 0.9163 - loss: 0.2072 - val_auc: 0.9783 - val_binary_accuracy: 0.9341 - val_loss: 0.1773\n",
      "Epoch 87/250\n",
      "\u001b[1m37/37\u001b[0m \u001b[32m━━━━━━━━━━━━━━━━━━━━\u001b[0m\u001b[37m\u001b[0m \u001b[1m0s\u001b[0m 3ms/step - auc: 0.9786 - binary_accuracy: 0.9307 - loss: 0.1789 - val_auc: 0.9783 - val_binary_accuracy: 0.9341 - val_loss: 0.1789\n",
      "Epoch 88/250\n",
      "\u001b[1m37/37\u001b[0m \u001b[32m━━━━━━━━━━━━━━━━━━━━\u001b[0m\u001b[37m\u001b[0m \u001b[1m0s\u001b[0m 3ms/step - auc: 0.9796 - binary_accuracy: 0.9391 - loss: 0.1627 - val_auc: 0.9783 - val_binary_accuracy: 0.9231 - val_loss: 0.1839\n",
      "Epoch 89/250\n",
      "\u001b[1m37/37\u001b[0m \u001b[32m━━━━━━━━━━━━━━━━━━━━\u001b[0m\u001b[37m\u001b[0m \u001b[1m0s\u001b[0m 2ms/step - auc: 0.9691 - binary_accuracy: 0.9148 - loss: 0.2091 - val_auc: 0.9795 - val_binary_accuracy: 0.9341 - val_loss: 0.1770\n",
      "Epoch 90/250\n",
      "\u001b[1m37/37\u001b[0m \u001b[32m━━━━━━━━━━━━━━━━━━━━\u001b[0m\u001b[37m\u001b[0m \u001b[1m0s\u001b[0m 2ms/step - auc: 0.9731 - binary_accuracy: 0.9222 - loss: 0.2088 - val_auc: 0.9798 - val_binary_accuracy: 0.9231 - val_loss: 0.1732\n",
      "Epoch 91/250\n",
      "\u001b[1m37/37\u001b[0m \u001b[32m━━━━━━━━━━━━━━━━━━━━\u001b[0m\u001b[37m\u001b[0m \u001b[1m0s\u001b[0m 3ms/step - auc: 0.9773 - binary_accuracy: 0.9157 - loss: 0.1908 - val_auc: 0.9795 - val_binary_accuracy: 0.9341 - val_loss: 0.1735\n",
      "Epoch 92/250\n",
      "\u001b[1m37/37\u001b[0m \u001b[32m━━━━━━━━━━━━━━━━━━━━\u001b[0m\u001b[37m\u001b[0m \u001b[1m0s\u001b[0m 3ms/step - auc: 0.9715 - binary_accuracy: 0.9111 - loss: 0.2034 - val_auc: 0.9803 - val_binary_accuracy: 0.9341 - val_loss: 0.1820\n",
      "Epoch 93/250\n",
      "\u001b[1m37/37\u001b[0m \u001b[32m━━━━━━━━━━━━━━━━━━━━\u001b[0m\u001b[37m\u001b[0m \u001b[1m0s\u001b[0m 3ms/step - auc: 0.9807 - binary_accuracy: 0.9308 - loss: 0.1885 - val_auc: 0.9775 - val_binary_accuracy: 0.9121 - val_loss: 0.1970\n",
      "Epoch 94/250\n",
      "\u001b[1m37/37\u001b[0m \u001b[32m━━━━━━━━━━━━━━━━━━━━\u001b[0m\u001b[37m\u001b[0m \u001b[1m0s\u001b[0m 3ms/step - auc: 0.9764 - binary_accuracy: 0.9301 - loss: 0.1776 - val_auc: 0.9758 - val_binary_accuracy: 0.9121 - val_loss: 0.2123\n",
      "Epoch 95/250\n",
      "\u001b[1m37/37\u001b[0m \u001b[32m━━━━━━━━━━━━━━━━━━━━\u001b[0m\u001b[37m\u001b[0m \u001b[1m0s\u001b[0m 2ms/step - auc: 0.9714 - binary_accuracy: 0.9090 - loss: 0.2151 - val_auc: 0.9806 - val_binary_accuracy: 0.9341 - val_loss: 0.1745\n",
      "Epoch 96/250\n",
      "\u001b[1m37/37\u001b[0m \u001b[32m━━━━━━━━━━━━━━━━━━━━\u001b[0m\u001b[37m\u001b[0m \u001b[1m0s\u001b[0m 2ms/step - auc: 0.9799 - binary_accuracy: 0.9460 - loss: 0.1694 - val_auc: 0.9803 - val_binary_accuracy: 0.9341 - val_loss: 0.1768\n",
      "Epoch 97/250\n",
      "\u001b[1m37/37\u001b[0m \u001b[32m━━━━━━━━━━━━━━━━━━━━\u001b[0m\u001b[37m\u001b[0m \u001b[1m0s\u001b[0m 2ms/step - auc: 0.9732 - binary_accuracy: 0.9144 - loss: 0.2111 - val_auc: 0.9780 - val_binary_accuracy: 0.9231 - val_loss: 0.1847\n",
      "Epoch 98/250\n",
      "\u001b[1m37/37\u001b[0m \u001b[32m━━━━━━━━━━━━━━━━━━━━\u001b[0m\u001b[37m\u001b[0m \u001b[1m0s\u001b[0m 3ms/step - auc: 0.9667 - binary_accuracy: 0.9360 - loss: 0.1975 - val_auc: 0.9813 - val_binary_accuracy: 0.9231 - val_loss: 0.2103\n",
      "Epoch 99/250\n",
      "\u001b[1m37/37\u001b[0m \u001b[32m━━━━━━━━━━━━━━━━━━━━\u001b[0m\u001b[37m\u001b[0m \u001b[1m0s\u001b[0m 3ms/step - auc: 0.9735 - binary_accuracy: 0.9213 - loss: 0.2075 - val_auc: 0.9732 - val_binary_accuracy: 0.9121 - val_loss: 0.2251\n",
      "Epoch 100/250\n",
      "\u001b[1m37/37\u001b[0m \u001b[32m━━━━━━━━━━━━━━━━━━━━\u001b[0m\u001b[37m\u001b[0m \u001b[1m0s\u001b[0m 3ms/step - auc: 0.9678 - binary_accuracy: 0.8922 - loss: 0.2405 - val_auc: 0.9795 - val_binary_accuracy: 0.9341 - val_loss: 0.1706\n",
      "Epoch 101/250\n",
      "\u001b[1m37/37\u001b[0m \u001b[32m━━━━━━━━━━━━━━━━━━━━\u001b[0m\u001b[37m\u001b[0m \u001b[1m0s\u001b[0m 3ms/step - auc: 0.9872 - binary_accuracy: 0.9579 - loss: 0.1360 - val_auc: 0.9811 - val_binary_accuracy: 0.9341 - val_loss: 0.1814\n",
      "Epoch 102/250\n",
      "\u001b[1m37/37\u001b[0m \u001b[32m━━━━━━━━━━━━━━━━━━━━\u001b[0m\u001b[37m\u001b[0m \u001b[1m0s\u001b[0m 3ms/step - auc: 0.9786 - binary_accuracy: 0.9264 - loss: 0.1702 - val_auc: 0.9801 - val_binary_accuracy: 0.9231 - val_loss: 0.1796\n",
      "Epoch 103/250\n",
      "\u001b[1m37/37\u001b[0m \u001b[32m━━━━━━━━━━━━━━━━━━━━\u001b[0m\u001b[37m\u001b[0m \u001b[1m0s\u001b[0m 3ms/step - auc: 0.9691 - binary_accuracy: 0.9200 - loss: 0.2058 - val_auc: 0.9803 - val_binary_accuracy: 0.9341 - val_loss: 0.1681\n",
      "Epoch 104/250\n",
      "\u001b[1m37/37\u001b[0m \u001b[32m━━━━━━━━━━━━━━━━━━━━\u001b[0m\u001b[37m\u001b[0m \u001b[1m0s\u001b[0m 3ms/step - auc: 0.9693 - binary_accuracy: 0.8929 - loss: 0.2255 - val_auc: 0.9795 - val_binary_accuracy: 0.9341 - val_loss: 0.1761\n",
      "Epoch 105/250\n",
      "\u001b[1m37/37\u001b[0m \u001b[32m━━━━━━━━━━━━━━━━━━━━\u001b[0m\u001b[37m\u001b[0m \u001b[1m0s\u001b[0m 3ms/step - auc: 0.9810 - binary_accuracy: 0.9090 - loss: 0.1817 - val_auc: 0.9808 - val_binary_accuracy: 0.9341 - val_loss: 0.1709\n",
      "Epoch 106/250\n",
      "\u001b[1m37/37\u001b[0m \u001b[32m━━━━━━━━━━━━━━━━━━━━\u001b[0m\u001b[37m\u001b[0m \u001b[1m0s\u001b[0m 2ms/step - auc: 0.9765 - binary_accuracy: 0.9230 - loss: 0.1938 - val_auc: 0.9818 - val_binary_accuracy: 0.9231 - val_loss: 0.1936\n",
      "Epoch 107/250\n",
      "\u001b[1m37/37\u001b[0m \u001b[32m━━━━━━━━━━━━━━━━━━━━\u001b[0m\u001b[37m\u001b[0m \u001b[1m0s\u001b[0m 3ms/step - auc: 0.9758 - binary_accuracy: 0.9292 - loss: 0.1897 - val_auc: 0.9806 - val_binary_accuracy: 0.9451 - val_loss: 0.1667\n",
      "Epoch 108/250\n",
      "\u001b[1m37/37\u001b[0m \u001b[32m━━━━━━━━━━━━━━━━━━━━\u001b[0m\u001b[37m\u001b[0m \u001b[1m0s\u001b[0m 3ms/step - auc: 0.9838 - binary_accuracy: 0.9483 - loss: 0.1545 - val_auc: 0.9808 - val_binary_accuracy: 0.9451 - val_loss: 0.1671\n",
      "Epoch 109/250\n",
      "\u001b[1m37/37\u001b[0m \u001b[32m━━━━━━━━━━━━━━━━━━━━\u001b[0m\u001b[37m\u001b[0m \u001b[1m0s\u001b[0m 2ms/step - auc: 0.9697 - binary_accuracy: 0.9315 - loss: 0.1840 - val_auc: 0.9818 - val_binary_accuracy: 0.9231 - val_loss: 0.1857\n",
      "Epoch 110/250\n",
      "\u001b[1m37/37\u001b[0m \u001b[32m━━━━━━━━━━━━━━━━━━━━\u001b[0m\u001b[37m\u001b[0m \u001b[1m0s\u001b[0m 3ms/step - auc: 0.9626 - binary_accuracy: 0.9190 - loss: 0.2146 - val_auc: 0.9803 - val_binary_accuracy: 0.9121 - val_loss: 0.1850\n",
      "Epoch 111/250\n",
      "\u001b[1m37/37\u001b[0m \u001b[32m━━━━━━━━━━━━━━━━━━━━\u001b[0m\u001b[37m\u001b[0m \u001b[1m0s\u001b[0m 3ms/step - auc: 0.9803 - binary_accuracy: 0.9089 - loss: 0.1832 - val_auc: 0.9795 - val_binary_accuracy: 0.9121 - val_loss: 0.1932\n",
      "Epoch 112/250\n",
      "\u001b[1m37/37\u001b[0m \u001b[32m━━━━━━━━━━━━━━━━━━━━\u001b[0m\u001b[37m\u001b[0m \u001b[1m0s\u001b[0m 3ms/step - auc: 0.9823 - binary_accuracy: 0.9312 - loss: 0.1698 - val_auc: 0.9798 - val_binary_accuracy: 0.9341 - val_loss: 0.1688\n",
      "Epoch 113/250\n",
      "\u001b[1m37/37\u001b[0m \u001b[32m━━━━━━━━━━━━━━━━━━━━\u001b[0m\u001b[37m\u001b[0m \u001b[1m0s\u001b[0m 3ms/step - auc: 0.9768 - binary_accuracy: 0.9141 - loss: 0.1983 - val_auc: 0.9818 - val_binary_accuracy: 0.9341 - val_loss: 0.1736\n",
      "Epoch 114/250\n",
      "\u001b[1m37/37\u001b[0m \u001b[32m━━━━━━━━━━━━━━━━━━━━\u001b[0m\u001b[37m\u001b[0m \u001b[1m0s\u001b[0m 3ms/step - auc: 0.9743 - binary_accuracy: 0.9193 - loss: 0.2041 - val_auc: 0.9798 - val_binary_accuracy: 0.9231 - val_loss: 0.1788\n",
      "Epoch 115/250\n",
      "\u001b[1m37/37\u001b[0m \u001b[32m━━━━━━━━━━━━━━━━━━━━\u001b[0m\u001b[37m\u001b[0m \u001b[1m0s\u001b[0m 2ms/step - auc: 0.9790 - binary_accuracy: 0.9293 - loss: 0.1704 - val_auc: 0.9818 - val_binary_accuracy: 0.9121 - val_loss: 0.2036\n",
      "Epoch 116/250\n",
      "\u001b[1m37/37\u001b[0m \u001b[32m━━━━━━━━━━━━━━━━━━━━\u001b[0m\u001b[37m\u001b[0m \u001b[1m0s\u001b[0m 3ms/step - auc: 0.9753 - binary_accuracy: 0.9285 - loss: 0.1897 - val_auc: 0.9818 - val_binary_accuracy: 0.9231 - val_loss: 0.1816\n",
      "Epoch 117/250\n",
      "\u001b[1m37/37\u001b[0m \u001b[32m━━━━━━━━━━━━━━━━━━━━\u001b[0m\u001b[37m\u001b[0m \u001b[1m0s\u001b[0m 3ms/step - auc: 0.9732 - binary_accuracy: 0.8898 - loss: 0.2093 - val_auc: 0.9801 - val_binary_accuracy: 0.9451 - val_loss: 0.1633\n",
      "Epoch 118/250\n"
     ]
    },
    {
     "name": "stdout",
     "output_type": "stream",
     "text": [
      "\u001b[1m37/37\u001b[0m \u001b[32m━━━━━━━━━━━━━━━━━━━━\u001b[0m\u001b[37m\u001b[0m \u001b[1m0s\u001b[0m 3ms/step - auc: 0.9740 - binary_accuracy: 0.9183 - loss: 0.1878 - val_auc: 0.9808 - val_binary_accuracy: 0.9341 - val_loss: 0.1657\n",
      "Epoch 119/250\n",
      "\u001b[1m37/37\u001b[0m \u001b[32m━━━━━━━━━━━━━━━━━━━━\u001b[0m\u001b[37m\u001b[0m \u001b[1m0s\u001b[0m 3ms/step - auc: 0.9765 - binary_accuracy: 0.9220 - loss: 0.1902 - val_auc: 0.9826 - val_binary_accuracy: 0.9231 - val_loss: 0.1982\n",
      "Epoch 120/250\n",
      "\u001b[1m37/37\u001b[0m \u001b[32m━━━━━━━━━━━━━━━━━━━━\u001b[0m\u001b[37m\u001b[0m \u001b[1m0s\u001b[0m 3ms/step - auc: 0.9725 - binary_accuracy: 0.8984 - loss: 0.2205 - val_auc: 0.9808 - val_binary_accuracy: 0.9341 - val_loss: 0.1648\n",
      "Epoch 121/250\n",
      "\u001b[1m37/37\u001b[0m \u001b[32m━━━━━━━━━━━━━━━━━━━━\u001b[0m\u001b[37m\u001b[0m \u001b[1m0s\u001b[0m 3ms/step - auc: 0.9767 - binary_accuracy: 0.9229 - loss: 0.1836 - val_auc: 0.9813 - val_binary_accuracy: 0.9451 - val_loss: 0.1636\n",
      "Epoch 122/250\n",
      "\u001b[1m37/37\u001b[0m \u001b[32m━━━━━━━━━━━━━━━━━━━━\u001b[0m\u001b[37m\u001b[0m \u001b[1m0s\u001b[0m 2ms/step - auc: 0.9611 - binary_accuracy: 0.9073 - loss: 0.2303 - val_auc: 0.9808 - val_binary_accuracy: 0.9341 - val_loss: 0.1687\n",
      "Epoch 123/250\n",
      "\u001b[1m37/37\u001b[0m \u001b[32m━━━━━━━━━━━━━━━━━━━━\u001b[0m\u001b[37m\u001b[0m \u001b[1m0s\u001b[0m 3ms/step - auc: 0.9768 - binary_accuracy: 0.9309 - loss: 0.1771 - val_auc: 0.9826 - val_binary_accuracy: 0.9231 - val_loss: 0.1861\n",
      "Epoch 124/250\n",
      "\u001b[1m37/37\u001b[0m \u001b[32m━━━━━━━━━━━━━━━━━━━━\u001b[0m\u001b[37m\u001b[0m \u001b[1m0s\u001b[0m 2ms/step - auc: 0.9752 - binary_accuracy: 0.9187 - loss: 0.2013 - val_auc: 0.9828 - val_binary_accuracy: 0.9231 - val_loss: 0.1915\n",
      "Epoch 125/250\n",
      "\u001b[1m37/37\u001b[0m \u001b[32m━━━━━━━━━━━━━━━━━━━━\u001b[0m\u001b[37m\u001b[0m \u001b[1m0s\u001b[0m 2ms/step - auc: 0.9646 - binary_accuracy: 0.9001 - loss: 0.2358 - val_auc: 0.9808 - val_binary_accuracy: 0.9560 - val_loss: 0.1615\n",
      "Epoch 126/250\n",
      "\u001b[1m37/37\u001b[0m \u001b[32m━━━━━━━━━━━━━━━━━━━━\u001b[0m\u001b[37m\u001b[0m \u001b[1m0s\u001b[0m 3ms/step - auc: 0.9468 - binary_accuracy: 0.9078 - loss: 0.2440 - val_auc: 0.9808 - val_binary_accuracy: 0.9451 - val_loss: 0.1609\n",
      "Epoch 127/250\n",
      "\u001b[1m37/37\u001b[0m \u001b[32m━━━━━━━━━━━━━━━━━━━━\u001b[0m\u001b[37m\u001b[0m \u001b[1m0s\u001b[0m 3ms/step - auc: 0.9886 - binary_accuracy: 0.9344 - loss: 0.1508 - val_auc: 0.9798 - val_binary_accuracy: 0.9341 - val_loss: 0.1686\n",
      "Epoch 128/250\n",
      "\u001b[1m37/37\u001b[0m \u001b[32m━━━━━━━━━━━━━━━━━━━━\u001b[0m\u001b[37m\u001b[0m \u001b[1m0s\u001b[0m 3ms/step - auc: 0.9807 - binary_accuracy: 0.9288 - loss: 0.1709 - val_auc: 0.9823 - val_binary_accuracy: 0.9231 - val_loss: 0.1693\n",
      "Epoch 129/250\n",
      "\u001b[1m37/37\u001b[0m \u001b[32m━━━━━━━━━━━━━━━━━━━━\u001b[0m\u001b[37m\u001b[0m \u001b[1m0s\u001b[0m 3ms/step - auc: 0.9740 - binary_accuracy: 0.9278 - loss: 0.1906 - val_auc: 0.9801 - val_binary_accuracy: 0.9451 - val_loss: 0.1601\n",
      "Epoch 130/250\n",
      "\u001b[1m37/37\u001b[0m \u001b[32m━━━━━━━━━━━━━━━━━━━━\u001b[0m\u001b[37m\u001b[0m \u001b[1m0s\u001b[0m 3ms/step - auc: 0.9691 - binary_accuracy: 0.9139 - loss: 0.2183 - val_auc: 0.9823 - val_binary_accuracy: 0.9560 - val_loss: 0.1603\n",
      "Epoch 131/250\n",
      "\u001b[1m37/37\u001b[0m \u001b[32m━━━━━━━━━━━━━━━━━━━━\u001b[0m\u001b[37m\u001b[0m \u001b[1m0s\u001b[0m 3ms/step - auc: 0.9853 - binary_accuracy: 0.9339 - loss: 0.1526 - val_auc: 0.9798 - val_binary_accuracy: 0.9341 - val_loss: 0.1678\n",
      "Epoch 132/250\n",
      "\u001b[1m37/37\u001b[0m \u001b[32m━━━━━━━━━━━━━━━━━━━━\u001b[0m\u001b[37m\u001b[0m \u001b[1m0s\u001b[0m 3ms/step - auc: 0.9868 - binary_accuracy: 0.9258 - loss: 0.1616 - val_auc: 0.9826 - val_binary_accuracy: 0.9231 - val_loss: 0.1647\n",
      "Epoch 133/250\n",
      "\u001b[1m37/37\u001b[0m \u001b[32m━━━━━━━━━━━━━━━━━━━━\u001b[0m\u001b[37m\u001b[0m \u001b[1m0s\u001b[0m 3ms/step - auc: 0.9712 - binary_accuracy: 0.9117 - loss: 0.2252 - val_auc: 0.9816 - val_binary_accuracy: 0.9451 - val_loss: 0.1613\n",
      "Epoch 134/250\n",
      "\u001b[1m37/37\u001b[0m \u001b[32m━━━━━━━━━━━━━━━━━━━━\u001b[0m\u001b[37m\u001b[0m \u001b[1m0s\u001b[0m 2ms/step - auc: 0.9808 - binary_accuracy: 0.9292 - loss: 0.1823 - val_auc: 0.9811 - val_binary_accuracy: 0.9341 - val_loss: 0.1660\n",
      "Epoch 135/250\n",
      "\u001b[1m37/37\u001b[0m \u001b[32m━━━━━━━━━━━━━━━━━━━━\u001b[0m\u001b[37m\u001b[0m \u001b[1m0s\u001b[0m 3ms/step - auc: 0.9751 - binary_accuracy: 0.9453 - loss: 0.1800 - val_auc: 0.9811 - val_binary_accuracy: 0.9451 - val_loss: 0.1584\n",
      "Epoch 136/250\n",
      "\u001b[1m37/37\u001b[0m \u001b[32m━━━━━━━━━━━━━━━━━━━━\u001b[0m\u001b[37m\u001b[0m \u001b[1m0s\u001b[0m 3ms/step - auc: 0.9805 - binary_accuracy: 0.9363 - loss: 0.1789 - val_auc: 0.9795 - val_binary_accuracy: 0.9121 - val_loss: 0.2033\n",
      "Epoch 137/250\n",
      "\u001b[1m37/37\u001b[0m \u001b[32m━━━━━━━━━━━━━━━━━━━━\u001b[0m\u001b[37m\u001b[0m \u001b[1m0s\u001b[0m 3ms/step - auc: 0.9702 - binary_accuracy: 0.9189 - loss: 0.2007 - val_auc: 0.9831 - val_binary_accuracy: 0.9231 - val_loss: 0.1838\n",
      "Epoch 138/250\n",
      "\u001b[1m37/37\u001b[0m \u001b[32m━━━━━━━━━━━━━━━━━━━━\u001b[0m\u001b[37m\u001b[0m \u001b[1m0s\u001b[0m 3ms/step - auc: 0.9774 - binary_accuracy: 0.9265 - loss: 0.1955 - val_auc: 0.9821 - val_binary_accuracy: 0.9560 - val_loss: 0.1598\n",
      "Epoch 139/250\n",
      "\u001b[1m37/37\u001b[0m \u001b[32m━━━━━━━━━━━━━━━━━━━━\u001b[0m\u001b[37m\u001b[0m \u001b[1m0s\u001b[0m 3ms/step - auc: 0.9777 - binary_accuracy: 0.9200 - loss: 0.1808 - val_auc: 0.9828 - val_binary_accuracy: 0.9231 - val_loss: 0.1780\n",
      "Epoch 140/250\n",
      "\u001b[1m37/37\u001b[0m \u001b[32m━━━━━━━━━━━━━━━━━━━━\u001b[0m\u001b[37m\u001b[0m \u001b[1m0s\u001b[0m 2ms/step - auc: 0.9764 - binary_accuracy: 0.9295 - loss: 0.1756 - val_auc: 0.9826 - val_binary_accuracy: 0.9341 - val_loss: 0.1616\n",
      "Epoch 141/250\n",
      "\u001b[1m37/37\u001b[0m \u001b[32m━━━━━━━━━━━━━━━━━━━━\u001b[0m\u001b[37m\u001b[0m \u001b[1m0s\u001b[0m 2ms/step - auc: 0.9772 - binary_accuracy: 0.9353 - loss: 0.1795 - val_auc: 0.9801 - val_binary_accuracy: 0.9231 - val_loss: 0.1780\n",
      "Epoch 142/250\n",
      "\u001b[1m37/37\u001b[0m \u001b[32m━━━━━━━━━━━━━━━━━━━━\u001b[0m\u001b[37m\u001b[0m \u001b[1m0s\u001b[0m 3ms/step - auc: 0.9682 - binary_accuracy: 0.9019 - loss: 0.2147 - val_auc: 0.9808 - val_binary_accuracy: 0.9451 - val_loss: 0.1587\n",
      "Epoch 143/250\n",
      "\u001b[1m37/37\u001b[0m \u001b[32m━━━━━━━━━━━━━━━━━━━━\u001b[0m\u001b[37m\u001b[0m \u001b[1m0s\u001b[0m 3ms/step - auc: 0.9719 - binary_accuracy: 0.9131 - loss: 0.2030 - val_auc: 0.9831 - val_binary_accuracy: 0.9231 - val_loss: 0.1655\n",
      "Epoch 144/250\n",
      "\u001b[1m37/37\u001b[0m \u001b[32m━━━━━━━━━━━━━━━━━━━━\u001b[0m\u001b[37m\u001b[0m \u001b[1m0s\u001b[0m 2ms/step - auc: 0.9775 - binary_accuracy: 0.9328 - loss: 0.1783 - val_auc: 0.9808 - val_binary_accuracy: 0.9341 - val_loss: 0.1627\n",
      "Epoch 145/250\n",
      "\u001b[1m37/37\u001b[0m \u001b[32m━━━━━━━━━━━━━━━━━━━━\u001b[0m\u001b[37m\u001b[0m \u001b[1m0s\u001b[0m 2ms/step - auc: 0.9696 - binary_accuracy: 0.9249 - loss: 0.1966 - val_auc: 0.9831 - val_binary_accuracy: 0.9121 - val_loss: 0.1889\n",
      "Epoch 146/250\n",
      "\u001b[1m37/37\u001b[0m \u001b[32m━━━━━━━━━━━━━━━━━━━━\u001b[0m\u001b[37m\u001b[0m \u001b[1m0s\u001b[0m 3ms/step - auc: 0.9697 - binary_accuracy: 0.9327 - loss: 0.1921 - val_auc: 0.9811 - val_binary_accuracy: 0.9341 - val_loss: 0.1620\n",
      "Epoch 147/250\n",
      "\u001b[1m37/37\u001b[0m \u001b[32m━━━━━━━━━━━━━━━━━━━━\u001b[0m\u001b[37m\u001b[0m \u001b[1m0s\u001b[0m 3ms/step - auc: 0.9718 - binary_accuracy: 0.9144 - loss: 0.2127 - val_auc: 0.9831 - val_binary_accuracy: 0.9121 - val_loss: 0.1879\n",
      "Epoch 148/250\n",
      "\u001b[1m37/37\u001b[0m \u001b[32m━━━━━━━━━━━━━━━━━━━━\u001b[0m\u001b[37m\u001b[0m \u001b[1m0s\u001b[0m 2ms/step - auc: 0.9828 - binary_accuracy: 0.9191 - loss: 0.1662 - val_auc: 0.9833 - val_binary_accuracy: 0.9121 - val_loss: 0.1947\n",
      "Epoch 149/250\n",
      "\u001b[1m37/37\u001b[0m \u001b[32m━━━━━━━━━━━━━━━━━━━━\u001b[0m\u001b[37m\u001b[0m \u001b[1m0s\u001b[0m 3ms/step - auc: 0.9773 - binary_accuracy: 0.9116 - loss: 0.1808 - val_auc: 0.9833 - val_binary_accuracy: 0.9341 - val_loss: 0.1609\n",
      "Epoch 150/250\n",
      "\u001b[1m37/37\u001b[0m \u001b[32m━━━━━━━━━━━━━━━━━━━━\u001b[0m\u001b[37m\u001b[0m \u001b[1m0s\u001b[0m 2ms/step - auc: 0.9703 - binary_accuracy: 0.9085 - loss: 0.2057 - val_auc: 0.9821 - val_binary_accuracy: 0.9560 - val_loss: 0.1550\n",
      "Epoch 151/250\n",
      "\u001b[1m37/37\u001b[0m \u001b[32m━━━━━━━━━━━━━━━━━━━━\u001b[0m\u001b[37m\u001b[0m \u001b[1m0s\u001b[0m 3ms/step - auc: 0.9830 - binary_accuracy: 0.9329 - loss: 0.1616 - val_auc: 0.9854 - val_binary_accuracy: 0.8901 - val_loss: 0.2514\n",
      "Epoch 152/250\n",
      "\u001b[1m37/37\u001b[0m \u001b[32m━━━━━━━━━━━━━━━━━━━━\u001b[0m\u001b[37m\u001b[0m \u001b[1m0s\u001b[0m 2ms/step - auc: 0.9776 - binary_accuracy: 0.9329 - loss: 0.1934 - val_auc: 0.9831 - val_binary_accuracy: 0.9121 - val_loss: 0.1809\n",
      "Epoch 153/250\n",
      "\u001b[1m37/37\u001b[0m \u001b[32m━━━━━━━━━━━━━━━━━━━━\u001b[0m\u001b[37m\u001b[0m \u001b[1m0s\u001b[0m 3ms/step - auc: 0.9766 - binary_accuracy: 0.9173 - loss: 0.1887 - val_auc: 0.9833 - val_binary_accuracy: 0.9341 - val_loss: 0.1599\n",
      "Epoch 154/250\n",
      "\u001b[1m37/37\u001b[0m \u001b[32m━━━━━━━━━━━━━━━━━━━━\u001b[0m\u001b[37m\u001b[0m \u001b[1m0s\u001b[0m 2ms/step - auc: 0.9716 - binary_accuracy: 0.9100 - loss: 0.2058 - val_auc: 0.9818 - val_binary_accuracy: 0.9451 - val_loss: 0.1545\n",
      "Epoch 155/250\n",
      "\u001b[1m37/37\u001b[0m \u001b[32m━━━━━━━━━━━━━━━━━━━━\u001b[0m\u001b[37m\u001b[0m \u001b[1m0s\u001b[0m 2ms/step - auc: 0.9720 - binary_accuracy: 0.9231 - loss: 0.1915 - val_auc: 0.9836 - val_binary_accuracy: 0.9121 - val_loss: 0.1831\n",
      "Epoch 156/250\n",
      "\u001b[1m37/37\u001b[0m \u001b[32m━━━━━━━━━━━━━━━━━━━━\u001b[0m\u001b[37m\u001b[0m \u001b[1m0s\u001b[0m 3ms/step - auc: 0.9672 - binary_accuracy: 0.9173 - loss: 0.2142 - val_auc: 0.9828 - val_binary_accuracy: 0.9560 - val_loss: 0.1536\n",
      "Epoch 157/250\n"
     ]
    },
    {
     "name": "stdout",
     "output_type": "stream",
     "text": [
      "\u001b[1m37/37\u001b[0m \u001b[32m━━━━━━━━━━━━━━━━━━━━\u001b[0m\u001b[37m\u001b[0m \u001b[1m0s\u001b[0m 2ms/step - auc: 0.9857 - binary_accuracy: 0.9229 - loss: 0.1629 - val_auc: 0.9841 - val_binary_accuracy: 0.9231 - val_loss: 0.1760\n",
      "Epoch 158/250\n",
      "\u001b[1m37/37\u001b[0m \u001b[32m━━━━━━━━━━━━━━━━━━━━\u001b[0m\u001b[37m\u001b[0m \u001b[1m0s\u001b[0m 2ms/step - auc: 0.9775 - binary_accuracy: 0.9429 - loss: 0.1882 - val_auc: 0.9793 - val_binary_accuracy: 0.9231 - val_loss: 0.1896\n",
      "Epoch 159/250\n",
      "\u001b[1m37/37\u001b[0m \u001b[32m━━━━━━━━━━━━━━━━━━━━\u001b[0m\u001b[37m\u001b[0m \u001b[1m0s\u001b[0m 3ms/step - auc: 0.9790 - binary_accuracy: 0.9191 - loss: 0.1898 - val_auc: 0.9838 - val_binary_accuracy: 0.9231 - val_loss: 0.1760\n",
      "Epoch 160/250\n",
      "\u001b[1m37/37\u001b[0m \u001b[32m━━━━━━━━━━━━━━━━━━━━\u001b[0m\u001b[37m\u001b[0m \u001b[1m0s\u001b[0m 3ms/step - auc: 0.9754 - binary_accuracy: 0.9018 - loss: 0.1944 - val_auc: 0.9836 - val_binary_accuracy: 0.9341 - val_loss: 0.1582\n",
      "Epoch 161/250\n",
      "\u001b[1m37/37\u001b[0m \u001b[32m━━━━━━━━━━━━━━━━━━━━\u001b[0m\u001b[37m\u001b[0m \u001b[1m0s\u001b[0m 3ms/step - auc: 0.9802 - binary_accuracy: 0.9228 - loss: 0.1741 - val_auc: 0.9828 - val_binary_accuracy: 0.9560 - val_loss: 0.1527\n",
      "Epoch 162/250\n",
      "\u001b[1m37/37\u001b[0m \u001b[32m━━━━━━━━━━━━━━━━━━━━\u001b[0m\u001b[37m\u001b[0m \u001b[1m0s\u001b[0m 3ms/step - auc: 0.9875 - binary_accuracy: 0.9492 - loss: 0.1406 - val_auc: 0.9803 - val_binary_accuracy: 0.9341 - val_loss: 0.1676\n",
      "Epoch 163/250\n",
      "\u001b[1m37/37\u001b[0m \u001b[32m━━━━━━━━━━━━━━━━━━━━\u001b[0m\u001b[37m\u001b[0m \u001b[1m0s\u001b[0m 2ms/step - auc: 0.9754 - binary_accuracy: 0.9223 - loss: 0.1794 - val_auc: 0.9854 - val_binary_accuracy: 0.8901 - val_loss: 0.2480\n",
      "Epoch 164/250\n",
      "\u001b[1m37/37\u001b[0m \u001b[32m━━━━━━━━━━━━━━━━━━━━\u001b[0m\u001b[37m\u001b[0m \u001b[1m0s\u001b[0m 3ms/step - auc: 0.9773 - binary_accuracy: 0.9100 - loss: 0.2105 - val_auc: 0.9813 - val_binary_accuracy: 0.9451 - val_loss: 0.1556\n",
      "Epoch 165/250\n",
      "\u001b[1m37/37\u001b[0m \u001b[32m━━━━━━━━━━━━━━━━━━━━\u001b[0m\u001b[37m\u001b[0m \u001b[1m0s\u001b[0m 2ms/step - auc: 0.9774 - binary_accuracy: 0.9305 - loss: 0.1757 - val_auc: 0.9831 - val_binary_accuracy: 0.9560 - val_loss: 0.1523\n",
      "Epoch 166/250\n",
      "\u001b[1m37/37\u001b[0m \u001b[32m━━━━━━━━━━━━━━━━━━━━\u001b[0m\u001b[37m\u001b[0m \u001b[1m0s\u001b[0m 2ms/step - auc: 0.9848 - binary_accuracy: 0.9317 - loss: 0.1638 - val_auc: 0.9828 - val_binary_accuracy: 0.9560 - val_loss: 0.1520\n",
      "Epoch 167/250\n",
      "\u001b[1m37/37\u001b[0m \u001b[32m━━━━━━━━━━━━━━━━━━━━\u001b[0m\u001b[37m\u001b[0m \u001b[1m0s\u001b[0m 3ms/step - auc: 0.9835 - binary_accuracy: 0.9275 - loss: 0.1712 - val_auc: 0.9833 - val_binary_accuracy: 0.9451 - val_loss: 0.1548\n",
      "Epoch 168/250\n",
      "\u001b[1m37/37\u001b[0m \u001b[32m━━━━━━━━━━━━━━━━━━━━\u001b[0m\u001b[37m\u001b[0m \u001b[1m0s\u001b[0m 2ms/step - auc: 0.9810 - binary_accuracy: 0.9329 - loss: 0.1724 - val_auc: 0.9833 - val_binary_accuracy: 0.9451 - val_loss: 0.1529\n",
      "Epoch 169/250\n",
      "\u001b[1m37/37\u001b[0m \u001b[32m━━━━━━━━━━━━━━━━━━━━\u001b[0m\u001b[37m\u001b[0m \u001b[1m0s\u001b[0m 2ms/step - auc: 0.9732 - binary_accuracy: 0.9257 - loss: 0.1745 - val_auc: 0.9833 - val_binary_accuracy: 0.9451 - val_loss: 0.1519\n",
      "Epoch 170/250\n",
      "\u001b[1m37/37\u001b[0m \u001b[32m━━━━━━━━━━━━━━━━━━━━\u001b[0m\u001b[37m\u001b[0m \u001b[1m0s\u001b[0m 3ms/step - auc: 0.9815 - binary_accuracy: 0.9223 - loss: 0.1709 - val_auc: 0.9846 - val_binary_accuracy: 0.9231 - val_loss: 0.1638\n",
      "Epoch 171/250\n",
      "\u001b[1m37/37\u001b[0m \u001b[32m━━━━━━━━━━━━━━━━━━━━\u001b[0m\u001b[37m\u001b[0m \u001b[1m0s\u001b[0m 2ms/step - auc: 0.9875 - binary_accuracy: 0.9442 - loss: 0.1343 - val_auc: 0.9851 - val_binary_accuracy: 0.9231 - val_loss: 0.2028\n",
      "Epoch 172/250\n",
      "\u001b[1m37/37\u001b[0m \u001b[32m━━━━━━━━━━━━━━━━━━━━\u001b[0m\u001b[37m\u001b[0m \u001b[1m0s\u001b[0m 2ms/step - auc: 0.9810 - binary_accuracy: 0.9361 - loss: 0.1722 - val_auc: 0.9828 - val_binary_accuracy: 0.9451 - val_loss: 0.1515\n",
      "Epoch 173/250\n",
      "\u001b[1m37/37\u001b[0m \u001b[32m━━━━━━━━━━━━━━━━━━━━\u001b[0m\u001b[37m\u001b[0m \u001b[1m0s\u001b[0m 2ms/step - auc: 0.9863 - binary_accuracy: 0.9409 - loss: 0.1532 - val_auc: 0.9841 - val_binary_accuracy: 0.9451 - val_loss: 0.1519\n",
      "Epoch 174/250\n",
      "\u001b[1m37/37\u001b[0m \u001b[32m━━━━━━━━━━━━━━━━━━━━\u001b[0m\u001b[37m\u001b[0m \u001b[1m0s\u001b[0m 2ms/step - auc: 0.9879 - binary_accuracy: 0.9479 - loss: 0.1353 - val_auc: 0.9848 - val_binary_accuracy: 0.9121 - val_loss: 0.1928\n",
      "Epoch 175/250\n",
      "\u001b[1m37/37\u001b[0m \u001b[32m━━━━━━━━━━━━━━━━━━━━\u001b[0m\u001b[37m\u001b[0m \u001b[1m0s\u001b[0m 3ms/step - auc: 0.9778 - binary_accuracy: 0.9281 - loss: 0.2062 - val_auc: 0.9831 - val_binary_accuracy: 0.9451 - val_loss: 0.1546\n",
      "Epoch 176/250\n",
      "\u001b[1m37/37\u001b[0m \u001b[32m━━━━━━━━━━━━━━━━━━━━\u001b[0m\u001b[37m\u001b[0m \u001b[1m0s\u001b[0m 2ms/step - auc: 0.9786 - binary_accuracy: 0.9229 - loss: 0.1842 - val_auc: 0.9846 - val_binary_accuracy: 0.9341 - val_loss: 0.1586\n",
      "Epoch 177/250\n",
      "\u001b[1m37/37\u001b[0m \u001b[32m━━━━━━━━━━━━━━━━━━━━\u001b[0m\u001b[37m\u001b[0m \u001b[1m0s\u001b[0m 3ms/step - auc: 0.9775 - binary_accuracy: 0.9116 - loss: 0.2003 - val_auc: 0.9833 - val_binary_accuracy: 0.9341 - val_loss: 0.1592\n",
      "Epoch 178/250\n",
      "\u001b[1m37/37\u001b[0m \u001b[32m━━━━━━━━━━━━━━━━━━━━\u001b[0m\u001b[37m\u001b[0m \u001b[1m0s\u001b[0m 2ms/step - auc: 0.9810 - binary_accuracy: 0.9249 - loss: 0.1812 - val_auc: 0.9811 - val_binary_accuracy: 0.9341 - val_loss: 0.1662\n",
      "Epoch 179/250\n",
      "\u001b[1m37/37\u001b[0m \u001b[32m━━━━━━━━━━━━━━━━━━━━\u001b[0m\u001b[37m\u001b[0m \u001b[1m0s\u001b[0m 3ms/step - auc: 0.9733 - binary_accuracy: 0.8963 - loss: 0.2125 - val_auc: 0.9848 - val_binary_accuracy: 0.9341 - val_loss: 0.1562\n",
      "Epoch 180/250\n",
      "\u001b[1m37/37\u001b[0m \u001b[32m━━━━━━━━━━━━━━━━━━━━\u001b[0m\u001b[37m\u001b[0m \u001b[1m0s\u001b[0m 3ms/step - auc: 0.9853 - binary_accuracy: 0.9361 - loss: 0.1597 - val_auc: 0.9841 - val_binary_accuracy: 0.9451 - val_loss: 0.1500\n",
      "Epoch 181/250\n",
      "\u001b[1m37/37\u001b[0m \u001b[32m━━━━━━━━━━━━━━━━━━━━\u001b[0m\u001b[37m\u001b[0m \u001b[1m0s\u001b[0m 2ms/step - auc: 0.9871 - binary_accuracy: 0.9333 - loss: 0.1560 - val_auc: 0.9848 - val_binary_accuracy: 0.9341 - val_loss: 0.1588\n",
      "Epoch 182/250\n",
      "\u001b[1m37/37\u001b[0m \u001b[32m━━━━━━━━━━━━━━━━━━━━\u001b[0m\u001b[37m\u001b[0m \u001b[1m0s\u001b[0m 2ms/step - auc: 0.9854 - binary_accuracy: 0.9303 - loss: 0.1596 - val_auc: 0.9848 - val_binary_accuracy: 0.9231 - val_loss: 0.2012\n",
      "Epoch 183/250\n",
      "\u001b[1m37/37\u001b[0m \u001b[32m━━━━━━━━━━━━━━━━━━━━\u001b[0m\u001b[37m\u001b[0m \u001b[1m0s\u001b[0m 2ms/step - auc: 0.9865 - binary_accuracy: 0.9461 - loss: 0.1508 - val_auc: 0.9831 - val_binary_accuracy: 0.9341 - val_loss: 0.1564\n",
      "Epoch 184/250\n",
      "\u001b[1m37/37\u001b[0m \u001b[32m━━━━━━━━━━━━━━━━━━━━\u001b[0m\u001b[37m\u001b[0m \u001b[1m0s\u001b[0m 2ms/step - auc: 0.9865 - binary_accuracy: 0.9239 - loss: 0.1550 - val_auc: 0.9848 - val_binary_accuracy: 0.9451 - val_loss: 0.1531\n",
      "Epoch 185/250\n",
      "\u001b[1m37/37\u001b[0m \u001b[32m━━━━━━━━━━━━━━━━━━━━\u001b[0m\u001b[37m\u001b[0m \u001b[1m0s\u001b[0m 3ms/step - auc: 0.9904 - binary_accuracy: 0.9521 - loss: 0.1258 - val_auc: 0.9821 - val_binary_accuracy: 0.9341 - val_loss: 0.1595\n",
      "Epoch 186/250\n",
      "\u001b[1m37/37\u001b[0m \u001b[32m━━━━━━━━━━━━━━━━━━━━\u001b[0m\u001b[37m\u001b[0m \u001b[1m0s\u001b[0m 2ms/step - auc: 0.9797 - binary_accuracy: 0.9277 - loss: 0.1766 - val_auc: 0.9848 - val_binary_accuracy: 0.9121 - val_loss: 0.1703\n",
      "Epoch 187/250\n",
      "\u001b[1m37/37\u001b[0m \u001b[32m━━━━━━━━━━━━━━━━━━━━\u001b[0m\u001b[37m\u001b[0m \u001b[1m0s\u001b[0m 3ms/step - auc: 0.9812 - binary_accuracy: 0.9363 - loss: 0.1587 - val_auc: 0.9818 - val_binary_accuracy: 0.9341 - val_loss: 0.1660\n",
      "Epoch 188/250\n",
      "\u001b[1m37/37\u001b[0m \u001b[32m━━━━━━━━━━━━━━━━━━━━\u001b[0m\u001b[37m\u001b[0m \u001b[1m0s\u001b[0m 2ms/step - auc: 0.9753 - binary_accuracy: 0.9193 - loss: 0.1945 - val_auc: 0.9843 - val_binary_accuracy: 0.9451 - val_loss: 0.1497\n",
      "Epoch 189/250\n",
      "\u001b[1m37/37\u001b[0m \u001b[32m━━━━━━━━━━━━━━━━━━━━\u001b[0m\u001b[37m\u001b[0m \u001b[1m0s\u001b[0m 2ms/step - auc: 0.9885 - binary_accuracy: 0.9336 - loss: 0.1391 - val_auc: 0.9848 - val_binary_accuracy: 0.9121 - val_loss: 0.1677\n",
      "Epoch 190/250\n",
      "\u001b[1m37/37\u001b[0m \u001b[32m━━━━━━━━━━━━━━━━━━━━\u001b[0m\u001b[37m\u001b[0m \u001b[1m0s\u001b[0m 3ms/step - auc: 0.9859 - binary_accuracy: 0.9076 - loss: 0.1701 - val_auc: 0.9843 - val_binary_accuracy: 0.9121 - val_loss: 0.1853\n",
      "Epoch 191/250\n",
      "\u001b[1m37/37\u001b[0m \u001b[32m━━━━━━━━━━━━━━━━━━━━\u001b[0m\u001b[37m\u001b[0m \u001b[1m0s\u001b[0m 3ms/step - auc: 0.9786 - binary_accuracy: 0.9221 - loss: 0.1751 - val_auc: 0.9843 - val_binary_accuracy: 0.9121 - val_loss: 0.1757\n",
      "Epoch 192/250\n",
      "\u001b[1m37/37\u001b[0m \u001b[32m━━━━━━━━━━━━━━━━━━━━\u001b[0m\u001b[37m\u001b[0m \u001b[1m0s\u001b[0m 3ms/step - auc: 0.9794 - binary_accuracy: 0.9195 - loss: 0.1820 - val_auc: 0.9841 - val_binary_accuracy: 0.9560 - val_loss: 0.1491\n",
      "Epoch 193/250\n",
      "\u001b[1m37/37\u001b[0m \u001b[32m━━━━━━━━━━━━━━━━━━━━\u001b[0m\u001b[37m\u001b[0m \u001b[1m0s\u001b[0m 2ms/step - auc: 0.9867 - binary_accuracy: 0.9439 - loss: 0.1458 - val_auc: 0.9843 - val_binary_accuracy: 0.9121 - val_loss: 0.1702\n",
      "Epoch 194/250\n",
      "\u001b[1m37/37\u001b[0m \u001b[32m━━━━━━━━━━━━━━━━━━━━\u001b[0m\u001b[37m\u001b[0m \u001b[1m0s\u001b[0m 2ms/step - auc: 0.9848 - binary_accuracy: 0.9342 - loss: 0.1591 - val_auc: 0.9843 - val_binary_accuracy: 0.9121 - val_loss: 0.1824\n",
      "Epoch 195/250\n",
      "\u001b[1m37/37\u001b[0m \u001b[32m━━━━━━━━━━━━━━━━━━━━\u001b[0m\u001b[37m\u001b[0m \u001b[1m0s\u001b[0m 3ms/step - auc: 0.9519 - binary_accuracy: 0.9281 - loss: 0.1979 - val_auc: 0.9846 - val_binary_accuracy: 0.9560 - val_loss: 0.1488\n",
      "Epoch 196/250\n"
     ]
    },
    {
     "name": "stdout",
     "output_type": "stream",
     "text": [
      "\u001b[1m37/37\u001b[0m \u001b[32m━━━━━━━━━━━━━━━━━━━━\u001b[0m\u001b[37m\u001b[0m \u001b[1m0s\u001b[0m 3ms/step - auc: 0.9786 - binary_accuracy: 0.9344 - loss: 0.1832 - val_auc: 0.9843 - val_binary_accuracy: 0.9121 - val_loss: 0.1790\n",
      "Epoch 197/250\n",
      "\u001b[1m37/37\u001b[0m \u001b[32m━━━━━━━━━━━━━━━━━━━━\u001b[0m\u001b[37m\u001b[0m \u001b[1m0s\u001b[0m 2ms/step - auc: 0.9869 - binary_accuracy: 0.9576 - loss: 0.1428 - val_auc: 0.9841 - val_binary_accuracy: 0.9560 - val_loss: 0.1482\n",
      "Epoch 198/250\n",
      "\u001b[1m37/37\u001b[0m \u001b[32m━━━━━━━━━━━━━━━━━━━━\u001b[0m\u001b[37m\u001b[0m \u001b[1m0s\u001b[0m 3ms/step - auc: 0.9878 - binary_accuracy: 0.9543 - loss: 0.1256 - val_auc: 0.9846 - val_binary_accuracy: 0.9231 - val_loss: 0.2114\n",
      "Epoch 199/250\n",
      "\u001b[1m37/37\u001b[0m \u001b[32m━━━━━━━━━━━━━━━━━━━━\u001b[0m\u001b[37m\u001b[0m \u001b[1m0s\u001b[0m 2ms/step - auc: 0.9862 - binary_accuracy: 0.9338 - loss: 0.1534 - val_auc: 0.9838 - val_binary_accuracy: 0.9451 - val_loss: 0.1487\n",
      "Epoch 200/250\n",
      "\u001b[1m37/37\u001b[0m \u001b[32m━━━━━━━━━━━━━━━━━━━━\u001b[0m\u001b[37m\u001b[0m \u001b[1m0s\u001b[0m 3ms/step - auc: 0.9835 - binary_accuracy: 0.9217 - loss: 0.1738 - val_auc: 0.9848 - val_binary_accuracy: 0.9451 - val_loss: 0.1513\n",
      "Epoch 201/250\n",
      "\u001b[1m37/37\u001b[0m \u001b[32m━━━━━━━━━━━━━━━━━━━━\u001b[0m\u001b[37m\u001b[0m \u001b[1m0s\u001b[0m 2ms/step - auc: 0.9847 - binary_accuracy: 0.9423 - loss: 0.1623 - val_auc: 0.9846 - val_binary_accuracy: 0.9341 - val_loss: 0.1559\n",
      "Epoch 202/250\n",
      "\u001b[1m37/37\u001b[0m \u001b[32m━━━━━━━━━━━━━━━━━━━━\u001b[0m\u001b[37m\u001b[0m \u001b[1m0s\u001b[0m 2ms/step - auc: 0.9881 - binary_accuracy: 0.9430 - loss: 0.1287 - val_auc: 0.9841 - val_binary_accuracy: 0.9451 - val_loss: 0.1529\n",
      "Epoch 203/250\n",
      "\u001b[1m37/37\u001b[0m \u001b[32m━━━━━━━━━━━━━━━━━━━━\u001b[0m\u001b[37m\u001b[0m \u001b[1m0s\u001b[0m 2ms/step - auc: 0.9899 - binary_accuracy: 0.9576 - loss: 0.1280 - val_auc: 0.9841 - val_binary_accuracy: 0.9451 - val_loss: 0.1471\n",
      "Epoch 204/250\n",
      "\u001b[1m37/37\u001b[0m \u001b[32m━━━━━━━━━━━━━━━━━━━━\u001b[0m\u001b[37m\u001b[0m \u001b[1m0s\u001b[0m 3ms/step - auc: 0.9793 - binary_accuracy: 0.9308 - loss: 0.1770 - val_auc: 0.9843 - val_binary_accuracy: 0.9121 - val_loss: 0.1660\n",
      "Epoch 205/250\n",
      "\u001b[1m37/37\u001b[0m \u001b[32m━━━━━━━━━━━━━━━━━━━━\u001b[0m\u001b[37m\u001b[0m \u001b[1m0s\u001b[0m 2ms/step - auc: 0.9818 - binary_accuracy: 0.9267 - loss: 0.1737 - val_auc: 0.9843 - val_binary_accuracy: 0.9341 - val_loss: 0.1607\n",
      "Epoch 206/250\n",
      "\u001b[1m37/37\u001b[0m \u001b[32m━━━━━━━━━━━━━━━━━━━━\u001b[0m\u001b[37m\u001b[0m \u001b[1m0s\u001b[0m 3ms/step - auc: 0.9841 - binary_accuracy: 0.9127 - loss: 0.1703 - val_auc: 0.9843 - val_binary_accuracy: 0.9121 - val_loss: 0.1656\n",
      "Epoch 207/250\n",
      "\u001b[1m37/37\u001b[0m \u001b[32m━━━━━━━━━━━━━━━━━━━━\u001b[0m\u001b[37m\u001b[0m \u001b[1m0s\u001b[0m 3ms/step - auc: 0.9883 - binary_accuracy: 0.9402 - loss: 0.1402 - val_auc: 0.9841 - val_binary_accuracy: 0.9451 - val_loss: 0.1465\n",
      "Epoch 208/250\n",
      "\u001b[1m37/37\u001b[0m \u001b[32m━━━━━━━━━━━━━━━━━━━━\u001b[0m\u001b[37m\u001b[0m \u001b[1m0s\u001b[0m 3ms/step - auc: 0.9776 - binary_accuracy: 0.9205 - loss: 0.1832 - val_auc: 0.9846 - val_binary_accuracy: 0.9451 - val_loss: 0.1494\n",
      "Epoch 209/250\n",
      "\u001b[1m37/37\u001b[0m \u001b[32m━━━━━━━━━━━━━━━━━━━━\u001b[0m\u001b[37m\u001b[0m \u001b[1m0s\u001b[0m 3ms/step - auc: 0.9855 - binary_accuracy: 0.9272 - loss: 0.1636 - val_auc: 0.9843 - val_binary_accuracy: 0.9451 - val_loss: 0.1466\n",
      "Epoch 210/250\n",
      "\u001b[1m37/37\u001b[0m \u001b[32m━━━━━━━━━━━━━━━━━━━━\u001b[0m\u001b[37m\u001b[0m \u001b[1m0s\u001b[0m 3ms/step - auc: 0.9755 - binary_accuracy: 0.9113 - loss: 0.1906 - val_auc: 0.9846 - val_binary_accuracy: 0.9121 - val_loss: 0.1652\n",
      "Epoch 211/250\n",
      "\u001b[1m37/37\u001b[0m \u001b[32m━━━━━━━━━━━━━━━━━━━━\u001b[0m\u001b[37m\u001b[0m \u001b[1m0s\u001b[0m 3ms/step - auc: 0.9863 - binary_accuracy: 0.9278 - loss: 0.1533 - val_auc: 0.9841 - val_binary_accuracy: 0.9451 - val_loss: 0.1513\n",
      "Epoch 212/250\n",
      "\u001b[1m37/37\u001b[0m \u001b[32m━━━━━━━━━━━━━━━━━━━━\u001b[0m\u001b[37m\u001b[0m \u001b[1m0s\u001b[0m 2ms/step - auc: 0.9859 - binary_accuracy: 0.9411 - loss: 0.1566 - val_auc: 0.9841 - val_binary_accuracy: 0.9451 - val_loss: 0.1469\n",
      "Epoch 213/250\n",
      "\u001b[1m37/37\u001b[0m \u001b[32m━━━━━━━━━━━━━━━━━━━━\u001b[0m\u001b[37m\u001b[0m \u001b[1m0s\u001b[0m 3ms/step - auc: 0.9746 - binary_accuracy: 0.9124 - loss: 0.2020 - val_auc: 0.9848 - val_binary_accuracy: 0.9451 - val_loss: 0.1497\n",
      "Epoch 214/250\n",
      "\u001b[1m37/37\u001b[0m \u001b[32m━━━━━━━━━━━━━━━━━━━━\u001b[0m\u001b[37m\u001b[0m \u001b[1m0s\u001b[0m 3ms/step - auc: 0.9748 - binary_accuracy: 0.9199 - loss: 0.1874 - val_auc: 0.9836 - val_binary_accuracy: 0.9451 - val_loss: 0.1496\n",
      "Epoch 215/250\n",
      "\u001b[1m37/37\u001b[0m \u001b[32m━━━━━━━━━━━━━━━━━━━━\u001b[0m\u001b[37m\u001b[0m \u001b[1m0s\u001b[0m 3ms/step - auc: 0.9848 - binary_accuracy: 0.9414 - loss: 0.1485 - val_auc: 0.9848 - val_binary_accuracy: 0.9451 - val_loss: 0.1534\n",
      "Epoch 216/250\n",
      "\u001b[1m37/37\u001b[0m \u001b[32m━━━━━━━━━━━━━━━━━━━━\u001b[0m\u001b[37m\u001b[0m \u001b[1m0s\u001b[0m 3ms/step - auc: 0.9857 - binary_accuracy: 0.9493 - loss: 0.1522 - val_auc: 0.9843 - val_binary_accuracy: 0.9451 - val_loss: 0.1459\n",
      "Epoch 217/250\n",
      "\u001b[1m37/37\u001b[0m \u001b[32m━━━━━━━━━━━━━━━━━━━━\u001b[0m\u001b[37m\u001b[0m \u001b[1m0s\u001b[0m 3ms/step - auc: 0.9846 - binary_accuracy: 0.9438 - loss: 0.1542 - val_auc: 0.9843 - val_binary_accuracy: 0.9451 - val_loss: 0.1454\n",
      "Epoch 218/250\n",
      "\u001b[1m37/37\u001b[0m \u001b[32m━━━━━━━━━━━━━━━━━━━━\u001b[0m\u001b[37m\u001b[0m \u001b[1m0s\u001b[0m 3ms/step - auc: 0.9888 - binary_accuracy: 0.9389 - loss: 0.1357 - val_auc: 0.9848 - val_binary_accuracy: 0.9451 - val_loss: 0.1500\n",
      "Epoch 219/250\n",
      "\u001b[1m37/37\u001b[0m \u001b[32m━━━━━━━━━━━━━━━━━━━━\u001b[0m\u001b[37m\u001b[0m \u001b[1m0s\u001b[0m 2ms/step - auc: 0.9820 - binary_accuracy: 0.9256 - loss: 0.1590 - val_auc: 0.9846 - val_binary_accuracy: 0.9451 - val_loss: 0.1510\n",
      "Epoch 220/250\n",
      "\u001b[1m37/37\u001b[0m \u001b[32m━━━━━━━━━━━━━━━━━━━━\u001b[0m\u001b[37m\u001b[0m \u001b[1m0s\u001b[0m 2ms/step - auc: 0.9793 - binary_accuracy: 0.9076 - loss: 0.1774 - val_auc: 0.9848 - val_binary_accuracy: 0.9231 - val_loss: 0.1863\n",
      "Epoch 221/250\n",
      "\u001b[1m37/37\u001b[0m \u001b[32m━━━━━━━━━━━━━━━━━━━━\u001b[0m\u001b[37m\u001b[0m \u001b[1m0s\u001b[0m 3ms/step - auc: 0.9850 - binary_accuracy: 0.9397 - loss: 0.1616 - val_auc: 0.9846 - val_binary_accuracy: 0.9451 - val_loss: 0.1488\n",
      "Epoch 222/250\n",
      "\u001b[1m37/37\u001b[0m \u001b[32m━━━━━━━━━━━━━━━━━━━━\u001b[0m\u001b[37m\u001b[0m \u001b[1m0s\u001b[0m 3ms/step - auc: 0.9798 - binary_accuracy: 0.9256 - loss: 0.1823 - val_auc: 0.9846 - val_binary_accuracy: 0.9451 - val_loss: 0.1527\n",
      "Epoch 223/250\n",
      "\u001b[1m37/37\u001b[0m \u001b[32m━━━━━━━━━━━━━━━━━━━━\u001b[0m\u001b[37m\u001b[0m \u001b[1m0s\u001b[0m 3ms/step - auc: 0.9914 - binary_accuracy: 0.9568 - loss: 0.1286 - val_auc: 0.9843 - val_binary_accuracy: 0.9451 - val_loss: 0.1467\n",
      "Epoch 224/250\n",
      "\u001b[1m37/37\u001b[0m \u001b[32m━━━━━━━━━━━━━━━━━━━━\u001b[0m\u001b[37m\u001b[0m \u001b[1m0s\u001b[0m 2ms/step - auc: 0.9845 - binary_accuracy: 0.9309 - loss: 0.1516 - val_auc: 0.9848 - val_binary_accuracy: 0.9121 - val_loss: 0.1723\n",
      "Epoch 225/250\n",
      "\u001b[1m37/37\u001b[0m \u001b[32m━━━━━━━━━━━━━━━━━━━━\u001b[0m\u001b[37m\u001b[0m \u001b[1m0s\u001b[0m 2ms/step - auc: 0.9860 - binary_accuracy: 0.9443 - loss: 0.1469 - val_auc: 0.9848 - val_binary_accuracy: 0.9121 - val_loss: 0.1669\n",
      "Epoch 226/250\n",
      "\u001b[1m37/37\u001b[0m \u001b[32m━━━━━━━━━━━━━━━━━━━━\u001b[0m\u001b[37m\u001b[0m \u001b[1m0s\u001b[0m 3ms/step - auc: 0.9792 - binary_accuracy: 0.9046 - loss: 0.2060 - val_auc: 0.9836 - val_binary_accuracy: 0.9560 - val_loss: 0.1457\n",
      "Epoch 227/250\n",
      "\u001b[1m37/37\u001b[0m \u001b[32m━━━━━━━━━━━━━━━━━━━━\u001b[0m\u001b[37m\u001b[0m \u001b[1m0s\u001b[0m 3ms/step - auc: 0.9871 - binary_accuracy: 0.9591 - loss: 0.1227 - val_auc: 0.9843 - val_binary_accuracy: 0.9341 - val_loss: 0.1556\n",
      "Epoch 228/250\n",
      "\u001b[1m37/37\u001b[0m \u001b[32m━━━━━━━━━━━━━━━━━━━━\u001b[0m\u001b[37m\u001b[0m \u001b[1m0s\u001b[0m 3ms/step - auc: 0.9901 - binary_accuracy: 0.9376 - loss: 0.1390 - val_auc: 0.9848 - val_binary_accuracy: 0.9121 - val_loss: 0.1705\n",
      "Epoch 229/250\n",
      "\u001b[1m37/37\u001b[0m \u001b[32m━━━━━━━━━━━━━━━━━━━━\u001b[0m\u001b[37m\u001b[0m \u001b[1m0s\u001b[0m 3ms/step - auc: 0.9876 - binary_accuracy: 0.9564 - loss: 0.1289 - val_auc: 0.9848 - val_binary_accuracy: 0.9231 - val_loss: 0.1606\n",
      "Epoch 230/250\n",
      "\u001b[1m37/37\u001b[0m \u001b[32m━━━━━━━━━━━━━━━━━━━━\u001b[0m\u001b[37m\u001b[0m \u001b[1m0s\u001b[0m 3ms/step - auc: 0.9863 - binary_accuracy: 0.9435 - loss: 0.1471 - val_auc: 0.9833 - val_binary_accuracy: 0.9341 - val_loss: 0.1622\n",
      "Epoch 231/250\n",
      "\u001b[1m37/37\u001b[0m \u001b[32m━━━━━━━━━━━━━━━━━━━━\u001b[0m\u001b[37m\u001b[0m \u001b[1m0s\u001b[0m 3ms/step - auc: 0.9843 - binary_accuracy: 0.9315 - loss: 0.1596 - val_auc: 0.9851 - val_binary_accuracy: 0.9231 - val_loss: 0.1878\n",
      "Epoch 232/250\n",
      "\u001b[1m37/37\u001b[0m \u001b[32m━━━━━━━━━━━━━━━━━━━━\u001b[0m\u001b[37m\u001b[0m \u001b[1m0s\u001b[0m 2ms/step - auc: 0.9863 - binary_accuracy: 0.9326 - loss: 0.1594 - val_auc: 0.9836 - val_binary_accuracy: 0.9451 - val_loss: 0.1447\n",
      "Epoch 233/250\n",
      "\u001b[1m37/37\u001b[0m \u001b[32m━━━━━━━━━━━━━━━━━━━━\u001b[0m\u001b[37m\u001b[0m \u001b[1m0s\u001b[0m 3ms/step - auc: 0.9861 - binary_accuracy: 0.9317 - loss: 0.1476 - val_auc: 0.9851 - val_binary_accuracy: 0.9121 - val_loss: 0.1769\n",
      "Epoch 234/250\n",
      "\u001b[1m37/37\u001b[0m \u001b[32m━━━━━━━━━━━━━━━━━━━━\u001b[0m\u001b[37m\u001b[0m \u001b[1m0s\u001b[0m 2ms/step - auc: 0.9823 - binary_accuracy: 0.9302 - loss: 0.1759 - val_auc: 0.9841 - val_binary_accuracy: 0.9451 - val_loss: 0.1513\n",
      "Epoch 235/250\n"
     ]
    },
    {
     "name": "stdout",
     "output_type": "stream",
     "text": [
      "\u001b[1m37/37\u001b[0m \u001b[32m━━━━━━━━━━━━━━━━━━━━\u001b[0m\u001b[37m\u001b[0m \u001b[1m0s\u001b[0m 2ms/step - auc: 0.9896 - binary_accuracy: 0.9321 - loss: 0.1376 - val_auc: 0.9833 - val_binary_accuracy: 0.9451 - val_loss: 0.1437\n",
      "Epoch 236/250\n",
      "\u001b[1m37/37\u001b[0m \u001b[32m━━━━━━━━━━━━━━━━━━━━\u001b[0m\u001b[37m\u001b[0m \u001b[1m0s\u001b[0m 2ms/step - auc: 0.9864 - binary_accuracy: 0.9314 - loss: 0.1626 - val_auc: 0.9848 - val_binary_accuracy: 0.9231 - val_loss: 0.1558\n",
      "Epoch 237/250\n",
      "\u001b[1m37/37\u001b[0m \u001b[32m━━━━━━━━━━━━━━━━━━━━\u001b[0m\u001b[37m\u001b[0m \u001b[1m0s\u001b[0m 3ms/step - auc: 0.9867 - binary_accuracy: 0.9391 - loss: 0.1551 - val_auc: 0.9854 - val_binary_accuracy: 0.9451 - val_loss: 0.1503\n",
      "Epoch 238/250\n",
      "\u001b[1m37/37\u001b[0m \u001b[32m━━━━━━━━━━━━━━━━━━━━\u001b[0m\u001b[37m\u001b[0m \u001b[1m0s\u001b[0m 2ms/step - auc: 0.9872 - binary_accuracy: 0.9300 - loss: 0.1552 - val_auc: 0.9838 - val_binary_accuracy: 0.9451 - val_loss: 0.1432\n",
      "Epoch 239/250\n",
      "\u001b[1m37/37\u001b[0m \u001b[32m━━━━━━━━━━━━━━━━━━━━\u001b[0m\u001b[37m\u001b[0m \u001b[1m0s\u001b[0m 2ms/step - auc: 0.9839 - binary_accuracy: 0.9293 - loss: 0.1591 - val_auc: 0.9846 - val_binary_accuracy: 0.9451 - val_loss: 0.1443\n",
      "Epoch 240/250\n",
      "\u001b[1m37/37\u001b[0m \u001b[32m━━━━━━━━━━━━━━━━━━━━\u001b[0m\u001b[37m\u001b[0m \u001b[1m0s\u001b[0m 2ms/step - auc: 0.9832 - binary_accuracy: 0.9299 - loss: 0.1592 - val_auc: 0.9836 - val_binary_accuracy: 0.9341 - val_loss: 0.1838\n",
      "Epoch 241/250\n",
      "\u001b[1m37/37\u001b[0m \u001b[32m━━━━━━━━━━━━━━━━━━━━\u001b[0m\u001b[37m\u001b[0m \u001b[1m0s\u001b[0m 2ms/step - auc: 0.9800 - binary_accuracy: 0.9148 - loss: 0.1982 - val_auc: 0.9854 - val_binary_accuracy: 0.9231 - val_loss: 0.1558\n",
      "Epoch 242/250\n",
      "\u001b[1m37/37\u001b[0m \u001b[32m━━━━━━━━━━━━━━━━━━━━\u001b[0m\u001b[37m\u001b[0m \u001b[1m0s\u001b[0m 3ms/step - auc: 0.9845 - binary_accuracy: 0.9511 - loss: 0.1429 - val_auc: 0.9841 - val_binary_accuracy: 0.9451 - val_loss: 0.1439\n",
      "Epoch 243/250\n",
      "\u001b[1m37/37\u001b[0m \u001b[32m━━━━━━━━━━━━━━━━━━━━\u001b[0m\u001b[37m\u001b[0m \u001b[1m0s\u001b[0m 2ms/step - auc: 0.9902 - binary_accuracy: 0.9547 - loss: 0.1244 - val_auc: 0.9851 - val_binary_accuracy: 0.9451 - val_loss: 0.1522\n",
      "Epoch 244/250\n",
      "\u001b[1m37/37\u001b[0m \u001b[32m━━━━━━━━━━━━━━━━━━━━\u001b[0m\u001b[37m\u001b[0m \u001b[1m0s\u001b[0m 3ms/step - auc: 0.9850 - binary_accuracy: 0.9453 - loss: 0.1531 - val_auc: 0.9856 - val_binary_accuracy: 0.9451 - val_loss: 0.1497\n",
      "Epoch 245/250\n",
      "\u001b[1m37/37\u001b[0m \u001b[32m━━━━━━━━━━━━━━━━━━━━\u001b[0m\u001b[37m\u001b[0m \u001b[1m0s\u001b[0m 3ms/step - auc: 0.9866 - binary_accuracy: 0.9523 - loss: 0.1566 - val_auc: 0.9833 - val_binary_accuracy: 0.9451 - val_loss: 0.1530\n",
      "Epoch 246/250\n",
      "\u001b[1m37/37\u001b[0m \u001b[32m━━━━━━━━━━━━━━━━━━━━\u001b[0m\u001b[37m\u001b[0m \u001b[1m0s\u001b[0m 3ms/step - auc: 0.9805 - binary_accuracy: 0.9112 - loss: 0.1772 - val_auc: 0.9859 - val_binary_accuracy: 0.9451 - val_loss: 0.1473\n",
      "Epoch 247/250\n",
      "\u001b[1m37/37\u001b[0m \u001b[32m━━━━━━━━━━━━━━━━━━━━\u001b[0m\u001b[37m\u001b[0m \u001b[1m0s\u001b[0m 3ms/step - auc: 0.9893 - binary_accuracy: 0.9396 - loss: 0.1406 - val_auc: 0.9843 - val_binary_accuracy: 0.9451 - val_loss: 0.1424\n",
      "Epoch 248/250\n",
      "\u001b[1m37/37\u001b[0m \u001b[32m━━━━━━━━━━━━━━━━━━━━\u001b[0m\u001b[37m\u001b[0m \u001b[1m0s\u001b[0m 3ms/step - auc: 0.9806 - binary_accuracy: 0.9155 - loss: 0.1775 - val_auc: 0.9841 - val_binary_accuracy: 0.9451 - val_loss: 0.1424\n",
      "Epoch 249/250\n",
      "\u001b[1m37/37\u001b[0m \u001b[32m━━━━━━━━━━━━━━━━━━━━\u001b[0m\u001b[37m\u001b[0m \u001b[1m0s\u001b[0m 2ms/step - auc: 0.9897 - binary_accuracy: 0.9377 - loss: 0.1368 - val_auc: 0.9851 - val_binary_accuracy: 0.9451 - val_loss: 0.1467\n",
      "Epoch 250/250\n",
      "\u001b[1m37/37\u001b[0m \u001b[32m━━━━━━━━━━━━━━━━━━━━\u001b[0m\u001b[37m\u001b[0m \u001b[1m0s\u001b[0m 2ms/step - auc: 0.9829 - binary_accuracy: 0.9355 - loss: 0.1531 - val_auc: 0.9851 - val_binary_accuracy: 0.9231 - val_loss: 0.1565\n"
     ]
    }
   ],
   "source": [
    "history = model.fit(x=X_train,y=y_train, epochs=250, batch_size=10, validation_data=(X_val,np.expand_dims(y_val,-1)))"
   ]
  },
  {
   "cell_type": "code",
   "execution_count": 17,
   "id": "e9d00413",
   "metadata": {},
   "outputs": [
    {
     "data": {
      "text/plain": [
       "<matplotlib.legend.Legend at 0x21adfea92b0>"
      ]
     },
     "execution_count": 17,
     "metadata": {},
     "output_type": "execute_result"
    },
    {
     "data": {
      "image/png": "[encoded data removed]",
      "text/plain": [
       "<Figure size 864x576 with 1 Axes>"
      ]
     },
     "metadata": {
      "needs_background": "light"
     },
     "output_type": "display_data"
    }
   ],
   "source": [
    "plt.figure(figsize=(12,8))\n",
    "plt.plot(history.history[\"loss\"], label=\"train_loss\")\n",
    "plt.plot(history.history[\"val_loss\"], label=\"val_loss\")\n",
    "plt.legend()"
   ]
  },
  {
   "cell_type": "code",
   "execution_count": 18,
   "id": "dff8ad84",
   "metadata": {},
   "outputs": [
    {
     "data": {
      "text/plain": [
       "<matplotlib.legend.Legend at 0x21adff23640>"
      ]
     },
     "execution_count": 18,
     "metadata": {},
     "output_type": "execute_result"
    },
    {
     "data": {
      "image/png": "[encoded data removed]",
      "text/plain": [
       "<Figure size 864x576 with 1 Axes>"
      ]
     },
     "metadata": {
      "needs_background": "light"
     },
     "output_type": "display_data"
    }
   ],
   "source": [
    "plt.figure(figsize=(12,8))\n",
    "plt.plot(history.history[\"auc\"], label=\"train AUROC\")\n",
    "plt.plot(history.history[\"val_auc\"], label=\"val AUROC\")\n",
    "plt.legend()"
   ]
  },
  {
   "cell_type": "code",
   "execution_count": 19,
   "id": "9da2bcf6",
   "metadata": {},
   "outputs": [
    {
     "name": "stdout",
     "output_type": "stream",
     "text": [
      "\u001b[1m4/4\u001b[0m \u001b[32m━━━━━━━━━━━━━━━━━━━━\u001b[0m\u001b[37m\u001b[0m \u001b[1m0s\u001b[0m 10ms/step\n"
     ]
    }
   ],
   "source": [
    "y_test_hat = model.predict(X_test)"
   ]
  },
  {
   "cell_type": "code",
   "execution_count": 21,
   "id": "7c0683de",
   "metadata": {},
   "outputs": [
    {
     "name": "stdout",
     "output_type": "stream",
     "text": [
      "Nevralt nettverk:\n",
      "Nøyaktighet =  0.97\n",
      "Sensitivitet =  0.99\n",
      "Spesifisitet =  0.95\n",
      "Presisjon =  0.97\n",
      "F1-score =  0.98\n"
     ]
    }
   ],
   "source": [
    "print(\"Nevralt nettverk:\")\n",
    "print(\"Nøyaktighet = \", round(accuracy_score(y_test,(y_test_hat>0.5)*1),2))\n",
    "print(\"Sensitivitet = \",recall_score(y_test,(y_test_hat>0.5)*1,pos_label=1).round(2))\n",
    "print(\"Spesifisitet = \",recall_score(y_test,(y_test_hat>0.5)*1,pos_label=0).round(2))\n",
    "print(\"Presisjon = \",precision_score(y_test,(y_test_hat>0.5)*1).round(2))\n",
    "print(\"F1-score = \",f1_score(y_test,(y_test_hat>0.5)*1).round(2))"
   ]
  },
  {
   "cell_type": "code",
   "execution_count": 22,
   "id": "1d8b50bb",
   "metadata": {},
   "outputs": [
    {
     "name": "stdout",
     "output_type": "stream",
     "text": [
      "LogReg:\n",
      "Nøyaktighet =  0.96\n",
      "Sensitivitet =  0.99\n",
      "Spesifisitet =  0.99\n",
      "Presisjon =  0.96\n",
      "F1-score =  0.97\n"
     ]
    },
    {
     "name": "stderr",
     "output_type": "stream",
     "text": [
      "C:\\Users\\Bjorn\\anaconda3\\envs\\new_tf\\lib\\site-packages\\sklearn\\linear_model\\_logistic.py:469: ConvergenceWarning: lbfgs failed to converge (status=1):\n",
      "STOP: TOTAL NO. of ITERATIONS REACHED LIMIT.\n",
      "\n",
      "Increase the number of iterations (max_iter) or scale the data as shown in:\n",
      "    https://scikit-learn.org/stable/modules/preprocessing.html\n",
      "Please also refer to the documentation for alternative solver options:\n",
      "    https://scikit-learn.org/stable/modules/linear_model.html#logistic-regression\n",
      "  n_iter_i = _check_optimize_result(\n"
     ]
    }
   ],
   "source": [
    "from sklearn.linear_model import LogisticRegression\n",
    "logreg = LogisticRegression()\n",
    "logreg.fit(X_train,y_train)\n",
    "y_hat_logreg = logreg.predict(X_test)\n",
    "\n",
    "print(\"LogReg:\")\n",
    "print(\"Nøyaktighet = \", round(accuracy_score(y_test,y_hat_logreg),2))\n",
    "print(\"Sensitivitet = \",recall_score(y_test,y_hat_logreg).round(2))\n",
    "print(\"Spesifisitet = \",recall_score(y_test,y_hat_logreg).round(2))\n",
    "print(\"Presisjon = \",precision_score(y_test,y_hat_logreg).round(2))\n",
    "print(\"F1-score = \",f1_score(y_test,y_hat_logreg).round(2))"
   ]
  },
  {
   "cell_type": "code",
   "execution_count": null,
   "id": "76d5e980",
   "metadata": {},
   "outputs": [],
   "source": []
  }
 ],
 "metadata": {
  "kernelspec": {
   "display_name": "Python 3 (ipykernel)",
   "language": "python",
   "name": "python3"
  },
  "language_info": {
   "codemirror_mode": {
    "name": "ipython",
    "version": 3
   },
   "file_extension": ".py",
   "mimetype": "text/x-python",
   "name": "python",
   "nbconvert_exporter": "python",
   "pygments_lexer": "ipython3",
   "version": "3.9.12"
  }
 },
 "nbformat": 4,
 "nbformat_minor": 5
}
