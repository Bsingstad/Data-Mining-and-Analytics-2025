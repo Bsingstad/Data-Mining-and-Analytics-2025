{
 "cells": [
  {
   "cell_type": "code",
   "execution_count": null,
   "id": "cc5fa8f2",
   "metadata": {},
   "outputs": [],
   "source": [
    "import numpy as np\n",
    "import seaborn as sns\n",
    "import matplotlib.pyplot as plt\n",
    "from scipy import stats\n",
    "\n",
    "# Last inn datasettet\n",
    "penguins = sns.load_dataset(\"penguins\")\n",
    "\n",
    "# Velg ut kolonnen 'body_mass_g' og dropp manglende verdier\n",
    "data = penguins['body_mass_g'].dropna()\n",
    "\n",
    "# Trekk et tilfeldig utvalg på 50 observasjoner\n",
    "np.random.seed(42)  # for reproduserbarhet\n",
    "sample = np.random.choice(data, size=50, replace=False)\n",
    "\n",
    "# --- Bootstrap ---\n",
    "n_boot = 1000\n",
    "boot_means = []\n",
    "\n",
    "for _ in range(n_boot):\n",
    "    resample = np.random.choice(sample, size=len(sample), replace=True)\n",
    "    boot_means.append(np.mean(resample))\n",
    "\n",
    "boot_means = np.array(boot_means)\n",
    "\n",
    "# 95% bootstrap CI (percentilmetoden)\n",
    "ci_lower, ci_upper = np.percentile(boot_means, [2.5, 97.5])\n",
    "\n",
    "# --- Normalantakelsen ---\n",
    "sample_mean = np.mean(sample)\n",
    "sample_std = np.std(sample, ddof=1)\n",
    "n = len(sample)\n",
    "\n",
    "se = sample_std / np.sqrt(n)\n",
    "ci_norm = stats.t.interval(0.95, df=n-1, loc=sample_mean, scale=se)\n",
    "\n",
    "# --- Resultater ---\n",
    "print(f\"Utvalgsgjennomsnitt: {sample_mean:.2f}\")\n",
    "print(f\"Bootstrap 95% CI: ({ci_lower:.2f}, {ci_upper:.2f})\")\n",
    "print(f\"Normalantakelse 95% CI: ({ci_norm[0]:.2f}, {ci_norm[1]:.2f})\")\n",
    "\n",
    "# --- Plot ---\n",
    "plt.figure(figsize=(8,5))\n",
    "sns.histplot(boot_means, bins=30, kde=True, color=\"skyblue\")\n",
    "plt.axvline(ci_lower, color='red', linestyle='--', label=\"Bootstrap CI nedre\")\n",
    "plt.axvline(ci_upper, color='red', linestyle='--', label=\"Bootstrap CI øvre\")\n",
    "plt.axvline(ci_norm[0], color='green', linestyle=':', label=\"Normal CI nedre\")\n",
    "plt.axvline(ci_norm[1], color='green', linestyle=':', label=\"Normal CI øvre\")\n",
    "plt.axvline(sample_mean, color='black', linestyle='-', label=\"Utvalgsgjennomsnitt\")\n",
    "plt.legend()\n",
    "plt.title(\"Bootstrap-fordeling av gjennomsnittet\")\n",
    "plt.show()\n"
   ]
  }
 ],
 "metadata": {
  "kernelspec": {
   "display_name": "Python 3 (ipykernel)",
   "language": "python",
   "name": "python3"
  },
  "language_info": {
   "codemirror_mode": {
    "name": "ipython",
    "version": 3
   },
   "file_extension": ".py",
   "mimetype": "text/x-python",
   "name": "python",
   "nbconvert_exporter": "python",
   "pygments_lexer": "ipython3",
   "version": "3.8.5"
  }
 },
 "nbformat": 4,
 "nbformat_minor": 5
}
